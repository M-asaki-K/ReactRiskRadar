{
 "cells": [
  {
   "cell_type": "markdown",
   "metadata": {},
   "source": [
    "## 混合混触危険性予測テスト（2024.2作成）\n",
    "\n",
    "畠山先生のアルゴリズムをもとに、混合混触危険性の予測に用いた最初のファイルです。この時点では理由生成をGPT-3.5に全て任せていました。また、予測結果は3値（Compatible, Caution, Incompatible）としていました。"
   ]
  },
  {
   "cell_type": "code",
   "execution_count": null,
   "metadata": {},
   "outputs": [],
   "source": [
    "# 一通り動かしてみる\n",
    "\n",
    "#ライブラリの自動インポート\n",
    "%reload_ext autoreload\n",
    "%autoreload 2"
   ]
  },
  {
   "cell_type": "code",
   "execution_count": 1,
   "metadata": {},
   "outputs": [],
   "source": [
    "import pandas as pd\n",
    "import openai\n",
    "from tqdm import tqdm\n",
    "from src.utils.GPT import json_generate\n",
    "from src.qra_gen import generate_reason_and_predict_mixture"
   ]
  },
  {
   "cell_type": "code",
   "execution_count": 2,
   "metadata": {},
   "outputs": [],
   "source": [
    "#api_key\n",
    "openai.api_key = \"api_key\""
   ]
  },
  {
   "cell_type": "code",
   "execution_count": 3,
   "metadata": {},
   "outputs": [
    {
     "data": {
      "text/plain": [
       "[{'substance1': 'CARBON, ACTIVATED',\n",
       "  'substance2': 'FERRIC SULFATE',\n",
       "  'result': 'Compatible'},\n",
       " {'substance1': 'ALUMINUM ALKYL HYDRIDES',\n",
       "  'substance2': 'FERRIC NITRATE',\n",
       "  'result': 'Incompatible'},\n",
       " {'substance1': 'CARBON, ACTIVATED',\n",
       "  'substance2': 'METHANE',\n",
       "  'result': 'Compatible'},\n",
       " {'substance1': 'AIR, COMPRESSED',\n",
       "  'substance2': 'WATER',\n",
       "  'result': 'Compatible'},\n",
       " {'substance1': 'ALUMINUM ALKYL HYDRIDES',\n",
       "  'substance2': 'WATER',\n",
       "  'result': 'Incompatible'},\n",
       " {'substance1': 'FERRIC SULFATE',\n",
       "  'substance2': 'IRON OXIDE, SPENT',\n",
       "  'result': 'Incompatible'},\n",
       " {'substance1': 'FERRIC NITRATE',\n",
       "  'substance2': 'IRON, [POWDERED]',\n",
       "  'result': 'Incompatible'},\n",
       " {'substance1': 'ETHANOL',\n",
       "  'substance2': 'PROPIONALDEHYDE',\n",
       "  'result': 'Caution'},\n",
       " {'substance1': 'CARBON, ACTIVATED',\n",
       "  'substance2': 'FERRIC CHLORIDE',\n",
       "  'result': 'Compatible'},\n",
       " {'substance1': 'IRON OXIDE, SPENT',\n",
       "  'substance2': 'WATER',\n",
       "  'result': 'Incompatible'},\n",
       " {'substance1': 'PROPIONALDEHYDE',\n",
       "  'substance2': 'SULFUROUS ACID',\n",
       "  'result': 'Incompatible'},\n",
       " {'substance1': 'ALUMINUM ALKYL HYDRIDES',\n",
       "  'substance2': 'ETHANOL',\n",
       "  'result': 'Incompatible'},\n",
       " {'substance1': 'CARBON, ACTIVATED',\n",
       "  'substance2': 'IRON, [POWDERED]',\n",
       "  'result': 'Incompatible'},\n",
       " {'substance1': 'ALUMINUM ALKYL HYDRIDES',\n",
       "  'substance2': 'IRON OXIDE, SPENT',\n",
       "  'result': 'Incompatible'},\n",
       " {'substance1': 'METHANE',\n",
       "  'substance2': 'SULFUROUS ACID',\n",
       "  'result': 'Compatible'},\n",
       " {'substance1': 'ETHANOL', 'substance2': 'HYDROGEN', 'result': 'Caution'},\n",
       " {'substance1': 'FERRIC NITRATE',\n",
       "  'substance2': 'WATER',\n",
       "  'result': 'Compatible'},\n",
       " {'substance1': 'CARBON, ACTIVATED',\n",
       "  'substance2': 'SULFUROUS ACID',\n",
       "  'result': 'Compatible'},\n",
       " {'substance1': 'AIR, COMPRESSED',\n",
       "  'substance2': 'ETHANOL',\n",
       "  'result': 'Caution'},\n",
       " {'substance1': 'IRON OXIDE, SPENT',\n",
       "  'substance2': 'IRON, [POWDERED]',\n",
       "  'result': 'Incompatible'},\n",
       " {'substance1': 'AIR, COMPRESSED',\n",
       "  'substance2': 'HYDROGEN',\n",
       "  'result': 'Caution'},\n",
       " {'substance1': 'FERRIC CHLORIDE',\n",
       "  'substance2': 'PROPIONALDEHYDE',\n",
       "  'result': 'Incompatible'},\n",
       " {'substance1': 'HYDROGEN', 'substance2': 'WATER', 'result': 'Compatible'},\n",
       " {'substance1': 'FERRIC SULFATE',\n",
       "  'substance2': 'SULFUROUS ACID',\n",
       "  'result': 'Caution'},\n",
       " {'substance1': 'FERRIC SULFATE',\n",
       "  'substance2': 'HYDROGEN',\n",
       "  'result': 'Compatible'},\n",
       " {'substance1': 'IRON, [POWDERED]',\n",
       "  'substance2': 'METHANE',\n",
       "  'result': 'Compatible'},\n",
       " {'substance1': 'ETHANOL',\n",
       "  'substance2': 'IRON, [POWDERED]',\n",
       "  'result': 'Incompatible'},\n",
       " {'substance1': 'AIR, COMPRESSED',\n",
       "  'substance2': 'PROPIONALDEHYDE',\n",
       "  'result': 'Incompatible'},\n",
       " {'substance1': 'FERRIC CHLORIDE',\n",
       "  'substance2': 'FERRIC NITRATE',\n",
       "  'result': 'Incompatible'},\n",
       " {'substance1': 'HYDROGEN',\n",
       "  'substance2': 'PROPIONALDEHYDE',\n",
       "  'result': 'Incompatible'},\n",
       " {'substance1': 'FERRIC SULFATE',\n",
       "  'substance2': 'METHANE',\n",
       "  'result': 'Compatible'},\n",
       " {'substance1': 'METHANE',\n",
       "  'substance2': 'PROPIONALDEHYDE',\n",
       "  'result': 'Caution'},\n",
       " {'substance1': 'ALUMINUM ALKYL HYDRIDES',\n",
       "  'substance2': 'CARBON, ACTIVATED',\n",
       "  'result': 'Incompatible'},\n",
       " {'substance1': 'ETHANOL', 'substance2': 'WATER', 'result': 'Compatible'},\n",
       " {'substance1': 'HYDROGEN', 'substance2': 'METHANE', 'result': 'Compatible'},\n",
       " {'substance1': 'FERRIC SULFATE',\n",
       "  'substance2': 'PROPIONALDEHYDE',\n",
       "  'result': 'Incompatible'},\n",
       " {'substance1': 'FERRIC NITRATE',\n",
       "  'substance2': 'SULFUROUS ACID',\n",
       "  'result': 'Incompatible'},\n",
       " {'substance1': 'ALUMINUM ALKYL HYDRIDES',\n",
       "  'substance2': 'PROPIONALDEHYDE',\n",
       "  'result': 'Incompatible'},\n",
       " {'substance1': 'METHANE', 'substance2': 'WATER', 'result': 'Compatible'},\n",
       " {'substance1': 'IRON OXIDE, SPENT',\n",
       "  'substance2': 'METHANE',\n",
       "  'result': 'Compatible'},\n",
       " {'substance1': 'AIR, COMPRESSED',\n",
       "  'substance2': 'ALUMINUM ALKYL HYDRIDES',\n",
       "  'result': 'Incompatible'},\n",
       " {'substance1': 'FERRIC CHLORIDE',\n",
       "  'substance2': 'FERRIC SULFATE',\n",
       "  'result': 'Caution'},\n",
       " {'substance1': 'CARBON, ACTIVATED',\n",
       "  'substance2': 'IRON OXIDE, SPENT',\n",
       "  'result': 'Compatible'},\n",
       " {'substance1': 'AIR, COMPRESSED',\n",
       "  'substance2': 'IRON OXIDE, SPENT',\n",
       "  'result': 'Incompatible'},\n",
       " {'substance1': 'FERRIC CHLORIDE',\n",
       "  'substance2': 'IRON, [POWDERED]',\n",
       "  'result': 'Incompatible'},\n",
       " {'substance1': 'AIR, COMPRESSED',\n",
       "  'substance2': 'IRON, [POWDERED]',\n",
       "  'result': 'Incompatible'},\n",
       " {'substance1': 'AIR, COMPRESSED',\n",
       "  'substance2': 'SULFUROUS ACID',\n",
       "  'result': 'Caution'},\n",
       " {'substance1': 'FERRIC CHLORIDE',\n",
       "  'substance2': 'SULFUROUS ACID',\n",
       "  'result': 'Compatible'},\n",
       " {'substance1': 'AIR, COMPRESSED',\n",
       "  'substance2': 'METHANE',\n",
       "  'result': 'Compatible'},\n",
       " {'substance1': 'AIR, COMPRESSED',\n",
       "  'substance2': 'FERRIC CHLORIDE',\n",
       "  'result': 'Caution'},\n",
       " {'substance1': 'ALUMINUM ALKYL HYDRIDES',\n",
       "  'substance2': 'SULFUROUS ACID',\n",
       "  'result': 'Incompatible'},\n",
       " {'substance1': 'SULFUROUS ACID', 'substance2': 'WATER', 'result': 'Caution'},\n",
       " {'substance1': 'HYDROGEN',\n",
       "  'substance2': 'SULFUROUS ACID',\n",
       "  'result': 'Compatible'},\n",
       " {'substance1': 'ETHANOL', 'substance2': 'METHANE', 'result': 'Compatible'},\n",
       " {'substance1': 'ETHANOL',\n",
       "  'substance2': 'FERRIC CHLORIDE',\n",
       "  'result': 'Caution'},\n",
       " {'substance1': 'IRON, [POWDERED]',\n",
       "  'substance2': 'WATER',\n",
       "  'result': 'Incompatible'},\n",
       " {'substance1': 'FERRIC SULFATE',\n",
       "  'substance2': 'IRON, [POWDERED]',\n",
       "  'result': 'Incompatible'},\n",
       " {'substance1': 'FERRIC NITRATE',\n",
       "  'substance2': 'METHANE',\n",
       "  'result': 'Caution'},\n",
       " {'substance1': 'ALUMINUM ALKYL HYDRIDES',\n",
       "  'substance2': 'FERRIC CHLORIDE',\n",
       "  'result': 'Incompatible'},\n",
       " {'substance1': 'AIR, COMPRESSED',\n",
       "  'substance2': 'FERRIC NITRATE',\n",
       "  'result': 'Caution'},\n",
       " {'substance1': 'IRON, [POWDERED]',\n",
       "  'substance2': 'SULFUROUS ACID',\n",
       "  'result': 'Incompatible'},\n",
       " {'substance1': 'AIR, COMPRESSED',\n",
       "  'substance2': 'CARBON, ACTIVATED',\n",
       "  'result': 'Caution'},\n",
       " {'substance1': 'ALUMINUM ALKYL HYDRIDES',\n",
       "  'substance2': 'METHANE',\n",
       "  'result': 'Compatible'},\n",
       " {'substance1': 'HYDROGEN',\n",
       "  'substance2': 'IRON, [POWDERED]',\n",
       "  'result': 'Incompatible'},\n",
       " {'substance1': 'ETHANOL',\n",
       "  'substance2': 'SULFUROUS ACID',\n",
       "  'result': 'Caution'},\n",
       " {'substance1': 'FERRIC NITRATE',\n",
       "  'substance2': 'PROPIONALDEHYDE',\n",
       "  'result': 'Incompatible'},\n",
       " {'substance1': 'PROPIONALDEHYDE', 'substance2': 'WATER', 'result': 'Caution'},\n",
       " {'substance1': 'IRON OXIDE, SPENT',\n",
       "  'substance2': 'SULFUROUS ACID',\n",
       "  'result': 'Incompatible'},\n",
       " {'substance1': 'ETHANOL',\n",
       "  'substance2': 'IRON OXIDE, SPENT',\n",
       "  'result': 'Caution'},\n",
       " {'substance1': 'FERRIC SULFATE', 'substance2': 'WATER', 'result': 'Caution'},\n",
       " {'substance1': 'IRON OXIDE, SPENT',\n",
       "  'substance2': 'PROPIONALDEHYDE',\n",
       "  'result': 'Incompatible'},\n",
       " {'substance1': 'FERRIC NITRATE',\n",
       "  'substance2': 'FERRIC SULFATE',\n",
       "  'result': 'Incompatible'},\n",
       " {'substance1': 'ETHANOL',\n",
       "  'substance2': 'FERRIC SULFATE',\n",
       "  'result': 'Compatible'},\n",
       " {'substance1': 'FERRIC CHLORIDE',\n",
       "  'substance2': 'HYDROGEN',\n",
       "  'result': 'Compatible'},\n",
       " {'substance1': 'IRON, [POWDERED]',\n",
       "  'substance2': 'PROPIONALDEHYDE',\n",
       "  'result': 'Incompatible'},\n",
       " {'substance1': 'ALUMINUM ALKYL HYDRIDES',\n",
       "  'substance2': 'FERRIC SULFATE',\n",
       "  'result': 'Incompatible'},\n",
       " {'substance1': 'FERRIC CHLORIDE',\n",
       "  'substance2': 'IRON OXIDE, SPENT',\n",
       "  'result': 'Incompatible'},\n",
       " {'substance1': 'FERRIC CHLORIDE',\n",
       "  'substance2': 'METHANE',\n",
       "  'result': 'Compatible'},\n",
       " {'substance1': 'HYDROGEN',\n",
       "  'substance2': 'IRON OXIDE, SPENT',\n",
       "  'result': 'Compatible'},\n",
       " {'substance1': 'CARBON, ACTIVATED',\n",
       "  'substance2': 'FERRIC NITRATE',\n",
       "  'result': 'Compatible'},\n",
       " {'substance1': 'ALUMINUM ALKYL HYDRIDES',\n",
       "  'substance2': 'IRON, [POWDERED]',\n",
       "  'result': 'Incompatible'},\n",
       " {'substance1': 'CARBON, ACTIVATED',\n",
       "  'substance2': 'HYDROGEN',\n",
       "  'result': 'Compatible'},\n",
       " {'substance1': 'ETHANOL',\n",
       "  'substance2': 'FERRIC NITRATE',\n",
       "  'result': 'Incompatible'},\n",
       " {'substance1': 'ALUMINUM ALKYL HYDRIDES',\n",
       "  'substance2': 'HYDROGEN',\n",
       "  'result': 'Incompatible'},\n",
       " {'substance1': 'FERRIC NITRATE',\n",
       "  'substance2': 'IRON OXIDE, SPENT',\n",
       "  'result': 'Incompatible'},\n",
       " {'substance1': 'AIR, COMPRESSED',\n",
       "  'substance2': 'FERRIC SULFATE',\n",
       "  'result': 'Compatible'},\n",
       " {'substance1': 'CARBON, ACTIVATED',\n",
       "  'substance2': 'PROPIONALDEHYDE',\n",
       "  'result': 'Incompatible'},\n",
       " {'substance1': 'FERRIC CHLORIDE', 'substance2': 'WATER', 'result': 'Caution'},\n",
       " {'substance1': 'FERRIC NITRATE',\n",
       "  'substance2': 'HYDROGEN',\n",
       "  'result': 'Compatible'},\n",
       " {'substance1': 'CARBON, ACTIVATED',\n",
       "  'substance2': 'ETHANOL',\n",
       "  'result': 'Caution'},\n",
       " {'substance1': 'CARBON, ACTIVATED',\n",
       "  'substance2': 'WATER',\n",
       "  'result': 'Compatible'}]"
      ]
     },
     "execution_count": 3,
     "metadata": {},
     "output_type": "execute_result"
    }
   ],
   "source": [
    "#laod dataset as dict\n",
    "csv_path=\"dataset/Updated_Cameo_reactivity_sorted.csv\"\n",
    "df=pd.read_csv(csv_path)\n",
    "df = df.iloc[:,:3]\n",
    "chemical_records=df.to_dict(orient = \"records\")\n",
    "chemical_records"
   ]
  },
  {
   "cell_type": "code",
   "execution_count": 4,
   "metadata": {},
   "outputs": [],
   "source": [
    "#このプロンプトを変更\n",
    "\n",
    "# 質問文を生成するための指示\n",
    "qa_gen_command = \"\"\"\n",
    "Provide the quantitative reasons within 300 words so that a scientist, who does not know the compatibility or reactivity of a mixture, can predict these outcomes.\n",
    "We must quantitatively consider how the combination of substances influences their compatibility or reactivity.\n",
    "I absolutely forbid you to make qualitative generalizations.\n",
    "\n",
    "#Bad example reasons\n",
    "## Its molecular weight compared to simpler compounds, contributing to higher reactivity. (qualitative discussion is practically meaningless!!!)\n",
    "## Therefore, the mixture is highly reactive. (Never include the answer in the reason!!).\n",
    "\n",
    "#Good example reasons\n",
    "## Mixing sodium with water generates a significant amount of heat and hydrogen gas due to the chemical reaction, which can lead to an explosive reaction under certain conditions.\n",
    "## The combination of acetone and bleach creates chloroform and other hazardous compounds due to the chemical reaction between acetone's methyl groups and sodium hypochlorite in bleach.\n",
    "\n",
    "#Output: Reason key\n",
    "\"\"\"\n",
    "\n",
    "# 分子構造から物性を予測するための指示\n",
    "#predict_command = \"\"\"\n",
    "#Predict the compatibility or reactivity of the following mixture.\n",
    "#Consider the quantitative reasons provided and, in any case, output a prediction about the mixture's safety or potential hazards.\n",
    "\n",
    "#Output: Result key\n",
    "#\"\"\"\n",
    "\n",
    "predict_command = \"\"\"\n",
    "Predict the compatibility or reactivity of the following mixture, using only one of the following outcomes: Compatible, Incompatible, Caution. \n",
    "Consider the quantitative reasons provided and make your prediction based on the mixture's safety or potential hazards.\n",
    "\n",
    "#Output: Result key should be one of [Compatible, Incompatible, Caution].\n",
    "\"\"\"\n",
    "\n",
    "\n",
    "#use GPT3.5 completion\n",
    "llm_ask_func=json_generate\n",
    "\n",
    "#if gen_reason=True, generate reason and predict\n",
    "#if gen_reason=False, only predict without reason (for control)\n",
    "#gen_reason=True\n",
    "gen_reason=False\n",
    "\n",
    "#n回のpredictionを行う\n",
    "n_trials=3"
   ]
  },
  {
   "cell_type": "code",
   "execution_count": 7,
   "metadata": {},
   "outputs": [
    {
     "name": "stderr",
     "output_type": "stream",
     "text": [
      "  0%|                                                                                           | 0/91 [00:00<?, ?it/s]"
     ]
    },
    {
     "name": "stdout",
     "output_type": "stream",
     "text": [
      "Hello\n",
      "{'Result': 'Incompatible'}\n",
      "{'Result': 'Incompatible'}\n"
     ]
    },
    {
     "name": "stderr",
     "output_type": "stream",
     "text": [
      "  1%|▉                                                                                  | 1/91 [00:01<02:49,  1.89s/it]"
     ]
    },
    {
     "name": "stdout",
     "output_type": "stream",
     "text": [
      "{'Result': 'Incompatible'}\n",
      "Hello\n",
      "{'Result': 'Incompatible'}\n",
      "{'Result': 'Incompatible'}\n"
     ]
    },
    {
     "name": "stderr",
     "output_type": "stream",
     "text": [
      "  2%|█▊                                                                                 | 2/91 [00:03<02:28,  1.67s/it]"
     ]
    },
    {
     "name": "stdout",
     "output_type": "stream",
     "text": [
      "{'Result': 'Incompatible'}\n",
      "Hello\n",
      "{'Result': 'Incompatible'}\n",
      "{'Result': 'Incompatible'}\n"
     ]
    },
    {
     "name": "stderr",
     "output_type": "stream",
     "text": [
      "  3%|██▋                                                                                | 3/91 [00:04<02:19,  1.58s/it]"
     ]
    },
    {
     "name": "stdout",
     "output_type": "stream",
     "text": [
      "{'Result': 'Incompatible'}\n",
      "Hello\n",
      "{'Result': 'Caution'}\n",
      "{'Result': 'Caution'}\n"
     ]
    },
    {
     "name": "stderr",
     "output_type": "stream",
     "text": [
      "  4%|███▋                                                                               | 4/91 [00:06<02:24,  1.66s/it]"
     ]
    },
    {
     "name": "stdout",
     "output_type": "stream",
     "text": [
      "{'Result': 'Caution'}\n",
      "Hello\n",
      "{'Result': 'Incompatible'}\n",
      "{'Result': 'Incompatible'}\n"
     ]
    },
    {
     "name": "stderr",
     "output_type": "stream",
     "text": [
      "  5%|████▌                                                                              | 5/91 [00:08<02:22,  1.66s/it]"
     ]
    },
    {
     "name": "stdout",
     "output_type": "stream",
     "text": [
      "{'Result': 'Incompatible'}\n",
      "Hello\n",
      "{'Result': 'Caution'}\n",
      "{'Result': 'Compatible'}\n"
     ]
    },
    {
     "name": "stderr",
     "output_type": "stream",
     "text": [
      "  7%|█████▍                                                                             | 6/91 [00:09<02:17,  1.62s/it]"
     ]
    },
    {
     "name": "stdout",
     "output_type": "stream",
     "text": [
      "{'Result': 'Incompatible'}\n",
      "Hello\n",
      "{'Result': 'Incompatible'}\n",
      "{'Result': 'Incompatible'}\n"
     ]
    },
    {
     "name": "stderr",
     "output_type": "stream",
     "text": [
      "  8%|██████▍                                                                            | 7/91 [00:11<02:09,  1.55s/it]"
     ]
    },
    {
     "name": "stdout",
     "output_type": "stream",
     "text": [
      "{'Result': 'Incompatible'}\n",
      "Hello\n",
      "{'Result': 'Caution'}\n",
      "{'Result': 'Caution'}\n"
     ]
    },
    {
     "name": "stderr",
     "output_type": "stream",
     "text": [
      "  9%|███████▎                                                                           | 8/91 [00:13<02:14,  1.62s/it]"
     ]
    },
    {
     "name": "stdout",
     "output_type": "stream",
     "text": [
      "{'Result': 'Compatible'}\n",
      "Hello\n",
      "{'Result': 'Incompatible'}\n",
      "{'Result': 'Incompatible'}\n"
     ]
    },
    {
     "name": "stderr",
     "output_type": "stream",
     "text": [
      " 10%|████████▏                                                                          | 9/91 [00:14<02:06,  1.54s/it]"
     ]
    },
    {
     "name": "stdout",
     "output_type": "stream",
     "text": [
      "{'Result': 'Incompatible'}\n",
      "Hello\n",
      "{'Result': 'Compatible'}\n",
      "{'Result': 'Compatible'}\n"
     ]
    },
    {
     "name": "stderr",
     "output_type": "stream",
     "text": [
      " 11%|█████████                                                                         | 10/91 [00:15<02:00,  1.49s/it]"
     ]
    },
    {
     "name": "stdout",
     "output_type": "stream",
     "text": [
      "{'Result': 'Caution'}\n",
      "Hello\n",
      "{'Result': 'Incompatible'}\n",
      "{'Result': 'Incompatible'}\n"
     ]
    },
    {
     "name": "stderr",
     "output_type": "stream",
     "text": [
      " 12%|█████████▉                                                                        | 11/91 [00:17<01:57,  1.47s/it]"
     ]
    },
    {
     "name": "stdout",
     "output_type": "stream",
     "text": [
      "{'Result': 'Incompatible'}\n",
      "Hello\n",
      "{'Result': 'Incompatible'}\n",
      "{'Result': 'Incompatible'}\n"
     ]
    },
    {
     "name": "stderr",
     "output_type": "stream",
     "text": [
      " 13%|██████████▊                                                                       | 12/91 [00:18<01:51,  1.41s/it]"
     ]
    },
    {
     "name": "stdout",
     "output_type": "stream",
     "text": [
      "{'Result': 'Incompatible'}\n",
      "Hello\n",
      "{'Result': 'Compatible'}\n",
      "{'Result': 'Compatible'}\n"
     ]
    },
    {
     "name": "stderr",
     "output_type": "stream",
     "text": [
      " 14%|███████████▋                                                                      | 13/91 [00:19<01:45,  1.36s/it]"
     ]
    },
    {
     "name": "stdout",
     "output_type": "stream",
     "text": [
      "{'Result': 'Compatible'}\n",
      "Hello\n",
      "{'Result': 'Incompatible'}\n",
      "{'Result': 'Incompatible'}\n"
     ]
    },
    {
     "name": "stderr",
     "output_type": "stream",
     "text": [
      " 15%|████████████▌                                                                     | 14/91 [00:21<01:49,  1.42s/it]"
     ]
    },
    {
     "name": "stdout",
     "output_type": "stream",
     "text": [
      "{'Result': 'Incompatible'}\n",
      "Hello\n",
      "{'Result': 'Incompatible'}\n",
      "{'Result': 'Incompatible'}\n"
     ]
    },
    {
     "name": "stderr",
     "output_type": "stream",
     "text": [
      " 16%|█████████████▌                                                                    | 15/91 [00:22<01:53,  1.49s/it]"
     ]
    },
    {
     "name": "stdout",
     "output_type": "stream",
     "text": [
      "{'Result': 'Incompatible'}\n",
      "Hello\n",
      "{'Result': 'Incompatible'}\n",
      "{'Result': 'Incompatible'}\n"
     ]
    },
    {
     "name": "stderr",
     "output_type": "stream",
     "text": [
      " 18%|██████████████▍                                                                   | 16/91 [00:24<01:46,  1.42s/it]"
     ]
    },
    {
     "name": "stdout",
     "output_type": "stream",
     "text": [
      "{'Result': 'Incompatible'}\n",
      "Hello\n",
      "{'Result': 'Compatible'}\n",
      "{'Result': 'Compatible'}\n"
     ]
    },
    {
     "name": "stderr",
     "output_type": "stream",
     "text": [
      " 19%|███████████████▎                                                                  | 17/91 [00:25<01:42,  1.38s/it]"
     ]
    },
    {
     "name": "stdout",
     "output_type": "stream",
     "text": [
      "{'Result': 'Compatible'}\n",
      "Hello\n",
      "{'Result': 'Incompatible'}\n",
      "{'Result': 'Incompatible'}\n"
     ]
    },
    {
     "name": "stderr",
     "output_type": "stream",
     "text": [
      " 20%|████████████████▏                                                                 | 18/91 [00:26<01:39,  1.36s/it]"
     ]
    },
    {
     "name": "stdout",
     "output_type": "stream",
     "text": [
      "{'Result': 'Incompatible'}\n",
      "Hello\n",
      "{'Result': 'Caution'}\n",
      "{'Result': 'Incompatible'}\n"
     ]
    },
    {
     "name": "stderr",
     "output_type": "stream",
     "text": [
      " 21%|█████████████████                                                                 | 19/91 [00:28<01:37,  1.36s/it]"
     ]
    },
    {
     "name": "stdout",
     "output_type": "stream",
     "text": [
      "{'Result': 'Incompatible'}\n",
      "Hello\n",
      "{'Result': 'Incompatible'}\n",
      "{'Result': 'Incompatible'}\n"
     ]
    },
    {
     "name": "stderr",
     "output_type": "stream",
     "text": [
      " 22%|██████████████████                                                                | 20/91 [00:29<01:33,  1.32s/it]"
     ]
    },
    {
     "name": "stdout",
     "output_type": "stream",
     "text": [
      "{'Result': 'Incompatible'}\n",
      "Hello\n",
      "{'Result': 'Incompatible'}\n",
      "{'Result': 'Incompatible'}\n"
     ]
    },
    {
     "name": "stderr",
     "output_type": "stream",
     "text": [
      " 23%|██████████████████▉                                                               | 21/91 [00:30<01:37,  1.39s/it]"
     ]
    },
    {
     "name": "stdout",
     "output_type": "stream",
     "text": [
      "{'Result': 'Incompatible'}\n",
      "Hello\n",
      "{'Result': 'Incompatible'}\n",
      "{'Result': 'Caution'}\n"
     ]
    },
    {
     "name": "stderr",
     "output_type": "stream",
     "text": [
      " 24%|███████████████████▊                                                              | 22/91 [00:32<01:36,  1.40s/it]"
     ]
    },
    {
     "name": "stdout",
     "output_type": "stream",
     "text": [
      "{'Result': 'Caution'}\n",
      "Hello\n",
      "{'Result': 'Compatible'}\n",
      "{'Result': 'Compatible'}\n"
     ]
    },
    {
     "name": "stderr",
     "output_type": "stream",
     "text": [
      " 25%|████████████████████▋                                                             | 23/91 [00:33<01:36,  1.41s/it]"
     ]
    },
    {
     "name": "stdout",
     "output_type": "stream",
     "text": [
      "{'Result': 'Compatible'}\n",
      "Hello\n",
      "{'Result': 'Incompatible'}\n",
      "{'Result': 'Incompatible'}\n"
     ]
    },
    {
     "name": "stderr",
     "output_type": "stream",
     "text": [
      " 26%|█████████████████████▋                                                            | 24/91 [00:35<01:32,  1.38s/it]"
     ]
    },
    {
     "name": "stdout",
     "output_type": "stream",
     "text": [
      "{'Result': 'Incompatible'}\n",
      "Hello\n",
      "{'Result': 'Incompatible'}\n",
      "{'Result': 'Incompatible'}\n"
     ]
    },
    {
     "name": "stderr",
     "output_type": "stream",
     "text": [
      " 27%|██████████████████████▌                                                           | 25/91 [00:36<01:31,  1.38s/it]"
     ]
    },
    {
     "name": "stdout",
     "output_type": "stream",
     "text": [
      "{'Result': 'Incompatible'}\n",
      "Hello\n",
      "{'Result': 'Incompatible'}\n",
      "{'Result': 'Incompatible'}\n"
     ]
    },
    {
     "name": "stderr",
     "output_type": "stream",
     "text": [
      " 29%|███████████████████████▍                                                          | 26/91 [00:37<01:25,  1.32s/it]"
     ]
    },
    {
     "name": "stdout",
     "output_type": "stream",
     "text": [
      "{'Result': 'Incompatible'}\n",
      "Hello\n",
      "{'Result': 'Caution'}\n",
      "{'Result': 'Caution'}\n"
     ]
    },
    {
     "name": "stderr",
     "output_type": "stream",
     "text": [
      " 30%|████████████████████████▎                                                         | 27/91 [00:38<01:24,  1.32s/it]"
     ]
    },
    {
     "name": "stdout",
     "output_type": "stream",
     "text": [
      "{'Result': 'Incompatible'}\n",
      "Hello\n",
      "{'Result': 'Caution'}\n",
      "{'Result': 'Caution'}\n"
     ]
    },
    {
     "name": "stderr",
     "output_type": "stream",
     "text": [
      " 31%|█████████████████████████▏                                                        | 28/91 [00:40<01:27,  1.39s/it]"
     ]
    },
    {
     "name": "stdout",
     "output_type": "stream",
     "text": [
      "{'Result': 'Incompatible'}\n",
      "Hello\n",
      "{'Result': 'Incompatible'}\n",
      "{'Result': 'Incompatible'}\n"
     ]
    },
    {
     "name": "stderr",
     "output_type": "stream",
     "text": [
      " 32%|██████████████████████████▏                                                       | 29/91 [00:41<01:23,  1.35s/it]"
     ]
    },
    {
     "name": "stdout",
     "output_type": "stream",
     "text": [
      "{'Result': 'Compatible'}\n",
      "Hello\n",
      "{'Result': 'Caution'}\n",
      "{'Result': 'Incompatible'}\n"
     ]
    },
    {
     "name": "stderr",
     "output_type": "stream",
     "text": [
      " 33%|███████████████████████████                                                       | 30/91 [00:43<01:27,  1.44s/it]"
     ]
    },
    {
     "name": "stdout",
     "output_type": "stream",
     "text": [
      "{'Result': 'Incompatible'}\n",
      "Hello\n",
      "{'Result': 'Incompatible'}\n",
      "{'Result': 'Incompatible'}\n"
     ]
    },
    {
     "name": "stderr",
     "output_type": "stream",
     "text": [
      " 34%|███████████████████████████▉                                                      | 31/91 [00:45<01:28,  1.48s/it]"
     ]
    },
    {
     "name": "stdout",
     "output_type": "stream",
     "text": [
      "{'Result': 'Incompatible'}\n",
      "Hello\n",
      "{'Result': 'Caution'}\n",
      "{'Result': 'Incompatible'}\n"
     ]
    },
    {
     "name": "stderr",
     "output_type": "stream",
     "text": [
      " 35%|████████████████████████████▊                                                     | 32/91 [00:46<01:29,  1.51s/it]"
     ]
    },
    {
     "name": "stdout",
     "output_type": "stream",
     "text": [
      "{'Result': 'Caution'}\n",
      "Hello\n",
      "{'Result': 'Incompatible'}\n",
      "{'Result': 'Incompatible'}\n"
     ]
    },
    {
     "name": "stderr",
     "output_type": "stream",
     "text": [
      " 36%|█████████████████████████████▋                                                    | 33/91 [00:47<01:22,  1.42s/it]"
     ]
    },
    {
     "name": "stdout",
     "output_type": "stream",
     "text": [
      "{'Result': 'Incompatible'}\n",
      "Hello\n",
      "{'Result': 'Compatible'}\n",
      "{'Result': 'Compatible'}\n"
     ]
    },
    {
     "name": "stderr",
     "output_type": "stream",
     "text": [
      " 37%|██████████████████████████████▋                                                   | 34/91 [00:49<01:17,  1.37s/it]"
     ]
    },
    {
     "name": "stdout",
     "output_type": "stream",
     "text": [
      "{'Result': 'Compatible'}\n",
      "Hello\n",
      "{'Result': 'Compatible'}\n",
      "{'Result': 'Compatible'}\n"
     ]
    },
    {
     "name": "stderr",
     "output_type": "stream",
     "text": [
      " 38%|███████████████████████████████▌                                                  | 35/91 [00:50<01:17,  1.38s/it]"
     ]
    },
    {
     "name": "stdout",
     "output_type": "stream",
     "text": [
      "{'Result': 'Compatible'}\n",
      "Hello\n",
      "{'Result': 'Incompatible'}\n",
      "{'Result': 'Incompatible'}\n"
     ]
    },
    {
     "name": "stderr",
     "output_type": "stream",
     "text": [
      " 40%|████████████████████████████████▍                                                 | 36/91 [00:52<01:24,  1.54s/it]"
     ]
    },
    {
     "name": "stdout",
     "output_type": "stream",
     "text": [
      "{'Result': 'Incompatible'}\n",
      "Hello\n",
      "{'Result': 'Incompatible'}\n",
      "{'Result': 'Incompatible'}\n"
     ]
    },
    {
     "name": "stderr",
     "output_type": "stream",
     "text": [
      " 41%|█████████████████████████████████▎                                                | 37/91 [00:53<01:24,  1.56s/it]"
     ]
    },
    {
     "name": "stdout",
     "output_type": "stream",
     "text": [
      "{'Result': 'Incompatible'}\n",
      "Hello\n",
      "{'Result': 'Caution'}\n",
      "{'Result': 'Incompatible'}\n"
     ]
    },
    {
     "name": "stderr",
     "output_type": "stream",
     "text": [
      " 42%|██████████████████████████████████▏                                               | 38/91 [00:55<01:23,  1.57s/it]"
     ]
    },
    {
     "name": "stdout",
     "output_type": "stream",
     "text": [
      "{'Result': 'Incompatible'}\n",
      "Hello\n",
      "{'Result': 'Compatible'}\n",
      "{'Result': 'Compatible'}\n"
     ]
    },
    {
     "name": "stderr",
     "output_type": "stream",
     "text": [
      " 43%|███████████████████████████████████▏                                              | 39/91 [00:57<01:22,  1.58s/it]"
     ]
    },
    {
     "name": "stdout",
     "output_type": "stream",
     "text": [
      "{'Result': 'Compatible'}\n",
      "Hello\n",
      "{'Result': 'Incompatible'}\n"
     ]
    },
    {
     "name": "stderr",
     "output_type": "stream",
     "text": [
      " 44%|████████████████████████████████████                                              | 40/91 [00:57<01:08,  1.35s/it]"
     ]
    },
    {
     "name": "stdout",
     "output_type": "stream",
     "text": [
      "{'result': 'Incompatible'}\n",
      "negative\n",
      "'Result'\n",
      "Hello\n",
      "{'Result': 'Incompatible'}\n",
      "{'Result': 'Incompatible'}\n"
     ]
    },
    {
     "name": "stderr",
     "output_type": "stream",
     "text": [
      " 45%|████████████████████████████████████▉                                             | 41/91 [00:59<01:12,  1.45s/it]"
     ]
    },
    {
     "name": "stdout",
     "output_type": "stream",
     "text": [
      "{'Result': 'Incompatible'}\n",
      "Hello\n",
      "{'Result': 'Compatible'}\n",
      "{'Result': 'Caution'}\n"
     ]
    },
    {
     "name": "stderr",
     "output_type": "stream",
     "text": [
      " 46%|█████████████████████████████████████▊                                            | 42/91 [01:03<01:42,  2.09s/it]"
     ]
    },
    {
     "name": "stdout",
     "output_type": "stream",
     "text": [
      "{'Result': 'Compatible'}\n",
      "Hello\n",
      "{'Result': 'Compatible'}\n",
      "{'Result': 'Compatible'}\n"
     ]
    },
    {
     "name": "stderr",
     "output_type": "stream",
     "text": [
      " 47%|██████████████████████████████████████▋                                           | 43/91 [01:05<01:42,  2.14s/it]"
     ]
    },
    {
     "name": "stdout",
     "output_type": "stream",
     "text": [
      "{'Result': 'Compatible'}\n",
      "Hello\n",
      "{'Result': 'Caution'}\n",
      "{'Result': 'Caution'}\n"
     ]
    },
    {
     "name": "stderr",
     "output_type": "stream",
     "text": [
      " 48%|███████████████████████████████████████▋                                          | 44/91 [01:07<01:37,  2.07s/it]"
     ]
    },
    {
     "name": "stdout",
     "output_type": "stream",
     "text": [
      "{'Result': 'Caution'}\n",
      "Hello\n",
      "{'Result': 'Caution'}\n",
      "{'Result': 'Incompatible'}\n"
     ]
    },
    {
     "name": "stderr",
     "output_type": "stream",
     "text": [
      " 49%|████████████████████████████████████████▌                                         | 45/91 [01:08<01:28,  1.92s/it]"
     ]
    },
    {
     "name": "stdout",
     "output_type": "stream",
     "text": [
      "{'Result': 'Caution'}\n",
      "Hello\n",
      "{'Result': 'Compatible'}\n",
      "{'Result': 'Compatible'}\n"
     ]
    },
    {
     "name": "stderr",
     "output_type": "stream",
     "text": [
      " 51%|█████████████████████████████████████████▍                                        | 46/91 [01:10<01:18,  1.75s/it]"
     ]
    },
    {
     "name": "stdout",
     "output_type": "stream",
     "text": [
      "{'Result': 'Compatible'}\n",
      "Hello\n",
      "{'Result': 'Incompatible'}\n",
      "{'Result': 'Incompatible'}\n"
     ]
    },
    {
     "name": "stderr",
     "output_type": "stream",
     "text": [
      " 52%|██████████████████████████████████████████▎                                       | 47/91 [01:12<01:18,  1.78s/it]"
     ]
    },
    {
     "name": "stdout",
     "output_type": "stream",
     "text": [
      "{'Result': 'Incompatible'}\n",
      "Hello\n",
      "{'Result': 'Incompatible'}\n",
      "{'Result': 'Incompatible'}\n"
     ]
    },
    {
     "name": "stderr",
     "output_type": "stream",
     "text": [
      " 53%|███████████████████████████████████████████▎                                      | 48/91 [01:13<01:13,  1.72s/it]"
     ]
    },
    {
     "name": "stdout",
     "output_type": "stream",
     "text": [
      "{'Result': 'Incompatible'}\n",
      "Hello\n",
      "{'Result': 'Compatible'}\n",
      "{'Result': 'Caution'}\n"
     ]
    },
    {
     "name": "stderr",
     "output_type": "stream",
     "text": [
      " 54%|████████████████████████████████████████████▏                                     | 49/91 [01:15<01:11,  1.70s/it]"
     ]
    },
    {
     "name": "stdout",
     "output_type": "stream",
     "text": [
      "{'Result': 'Incompatible'}\n",
      "Hello\n",
      "{'Result': 'Incompatible'}\n",
      "{'Result': 'Incompatible'}\n"
     ]
    },
    {
     "name": "stderr",
     "output_type": "stream",
     "text": [
      " 55%|█████████████████████████████████████████████                                     | 50/91 [01:17<01:16,  1.86s/it]"
     ]
    },
    {
     "name": "stdout",
     "output_type": "stream",
     "text": [
      "{'Result': 'Incompatible'}\n",
      "Hello\n",
      "{'Result': 'Incompatible'}\n",
      "{'Result': 'Incompatible'}\n"
     ]
    },
    {
     "name": "stderr",
     "output_type": "stream",
     "text": [
      " 56%|█████████████████████████████████████████████▉                                    | 51/91 [01:19<01:09,  1.75s/it]"
     ]
    },
    {
     "name": "stdout",
     "output_type": "stream",
     "text": [
      "{'Result': 'Incompatible'}\n",
      "Hello\n",
      "{'Result': 'Compatible'}\n",
      "{'Result': 'Compatible'}\n"
     ]
    },
    {
     "name": "stderr",
     "output_type": "stream",
     "text": [
      " 57%|██████████████████████████████████████████████▊                                   | 52/91 [01:21<01:11,  1.84s/it]"
     ]
    },
    {
     "name": "stdout",
     "output_type": "stream",
     "text": [
      "{'Result': 'Compatible'}\n",
      "Hello\n",
      "{'Result': 'Incompatible'}\n",
      "{'Result': 'Incompatible'}\n"
     ]
    },
    {
     "name": "stderr",
     "output_type": "stream",
     "text": [
      " 58%|███████████████████████████████████████████████▊                                  | 53/91 [01:22<01:08,  1.81s/it]"
     ]
    },
    {
     "name": "stdout",
     "output_type": "stream",
     "text": [
      "{'Result': 'Incompatible'}\n",
      "Hello\n",
      "{'Result': 'Incompatible'}\n",
      "{'Result': 'Incompatible'}\n"
     ]
    },
    {
     "name": "stderr",
     "output_type": "stream",
     "text": [
      " 59%|████████████████████████████████████████████████▋                                 | 54/91 [01:24<01:06,  1.80s/it]"
     ]
    },
    {
     "name": "stdout",
     "output_type": "stream",
     "text": [
      "{'Result': 'Incompatible'}\n",
      "Hello\n",
      "{'Result': 'Incompatible'}\n",
      "{'Result': 'Caution'}\n"
     ]
    },
    {
     "name": "stderr",
     "output_type": "stream",
     "text": [
      " 60%|█████████████████████████████████████████████████▌                                | 55/91 [01:25<00:59,  1.64s/it]"
     ]
    },
    {
     "name": "stdout",
     "output_type": "stream",
     "text": [
      "{'Result': 'Incompatible'}\n",
      "Hello\n",
      "{'Result': 'Incompatible'}\n",
      "{'Result': 'Incompatible'}\n"
     ]
    },
    {
     "name": "stderr",
     "output_type": "stream",
     "text": [
      " 62%|██████████████████████████████████████████████████▍                               | 56/91 [01:27<00:55,  1.58s/it]"
     ]
    },
    {
     "name": "stdout",
     "output_type": "stream",
     "text": [
      "{'Result': 'Incompatible'}\n",
      "Hello\n",
      "{'Result': 'Compatible'}\n",
      "{'Result': 'Incompatible'}\n"
     ]
    },
    {
     "name": "stderr",
     "output_type": "stream",
     "text": [
      " 63%|███████████████████████████████████████████████████▎                              | 57/91 [01:28<00:51,  1.50s/it]"
     ]
    },
    {
     "name": "stdout",
     "output_type": "stream",
     "text": [
      "{'Result': 'Incompatible'}\n",
      "Hello\n",
      "{'Result': 'Incompatible'}\n",
      "{'Result': 'Incompatible'}\n"
     ]
    },
    {
     "name": "stderr",
     "output_type": "stream",
     "text": [
      " 64%|████████████████████████████████████████████████████▎                             | 58/91 [01:30<00:48,  1.48s/it]"
     ]
    },
    {
     "name": "stdout",
     "output_type": "stream",
     "text": [
      "{'Result': 'Incompatible'}\n",
      "Hello\n",
      "{'Result': 'Incompatible'}\n",
      "{'Result': 'Incompatible'}\n"
     ]
    },
    {
     "name": "stderr",
     "output_type": "stream",
     "text": [
      " 65%|█████████████████████████████████████████████████████▏                            | 59/91 [01:31<00:46,  1.44s/it]"
     ]
    },
    {
     "name": "stdout",
     "output_type": "stream",
     "text": [
      "{'Result': 'Incompatible'}\n",
      "Hello\n",
      "{'Result': 'Incompatible'}\n",
      "{'Result': 'Incompatible'}\n"
     ]
    },
    {
     "name": "stderr",
     "output_type": "stream",
     "text": [
      " 66%|██████████████████████████████████████████████████████                            | 60/91 [01:32<00:43,  1.41s/it]"
     ]
    },
    {
     "name": "stdout",
     "output_type": "stream",
     "text": [
      "{'Result': 'Incompatible'}\n",
      "Hello\n",
      "{'Result': 'Incompatible'}\n",
      "{'Result': 'Incompatible'}\n"
     ]
    },
    {
     "name": "stderr",
     "output_type": "stream",
     "text": [
      " 67%|██████████████████████████████████████████████████████▉                           | 61/91 [01:34<00:41,  1.40s/it]"
     ]
    },
    {
     "name": "stdout",
     "output_type": "stream",
     "text": [
      "{'Result': 'Caution'}\n",
      "Hello\n",
      "{'Result': 'Compatible'}\n",
      "{'Result': 'Compatible'}\n"
     ]
    },
    {
     "name": "stderr",
     "output_type": "stream",
     "text": [
      " 68%|███████████████████████████████████████████████████████▊                          | 62/91 [01:35<00:38,  1.34s/it]"
     ]
    },
    {
     "name": "stdout",
     "output_type": "stream",
     "text": [
      "{'Result': 'Compatible'}\n",
      "Hello\n",
      "{'Result': 'Incompatible'}\n",
      "{'Result': 'Incompatible'}\n"
     ]
    },
    {
     "name": "stderr",
     "output_type": "stream",
     "text": [
      " 69%|████████████████████████████████████████████████████████▊                         | 63/91 [01:36<00:38,  1.37s/it]"
     ]
    },
    {
     "name": "stdout",
     "output_type": "stream",
     "text": [
      "{'Result': 'Incompatible'}\n",
      "Hello\n",
      "{'Result': 'Incompatible'}\n",
      "{'Result': 'Incompatible'}\n"
     ]
    },
    {
     "name": "stderr",
     "output_type": "stream",
     "text": [
      " 70%|█████████████████████████████████████████████████████████▋                        | 64/91 [01:38<00:41,  1.52s/it]"
     ]
    },
    {
     "name": "stdout",
     "output_type": "stream",
     "text": [
      "{'Result': 'Caution'}\n",
      "Hello\n",
      "{'Result': 'Incompatible'}\n",
      "{'Result': 'Incompatible'}\n"
     ]
    },
    {
     "name": "stderr",
     "output_type": "stream",
     "text": [
      " 71%|██████████████████████████████████████████████████████████▌                       | 65/91 [01:39<00:37,  1.44s/it]"
     ]
    },
    {
     "name": "stdout",
     "output_type": "stream",
     "text": [
      "{'Result': 'Incompatible'}\n",
      "Hello\n",
      "{'Result': 'Incompatible'}\n",
      "{'Result': 'Incompatible'}\n"
     ]
    },
    {
     "name": "stderr",
     "output_type": "stream",
     "text": [
      " 73%|███████████████████████████████████████████████████████████▍                      | 66/91 [01:41<00:35,  1.44s/it]"
     ]
    },
    {
     "name": "stdout",
     "output_type": "stream",
     "text": [
      "{'Result': 'Incompatible'}\n",
      "Hello\n",
      "{'Result': 'Compatible'}\n",
      "{'Result': 'Compatible'}\n"
     ]
    },
    {
     "name": "stderr",
     "output_type": "stream",
     "text": [
      " 74%|████████████████████████████████████████████████████████████▎                     | 67/91 [01:42<00:35,  1.46s/it]"
     ]
    },
    {
     "name": "stdout",
     "output_type": "stream",
     "text": [
      "{'Result': 'Compatible'}\n",
      "Hello\n",
      "{'Result': 'Incompatible'}\n",
      "{'Result': 'Incompatible'}\n"
     ]
    },
    {
     "name": "stderr",
     "output_type": "stream",
     "text": [
      " 75%|█████████████████████████████████████████████████████████████▎                    | 68/91 [01:44<00:33,  1.45s/it]"
     ]
    },
    {
     "name": "stdout",
     "output_type": "stream",
     "text": [
      "{'Result': 'Incompatible'}\n",
      "Hello\n",
      "{'Result': 'Incompatible'}\n",
      "{'Result': 'Incompatible'}\n"
     ]
    },
    {
     "name": "stderr",
     "output_type": "stream",
     "text": [
      " 76%|██████████████████████████████████████████████████████████████▏                   | 69/91 [01:46<00:34,  1.55s/it]"
     ]
    },
    {
     "name": "stdout",
     "output_type": "stream",
     "text": [
      "{'Result': 'Caution'}\n",
      "Hello\n",
      "{'Result': 'Compatible'}\n",
      "{'Result': 'Compatible'}\n"
     ]
    },
    {
     "name": "stderr",
     "output_type": "stream",
     "text": [
      " 77%|███████████████████████████████████████████████████████████████                   | 70/91 [01:47<00:33,  1.60s/it]"
     ]
    },
    {
     "name": "stdout",
     "output_type": "stream",
     "text": [
      "{'Result': 'Compatible'}\n",
      "Hello\n",
      "{'Result': 'Incompatible'}\n",
      "{'Result': 'Incompatible'}\n"
     ]
    },
    {
     "name": "stderr",
     "output_type": "stream",
     "text": [
      " 78%|███████████████████████████████████████████████████████████████▉                  | 71/91 [01:49<00:31,  1.60s/it]"
     ]
    },
    {
     "name": "stdout",
     "output_type": "stream",
     "text": [
      "{'Result': 'Incompatible'}\n",
      "Hello\n",
      "{'Result': 'Compatible'}\n",
      "{'Result': 'Compatible'}\n"
     ]
    },
    {
     "name": "stderr",
     "output_type": "stream",
     "text": [
      " 79%|████████████████████████████████████████████████████████████████▉                 | 72/91 [01:50<00:27,  1.47s/it]"
     ]
    },
    {
     "name": "stdout",
     "output_type": "stream",
     "text": [
      "{'Result': 'Compatible'}\n",
      "Hello\n",
      "{'Result': 'Incompatible'}\n",
      "{'Result': 'Incompatible'}\n"
     ]
    },
    {
     "name": "stderr",
     "output_type": "stream",
     "text": [
      " 80%|█████████████████████████████████████████████████████████████████▊                | 73/91 [01:51<00:25,  1.44s/it]"
     ]
    },
    {
     "name": "stdout",
     "output_type": "stream",
     "text": [
      "{'Result': 'Incompatible'}\n",
      "Hello\n",
      "{'Result': 'Incompatible'}\n",
      "{'Result': 'Incompatible'}\n"
     ]
    },
    {
     "name": "stderr",
     "output_type": "stream",
     "text": [
      " 81%|██████████████████████████████████████████████████████████████████▋               | 74/91 [01:53<00:24,  1.41s/it]"
     ]
    },
    {
     "name": "stdout",
     "output_type": "stream",
     "text": [
      "{'Result': 'Incompatible'}\n",
      "Hello\n",
      "{'Result': 'Caution'}\n",
      "{'Result': 'Caution'}\n"
     ]
    },
    {
     "name": "stderr",
     "output_type": "stream",
     "text": [
      " 82%|███████████████████████████████████████████████████████████████████▌              | 75/91 [01:54<00:22,  1.38s/it]"
     ]
    },
    {
     "name": "stdout",
     "output_type": "stream",
     "text": [
      "{'Result': 'Incompatible'}\n",
      "Hello\n",
      "{'Result': 'Incompatible'}\n",
      "{'Result': 'Incompatible'}\n"
     ]
    },
    {
     "name": "stderr",
     "output_type": "stream",
     "text": [
      " 84%|████████████████████████████████████████████████████████████████████▍             | 76/91 [01:55<00:19,  1.33s/it]"
     ]
    },
    {
     "name": "stdout",
     "output_type": "stream",
     "text": [
      "{'Result': 'Incompatible'}\n",
      "Hello\n",
      "{'Result': 'Incompatible'}\n",
      "{'Result': 'Incompatible'}\n"
     ]
    },
    {
     "name": "stderr",
     "output_type": "stream",
     "text": [
      " 85%|█████████████████████████████████████████████████████████████████████▍            | 77/91 [01:57<00:19,  1.37s/it]"
     ]
    },
    {
     "name": "stdout",
     "output_type": "stream",
     "text": [
      "{'Result': 'Incompatible'}\n",
      "Hello\n",
      "{'Result': 'Incompatible'}\n",
      "{'Result': 'Incompatible'}\n"
     ]
    },
    {
     "name": "stderr",
     "output_type": "stream",
     "text": [
      " 86%|██████████████████████████████████████████████████████████████████████▎           | 78/91 [01:58<00:18,  1.45s/it]"
     ]
    },
    {
     "name": "stdout",
     "output_type": "stream",
     "text": [
      "{'Result': 'Incompatible'}\n",
      "Hello\n",
      "{'Result': 'Incompatible'}\n",
      "{'Result': 'Compatible'}\n"
     ]
    },
    {
     "name": "stderr",
     "output_type": "stream",
     "text": [
      " 87%|███████████████████████████████████████████████████████████████████████▏          | 79/91 [02:00<00:17,  1.49s/it]"
     ]
    },
    {
     "name": "stdout",
     "output_type": "stream",
     "text": [
      "{'Result': 'Incompatible'}\n",
      "Hello\n",
      "{'Result': 'Incompatible'}\n",
      "{'Result': 'Incompatible'}\n"
     ]
    },
    {
     "name": "stderr",
     "output_type": "stream",
     "text": [
      " 88%|████████████████████████████████████████████████████████████████████████          | 80/91 [02:02<00:17,  1.55s/it]"
     ]
    },
    {
     "name": "stdout",
     "output_type": "stream",
     "text": [
      "{'Result': 'Incompatible'}\n",
      "Hello\n",
      "{'Result': 'Incompatible'}\n",
      "{'Result': 'Incompatible'}\n"
     ]
    },
    {
     "name": "stderr",
     "output_type": "stream",
     "text": [
      " 89%|████████████████████████████████████████████████████████████████████████▉         | 81/91 [02:04<00:16,  1.63s/it]"
     ]
    },
    {
     "name": "stdout",
     "output_type": "stream",
     "text": [
      "{'Result': 'Incompatible'}\n",
      "Hello\n",
      "{'Result': 'Compatible'}\n",
      "{'Result': 'Compatible'}\n"
     ]
    },
    {
     "name": "stderr",
     "output_type": "stream",
     "text": [
      " 90%|█████████████████████████████████████████████████████████████████████████▉        | 82/91 [02:06<00:16,  1.78s/it]"
     ]
    },
    {
     "name": "stdout",
     "output_type": "stream",
     "text": [
      "{'Result': 'Compatible'}\n",
      "Hello\n",
      "{'Result': 'Incompatible'}\n",
      "{'Result': 'Incompatible'}\n"
     ]
    },
    {
     "name": "stderr",
     "output_type": "stream",
     "text": [
      " 91%|██████████████████████████████████████████████████████████████████████████▊       | 83/91 [02:08<00:15,  1.93s/it]"
     ]
    },
    {
     "name": "stdout",
     "output_type": "stream",
     "text": [
      "{'Result': 'Incompatible'}\n",
      "Hello\n",
      "{'Result': 'Incompatible'}\n",
      "{'Result': 'Incompatible'}\n"
     ]
    },
    {
     "name": "stderr",
     "output_type": "stream",
     "text": [
      " 92%|███████████████████████████████████████████████████████████████████████████▋      | 84/91 [02:10<00:13,  1.92s/it]"
     ]
    },
    {
     "name": "stdout",
     "output_type": "stream",
     "text": [
      "{'Result': 'Incompatible'}\n",
      "Hello\n",
      "{'Result': 'Incompatible'}\n",
      "{'Result': 'Incompatible'}\n"
     ]
    },
    {
     "name": "stderr",
     "output_type": "stream",
     "text": [
      " 93%|████████████████████████████████████████████████████████████████████████████▌     | 85/91 [02:11<00:10,  1.73s/it]"
     ]
    },
    {
     "name": "stdout",
     "output_type": "stream",
     "text": [
      "{'Result': 'Incompatible'}\n",
      "Hello\n",
      "{'Result': 'Incompatible'}\n",
      "{'Result': 'Incompatible'}\n"
     ]
    },
    {
     "name": "stderr",
     "output_type": "stream",
     "text": [
      " 95%|█████████████████████████████████████████████████████████████████████████████▍    | 86/91 [02:12<00:07,  1.57s/it]"
     ]
    },
    {
     "name": "stdout",
     "output_type": "stream",
     "text": [
      "{'Result': 'Incompatible'}\n",
      "Hello\n",
      "{'Result': 'Caution'}\n",
      "{'Result': 'Caution'}\n"
     ]
    },
    {
     "name": "stderr",
     "output_type": "stream",
     "text": [
      " 96%|██████████████████████████████████████████████████████████████████████████████▍   | 87/91 [02:15<00:07,  1.76s/it]"
     ]
    },
    {
     "name": "stdout",
     "output_type": "stream",
     "text": [
      "{'Result': 'Incompatible'}\n",
      "Hello\n",
      "{'Result': 'Compatible'}\n",
      "{'Result': 'Compatible'}\n"
     ]
    },
    {
     "name": "stderr",
     "output_type": "stream",
     "text": [
      " 97%|███████████████████████████████████████████████████████████████████████████████▎  | 88/91 [02:16<00:05,  1.68s/it]"
     ]
    },
    {
     "name": "stdout",
     "output_type": "stream",
     "text": [
      "{'Result': 'Compatible'}\n",
      "Hello\n",
      "{'Result': 'Incompatible'}\n",
      "{'Result': 'Incompatible'}\n"
     ]
    },
    {
     "name": "stderr",
     "output_type": "stream",
     "text": [
      " 98%|████████████████████████████████████████████████████████████████████████████████▏ | 89/91 [02:19<00:03,  1.96s/it]"
     ]
    },
    {
     "name": "stdout",
     "output_type": "stream",
     "text": [
      "{'Result': 'Incompatible'}\n",
      "Hello\n",
      "{'Result': 'Compatible'}\n",
      "{'Result': 'Compatible'}\n"
     ]
    },
    {
     "name": "stderr",
     "output_type": "stream",
     "text": [
      " 99%|█████████████████████████████████████████████████████████████████████████████████ | 90/91 [02:21<00:02,  2.05s/it]"
     ]
    },
    {
     "name": "stdout",
     "output_type": "stream",
     "text": [
      "{'Result': 'Compatible'}\n",
      "Hello\n",
      "{'Result': 'Compatible'}\n",
      "{'Result': 'Compatible'}\n"
     ]
    },
    {
     "name": "stderr",
     "output_type": "stream",
     "text": [
      "100%|██████████████████████████████████████████████████████████████████████████████████| 91/91 [02:23<00:00,  1.57s/it]"
     ]
    },
    {
     "name": "stdout",
     "output_type": "stream",
     "text": [
      "{'Result': 'Compatible'}\n"
     ]
    },
    {
     "name": "stderr",
     "output_type": "stream",
     "text": [
      "\n"
     ]
    }
   ],
   "source": [
    "\n",
    "\n",
    "completed_records = []\n",
    "for record in tqdm(chemical_records):  # tqdmは進捗状況を表示\n",
    "    try:\n",
    "        print(\"Hello\")\n",
    "            # generate_reason_and_predict関数により、理由生成と予測実行\n",
    "        completed_record = generate_reason_and_predict_mixture(\n",
    "            substance1=record[\"substance1\"],\n",
    "            substance2=record[\"substance2\"],\n",
    "            result=record[\"result\"],  # resultは混合物の危険性判定の結果\n",
    "            qa_gen_command=qa_gen_command,  # 理由を尋ねるための指示\n",
    "            predict_command=predict_command,  # 予測を行うための指示\n",
    "            llm_ask_func=json_generate,  # LLM関数\n",
    "    #            smiles=record.get(\"smiles\", \"\"),  # SMILES情報（存在する場合）\n",
    "            gen_reason=gen_reason,  # 理由を生成するかどうか\n",
    "            n_trials=n_trials  # 予測を試みる回数\n",
    "        )\n",
    "#        print(completed_record)\n",
    "    except Exception as e:\n",
    "        print(\"negative\")\n",
    "#        traceback.print_exc()\n",
    "        print(e)  # 例外が発生した場合にエラーを表示\n",
    "        completed_record = record  # 例外が発生した場合は元のレコードを使用\n",
    "\n",
    "    completed_records.append(completed_record)  # 処理されたレコードをリストに追加\n"
   ]
  },
  {
   "cell_type": "code",
   "execution_count": 8,
   "metadata": {},
   "outputs": [
    {
     "data": {
      "text/plain": [
       "[{'substance1': 'CARBON, ACTIVATED',\n",
       "  'substance2': 'FERRIC SULFATE',\n",
       "  'result': 'Compatible',\n",
       "  'generated_reason': '',\n",
       "  'predicted_results': ['Incompatible', 'Incompatible', 'Incompatible']},\n",
       " {'substance1': 'ALUMINUM ALKYL HYDRIDES',\n",
       "  'substance2': 'FERRIC NITRATE',\n",
       "  'result': 'Incompatible',\n",
       "  'generated_reason': '',\n",
       "  'predicted_results': ['Incompatible', 'Incompatible', 'Incompatible']},\n",
       " {'substance1': 'CARBON, ACTIVATED',\n",
       "  'substance2': 'METHANE',\n",
       "  'result': 'Compatible',\n",
       "  'generated_reason': '',\n",
       "  'predicted_results': ['Incompatible', 'Incompatible', 'Incompatible']},\n",
       " {'substance1': 'AIR, COMPRESSED',\n",
       "  'substance2': 'WATER',\n",
       "  'result': 'Compatible',\n",
       "  'generated_reason': '',\n",
       "  'predicted_results': ['Caution', 'Caution', 'Caution']},\n",
       " {'substance1': 'ALUMINUM ALKYL HYDRIDES',\n",
       "  'substance2': 'WATER',\n",
       "  'result': 'Incompatible',\n",
       "  'generated_reason': '',\n",
       "  'predicted_results': ['Incompatible', 'Incompatible', 'Incompatible']},\n",
       " {'substance1': 'FERRIC SULFATE',\n",
       "  'substance2': 'IRON OXIDE, SPENT',\n",
       "  'result': 'Incompatible',\n",
       "  'generated_reason': '',\n",
       "  'predicted_results': ['Caution', 'Compatible', 'Incompatible']},\n",
       " {'substance1': 'FERRIC NITRATE',\n",
       "  'substance2': 'IRON, [POWDERED]',\n",
       "  'result': 'Incompatible',\n",
       "  'generated_reason': '',\n",
       "  'predicted_results': ['Incompatible', 'Incompatible', 'Incompatible']},\n",
       " {'substance1': 'ETHANOL',\n",
       "  'substance2': 'PROPIONALDEHYDE',\n",
       "  'result': 'Caution',\n",
       "  'generated_reason': '',\n",
       "  'predicted_results': ['Caution', 'Caution', 'Compatible']},\n",
       " {'substance1': 'CARBON, ACTIVATED',\n",
       "  'substance2': 'FERRIC CHLORIDE',\n",
       "  'result': 'Compatible',\n",
       "  'generated_reason': '',\n",
       "  'predicted_results': ['Incompatible', 'Incompatible', 'Incompatible']},\n",
       " {'substance1': 'IRON OXIDE, SPENT',\n",
       "  'substance2': 'WATER',\n",
       "  'result': 'Incompatible',\n",
       "  'generated_reason': '',\n",
       "  'predicted_results': ['Compatible', 'Compatible', 'Caution']},\n",
       " {'substance1': 'PROPIONALDEHYDE',\n",
       "  'substance2': 'SULFUROUS ACID',\n",
       "  'result': 'Incompatible',\n",
       "  'generated_reason': '',\n",
       "  'predicted_results': ['Incompatible', 'Incompatible', 'Incompatible']},\n",
       " {'substance1': 'ALUMINUM ALKYL HYDRIDES',\n",
       "  'substance2': 'ETHANOL',\n",
       "  'result': 'Incompatible',\n",
       "  'generated_reason': '',\n",
       "  'predicted_results': ['Incompatible', 'Incompatible', 'Incompatible']},\n",
       " {'substance1': 'CARBON, ACTIVATED',\n",
       "  'substance2': 'IRON, [POWDERED]',\n",
       "  'result': 'Incompatible',\n",
       "  'generated_reason': '',\n",
       "  'predicted_results': ['Compatible', 'Compatible', 'Compatible']},\n",
       " {'substance1': 'ALUMINUM ALKYL HYDRIDES',\n",
       "  'substance2': 'IRON OXIDE, SPENT',\n",
       "  'result': 'Incompatible',\n",
       "  'generated_reason': '',\n",
       "  'predicted_results': ['Incompatible', 'Incompatible', 'Incompatible']},\n",
       " {'substance1': 'METHANE',\n",
       "  'substance2': 'SULFUROUS ACID',\n",
       "  'result': 'Compatible',\n",
       "  'generated_reason': '',\n",
       "  'predicted_results': ['Incompatible', 'Incompatible', 'Incompatible']},\n",
       " {'substance1': 'ETHANOL',\n",
       "  'substance2': 'HYDROGEN',\n",
       "  'result': 'Caution',\n",
       "  'generated_reason': '',\n",
       "  'predicted_results': ['Incompatible', 'Incompatible', 'Incompatible']},\n",
       " {'substance1': 'FERRIC NITRATE',\n",
       "  'substance2': 'WATER',\n",
       "  'result': 'Compatible',\n",
       "  'generated_reason': '',\n",
       "  'predicted_results': ['Compatible', 'Compatible', 'Compatible']},\n",
       " {'substance1': 'CARBON, ACTIVATED',\n",
       "  'substance2': 'SULFUROUS ACID',\n",
       "  'result': 'Compatible',\n",
       "  'generated_reason': '',\n",
       "  'predicted_results': ['Incompatible', 'Incompatible', 'Incompatible']},\n",
       " {'substance1': 'AIR, COMPRESSED',\n",
       "  'substance2': 'ETHANOL',\n",
       "  'result': 'Caution',\n",
       "  'generated_reason': '',\n",
       "  'predicted_results': ['Caution', 'Incompatible', 'Incompatible']},\n",
       " {'substance1': 'IRON OXIDE, SPENT',\n",
       "  'substance2': 'IRON, [POWDERED]',\n",
       "  'result': 'Incompatible',\n",
       "  'generated_reason': '',\n",
       "  'predicted_results': ['Incompatible', 'Incompatible', 'Incompatible']},\n",
       " {'substance1': 'AIR, COMPRESSED',\n",
       "  'substance2': 'HYDROGEN',\n",
       "  'result': 'Caution',\n",
       "  'generated_reason': '',\n",
       "  'predicted_results': ['Incompatible', 'Incompatible', 'Incompatible']},\n",
       " {'substance1': 'FERRIC CHLORIDE',\n",
       "  'substance2': 'PROPIONALDEHYDE',\n",
       "  'result': 'Incompatible',\n",
       "  'generated_reason': '',\n",
       "  'predicted_results': ['Incompatible', 'Caution', 'Caution']},\n",
       " {'substance1': 'HYDROGEN',\n",
       "  'substance2': 'WATER',\n",
       "  'result': 'Compatible',\n",
       "  'generated_reason': '',\n",
       "  'predicted_results': ['Compatible', 'Compatible', 'Compatible']},\n",
       " {'substance1': 'FERRIC SULFATE',\n",
       "  'substance2': 'SULFUROUS ACID',\n",
       "  'result': 'Caution',\n",
       "  'generated_reason': '',\n",
       "  'predicted_results': ['Incompatible', 'Incompatible', 'Incompatible']},\n",
       " {'substance1': 'FERRIC SULFATE',\n",
       "  'substance2': 'HYDROGEN',\n",
       "  'result': 'Compatible',\n",
       "  'generated_reason': '',\n",
       "  'predicted_results': ['Incompatible', 'Incompatible', 'Incompatible']},\n",
       " {'substance1': 'IRON, [POWDERED]',\n",
       "  'substance2': 'METHANE',\n",
       "  'result': 'Compatible',\n",
       "  'generated_reason': '',\n",
       "  'predicted_results': ['Incompatible', 'Incompatible', 'Incompatible']},\n",
       " {'substance1': 'ETHANOL',\n",
       "  'substance2': 'IRON, [POWDERED]',\n",
       "  'result': 'Incompatible',\n",
       "  'generated_reason': '',\n",
       "  'predicted_results': ['Caution', 'Caution', 'Incompatible']},\n",
       " {'substance1': 'AIR, COMPRESSED',\n",
       "  'substance2': 'PROPIONALDEHYDE',\n",
       "  'result': 'Incompatible',\n",
       "  'generated_reason': '',\n",
       "  'predicted_results': ['Caution', 'Caution', 'Incompatible']},\n",
       " {'substance1': 'FERRIC CHLORIDE',\n",
       "  'substance2': 'FERRIC NITRATE',\n",
       "  'result': 'Incompatible',\n",
       "  'generated_reason': '',\n",
       "  'predicted_results': ['Incompatible', 'Incompatible', 'Compatible']},\n",
       " {'substance1': 'HYDROGEN',\n",
       "  'substance2': 'PROPIONALDEHYDE',\n",
       "  'result': 'Incompatible',\n",
       "  'generated_reason': '',\n",
       "  'predicted_results': ['Caution', 'Incompatible', 'Incompatible']},\n",
       " {'substance1': 'FERRIC SULFATE',\n",
       "  'substance2': 'METHANE',\n",
       "  'result': 'Compatible',\n",
       "  'generated_reason': '',\n",
       "  'predicted_results': ['Incompatible', 'Incompatible', 'Incompatible']},\n",
       " {'substance1': 'METHANE',\n",
       "  'substance2': 'PROPIONALDEHYDE',\n",
       "  'result': 'Caution',\n",
       "  'generated_reason': '',\n",
       "  'predicted_results': ['Caution', 'Incompatible', 'Caution']},\n",
       " {'substance1': 'ALUMINUM ALKYL HYDRIDES',\n",
       "  'substance2': 'CARBON, ACTIVATED',\n",
       "  'result': 'Incompatible',\n",
       "  'generated_reason': '',\n",
       "  'predicted_results': ['Incompatible', 'Incompatible', 'Incompatible']},\n",
       " {'substance1': 'ETHANOL',\n",
       "  'substance2': 'WATER',\n",
       "  'result': 'Compatible',\n",
       "  'generated_reason': '',\n",
       "  'predicted_results': ['Compatible', 'Compatible', 'Compatible']},\n",
       " {'substance1': 'HYDROGEN',\n",
       "  'substance2': 'METHANE',\n",
       "  'result': 'Compatible',\n",
       "  'generated_reason': '',\n",
       "  'predicted_results': ['Compatible', 'Compatible', 'Compatible']},\n",
       " {'substance1': 'FERRIC SULFATE',\n",
       "  'substance2': 'PROPIONALDEHYDE',\n",
       "  'result': 'Incompatible',\n",
       "  'generated_reason': '',\n",
       "  'predicted_results': ['Incompatible', 'Incompatible', 'Incompatible']},\n",
       " {'substance1': 'FERRIC NITRATE',\n",
       "  'substance2': 'SULFUROUS ACID',\n",
       "  'result': 'Incompatible',\n",
       "  'generated_reason': '',\n",
       "  'predicted_results': ['Incompatible', 'Incompatible', 'Incompatible']},\n",
       " {'substance1': 'ALUMINUM ALKYL HYDRIDES',\n",
       "  'substance2': 'PROPIONALDEHYDE',\n",
       "  'result': 'Incompatible',\n",
       "  'generated_reason': '',\n",
       "  'predicted_results': ['Caution', 'Incompatible', 'Incompatible']},\n",
       " {'substance1': 'METHANE',\n",
       "  'substance2': 'WATER',\n",
       "  'result': 'Compatible',\n",
       "  'generated_reason': '',\n",
       "  'predicted_results': ['Compatible', 'Compatible', 'Compatible']},\n",
       " {'substance1': 'IRON OXIDE, SPENT',\n",
       "  'substance2': 'METHANE',\n",
       "  'result': 'Compatible'},\n",
       " {'substance1': 'AIR, COMPRESSED',\n",
       "  'substance2': 'ALUMINUM ALKYL HYDRIDES',\n",
       "  'result': 'Incompatible',\n",
       "  'generated_reason': '',\n",
       "  'predicted_results': ['Incompatible', 'Incompatible', 'Incompatible']},\n",
       " {'substance1': 'FERRIC CHLORIDE',\n",
       "  'substance2': 'FERRIC SULFATE',\n",
       "  'result': 'Caution',\n",
       "  'generated_reason': '',\n",
       "  'predicted_results': ['Compatible', 'Caution', 'Compatible']},\n",
       " {'substance1': 'CARBON, ACTIVATED',\n",
       "  'substance2': 'IRON OXIDE, SPENT',\n",
       "  'result': 'Compatible',\n",
       "  'generated_reason': '',\n",
       "  'predicted_results': ['Compatible', 'Compatible', 'Compatible']},\n",
       " {'substance1': 'AIR, COMPRESSED',\n",
       "  'substance2': 'IRON OXIDE, SPENT',\n",
       "  'result': 'Incompatible',\n",
       "  'generated_reason': '',\n",
       "  'predicted_results': ['Caution', 'Caution', 'Caution']},\n",
       " {'substance1': 'FERRIC CHLORIDE',\n",
       "  'substance2': 'IRON, [POWDERED]',\n",
       "  'result': 'Incompatible',\n",
       "  'generated_reason': '',\n",
       "  'predicted_results': ['Caution', 'Incompatible', 'Caution']},\n",
       " {'substance1': 'AIR, COMPRESSED',\n",
       "  'substance2': 'IRON, [POWDERED]',\n",
       "  'result': 'Incompatible',\n",
       "  'generated_reason': '',\n",
       "  'predicted_results': ['Compatible', 'Compatible', 'Compatible']},\n",
       " {'substance1': 'AIR, COMPRESSED',\n",
       "  'substance2': 'SULFUROUS ACID',\n",
       "  'result': 'Caution',\n",
       "  'generated_reason': '',\n",
       "  'predicted_results': ['Incompatible', 'Incompatible', 'Incompatible']},\n",
       " {'substance1': 'FERRIC CHLORIDE',\n",
       "  'substance2': 'SULFUROUS ACID',\n",
       "  'result': 'Compatible',\n",
       "  'generated_reason': '',\n",
       "  'predicted_results': ['Incompatible', 'Incompatible', 'Incompatible']},\n",
       " {'substance1': 'AIR, COMPRESSED',\n",
       "  'substance2': 'METHANE',\n",
       "  'result': 'Compatible',\n",
       "  'generated_reason': '',\n",
       "  'predicted_results': ['Compatible', 'Caution', 'Incompatible']},\n",
       " {'substance1': 'AIR, COMPRESSED',\n",
       "  'substance2': 'FERRIC CHLORIDE',\n",
       "  'result': 'Caution',\n",
       "  'generated_reason': '',\n",
       "  'predicted_results': ['Incompatible', 'Incompatible', 'Incompatible']},\n",
       " {'substance1': 'ALUMINUM ALKYL HYDRIDES',\n",
       "  'substance2': 'SULFUROUS ACID',\n",
       "  'result': 'Incompatible',\n",
       "  'generated_reason': '',\n",
       "  'predicted_results': ['Incompatible', 'Incompatible', 'Incompatible']},\n",
       " {'substance1': 'SULFUROUS ACID',\n",
       "  'substance2': 'WATER',\n",
       "  'result': 'Caution',\n",
       "  'generated_reason': '',\n",
       "  'predicted_results': ['Compatible', 'Compatible', 'Compatible']},\n",
       " {'substance1': 'HYDROGEN',\n",
       "  'substance2': 'SULFUROUS ACID',\n",
       "  'result': 'Compatible',\n",
       "  'generated_reason': '',\n",
       "  'predicted_results': ['Incompatible', 'Incompatible', 'Incompatible']},\n",
       " {'substance1': 'ETHANOL',\n",
       "  'substance2': 'METHANE',\n",
       "  'result': 'Compatible',\n",
       "  'generated_reason': '',\n",
       "  'predicted_results': ['Incompatible', 'Incompatible', 'Incompatible']},\n",
       " {'substance1': 'ETHANOL',\n",
       "  'substance2': 'FERRIC CHLORIDE',\n",
       "  'result': 'Caution',\n",
       "  'generated_reason': '',\n",
       "  'predicted_results': ['Incompatible', 'Caution', 'Incompatible']},\n",
       " {'substance1': 'IRON, [POWDERED]',\n",
       "  'substance2': 'WATER',\n",
       "  'result': 'Incompatible',\n",
       "  'generated_reason': '',\n",
       "  'predicted_results': ['Incompatible', 'Incompatible', 'Incompatible']},\n",
       " {'substance1': 'FERRIC SULFATE',\n",
       "  'substance2': 'IRON, [POWDERED]',\n",
       "  'result': 'Incompatible',\n",
       "  'generated_reason': '',\n",
       "  'predicted_results': ['Compatible', 'Incompatible', 'Incompatible']},\n",
       " {'substance1': 'FERRIC NITRATE',\n",
       "  'substance2': 'METHANE',\n",
       "  'result': 'Caution',\n",
       "  'generated_reason': '',\n",
       "  'predicted_results': ['Incompatible', 'Incompatible', 'Incompatible']},\n",
       " {'substance1': 'ALUMINUM ALKYL HYDRIDES',\n",
       "  'substance2': 'FERRIC CHLORIDE',\n",
       "  'result': 'Incompatible',\n",
       "  'generated_reason': '',\n",
       "  'predicted_results': ['Incompatible', 'Incompatible', 'Incompatible']},\n",
       " {'substance1': 'AIR, COMPRESSED',\n",
       "  'substance2': 'FERRIC NITRATE',\n",
       "  'result': 'Caution',\n",
       "  'generated_reason': '',\n",
       "  'predicted_results': ['Incompatible', 'Incompatible', 'Incompatible']},\n",
       " {'substance1': 'IRON, [POWDERED]',\n",
       "  'substance2': 'SULFUROUS ACID',\n",
       "  'result': 'Incompatible',\n",
       "  'generated_reason': '',\n",
       "  'predicted_results': ['Incompatible', 'Incompatible', 'Caution']},\n",
       " {'substance1': 'AIR, COMPRESSED',\n",
       "  'substance2': 'CARBON, ACTIVATED',\n",
       "  'result': 'Caution',\n",
       "  'generated_reason': '',\n",
       "  'predicted_results': ['Compatible', 'Compatible', 'Compatible']},\n",
       " {'substance1': 'ALUMINUM ALKYL HYDRIDES',\n",
       "  'substance2': 'METHANE',\n",
       "  'result': 'Compatible',\n",
       "  'generated_reason': '',\n",
       "  'predicted_results': ['Incompatible', 'Incompatible', 'Incompatible']},\n",
       " {'substance1': 'HYDROGEN',\n",
       "  'substance2': 'IRON, [POWDERED]',\n",
       "  'result': 'Incompatible',\n",
       "  'generated_reason': '',\n",
       "  'predicted_results': ['Incompatible', 'Incompatible', 'Caution']},\n",
       " {'substance1': 'ETHANOL',\n",
       "  'substance2': 'SULFUROUS ACID',\n",
       "  'result': 'Caution',\n",
       "  'generated_reason': '',\n",
       "  'predicted_results': ['Incompatible', 'Incompatible', 'Incompatible']},\n",
       " {'substance1': 'FERRIC NITRATE',\n",
       "  'substance2': 'PROPIONALDEHYDE',\n",
       "  'result': 'Incompatible',\n",
       "  'generated_reason': '',\n",
       "  'predicted_results': ['Incompatible', 'Incompatible', 'Incompatible']},\n",
       " {'substance1': 'PROPIONALDEHYDE',\n",
       "  'substance2': 'WATER',\n",
       "  'result': 'Caution',\n",
       "  'generated_reason': '',\n",
       "  'predicted_results': ['Compatible', 'Compatible', 'Compatible']},\n",
       " {'substance1': 'IRON OXIDE, SPENT',\n",
       "  'substance2': 'SULFUROUS ACID',\n",
       "  'result': 'Incompatible',\n",
       "  'generated_reason': '',\n",
       "  'predicted_results': ['Incompatible', 'Incompatible', 'Incompatible']},\n",
       " {'substance1': 'ETHANOL',\n",
       "  'substance2': 'IRON OXIDE, SPENT',\n",
       "  'result': 'Caution',\n",
       "  'generated_reason': '',\n",
       "  'predicted_results': ['Incompatible', 'Incompatible', 'Caution']},\n",
       " {'substance1': 'FERRIC SULFATE',\n",
       "  'substance2': 'WATER',\n",
       "  'result': 'Caution',\n",
       "  'generated_reason': '',\n",
       "  'predicted_results': ['Compatible', 'Compatible', 'Compatible']},\n",
       " {'substance1': 'IRON OXIDE, SPENT',\n",
       "  'substance2': 'PROPIONALDEHYDE',\n",
       "  'result': 'Incompatible',\n",
       "  'generated_reason': '',\n",
       "  'predicted_results': ['Incompatible', 'Incompatible', 'Incompatible']},\n",
       " {'substance1': 'FERRIC NITRATE',\n",
       "  'substance2': 'FERRIC SULFATE',\n",
       "  'result': 'Incompatible',\n",
       "  'generated_reason': '',\n",
       "  'predicted_results': ['Compatible', 'Compatible', 'Compatible']},\n",
       " {'substance1': 'ETHANOL',\n",
       "  'substance2': 'FERRIC SULFATE',\n",
       "  'result': 'Compatible',\n",
       "  'generated_reason': '',\n",
       "  'predicted_results': ['Incompatible', 'Incompatible', 'Incompatible']},\n",
       " {'substance1': 'FERRIC CHLORIDE',\n",
       "  'substance2': 'HYDROGEN',\n",
       "  'result': 'Compatible',\n",
       "  'generated_reason': '',\n",
       "  'predicted_results': ['Incompatible', 'Incompatible', 'Incompatible']},\n",
       " {'substance1': 'IRON, [POWDERED]',\n",
       "  'substance2': 'PROPIONALDEHYDE',\n",
       "  'result': 'Incompatible',\n",
       "  'generated_reason': '',\n",
       "  'predicted_results': ['Caution', 'Caution', 'Incompatible']},\n",
       " {'substance1': 'ALUMINUM ALKYL HYDRIDES',\n",
       "  'substance2': 'FERRIC SULFATE',\n",
       "  'result': 'Incompatible',\n",
       "  'generated_reason': '',\n",
       "  'predicted_results': ['Incompatible', 'Incompatible', 'Incompatible']},\n",
       " {'substance1': 'FERRIC CHLORIDE',\n",
       "  'substance2': 'IRON OXIDE, SPENT',\n",
       "  'result': 'Incompatible',\n",
       "  'generated_reason': '',\n",
       "  'predicted_results': ['Incompatible', 'Incompatible', 'Incompatible']},\n",
       " {'substance1': 'FERRIC CHLORIDE',\n",
       "  'substance2': 'METHANE',\n",
       "  'result': 'Compatible',\n",
       "  'generated_reason': '',\n",
       "  'predicted_results': ['Incompatible', 'Incompatible', 'Incompatible']},\n",
       " {'substance1': 'HYDROGEN',\n",
       "  'substance2': 'IRON OXIDE, SPENT',\n",
       "  'result': 'Compatible',\n",
       "  'generated_reason': '',\n",
       "  'predicted_results': ['Incompatible', 'Compatible', 'Incompatible']},\n",
       " {'substance1': 'CARBON, ACTIVATED',\n",
       "  'substance2': 'FERRIC NITRATE',\n",
       "  'result': 'Compatible',\n",
       "  'generated_reason': '',\n",
       "  'predicted_results': ['Incompatible', 'Incompatible', 'Incompatible']},\n",
       " {'substance1': 'ALUMINUM ALKYL HYDRIDES',\n",
       "  'substance2': 'IRON, [POWDERED]',\n",
       "  'result': 'Incompatible',\n",
       "  'generated_reason': '',\n",
       "  'predicted_results': ['Incompatible', 'Incompatible', 'Incompatible']},\n",
       " {'substance1': 'CARBON, ACTIVATED',\n",
       "  'substance2': 'HYDROGEN',\n",
       "  'result': 'Compatible',\n",
       "  'generated_reason': '',\n",
       "  'predicted_results': ['Compatible', 'Compatible', 'Compatible']},\n",
       " {'substance1': 'ETHANOL',\n",
       "  'substance2': 'FERRIC NITRATE',\n",
       "  'result': 'Incompatible',\n",
       "  'generated_reason': '',\n",
       "  'predicted_results': ['Incompatible', 'Incompatible', 'Incompatible']},\n",
       " {'substance1': 'ALUMINUM ALKYL HYDRIDES',\n",
       "  'substance2': 'HYDROGEN',\n",
       "  'result': 'Incompatible',\n",
       "  'generated_reason': '',\n",
       "  'predicted_results': ['Incompatible', 'Incompatible', 'Incompatible']},\n",
       " {'substance1': 'FERRIC NITRATE',\n",
       "  'substance2': 'IRON OXIDE, SPENT',\n",
       "  'result': 'Incompatible',\n",
       "  'generated_reason': '',\n",
       "  'predicted_results': ['Incompatible', 'Incompatible', 'Incompatible']},\n",
       " {'substance1': 'AIR, COMPRESSED',\n",
       "  'substance2': 'FERRIC SULFATE',\n",
       "  'result': 'Compatible',\n",
       "  'generated_reason': '',\n",
       "  'predicted_results': ['Incompatible', 'Incompatible', 'Incompatible']},\n",
       " {'substance1': 'CARBON, ACTIVATED',\n",
       "  'substance2': 'PROPIONALDEHYDE',\n",
       "  'result': 'Incompatible',\n",
       "  'generated_reason': '',\n",
       "  'predicted_results': ['Caution', 'Caution', 'Incompatible']},\n",
       " {'substance1': 'FERRIC CHLORIDE',\n",
       "  'substance2': 'WATER',\n",
       "  'result': 'Caution',\n",
       "  'generated_reason': '',\n",
       "  'predicted_results': ['Compatible', 'Compatible', 'Compatible']},\n",
       " {'substance1': 'FERRIC NITRATE',\n",
       "  'substance2': 'HYDROGEN',\n",
       "  'result': 'Compatible',\n",
       "  'generated_reason': '',\n",
       "  'predicted_results': ['Incompatible', 'Incompatible', 'Incompatible']},\n",
       " {'substance1': 'CARBON, ACTIVATED',\n",
       "  'substance2': 'ETHANOL',\n",
       "  'result': 'Caution',\n",
       "  'generated_reason': '',\n",
       "  'predicted_results': ['Compatible', 'Compatible', 'Compatible']},\n",
       " {'substance1': 'CARBON, ACTIVATED',\n",
       "  'substance2': 'WATER',\n",
       "  'result': 'Compatible',\n",
       "  'generated_reason': '',\n",
       "  'predicted_results': ['Compatible', 'Compatible', 'Compatible']}]"
      ]
     },
     "execution_count": 8,
     "metadata": {},
     "output_type": "execute_result"
    }
   ],
   "source": [
    "completed_records"
   ]
  },
  {
   "cell_type": "code",
   "execution_count": 9,
   "metadata": {},
   "outputs": [],
   "source": [
    "#save\n",
    "import datetime\n",
    "import json\n",
    "\n",
    "study_name=\"mixture_practice_wo_reason\"\n",
    "now=datetime.datetime.now()\n",
    "now_str=now.strftime(\"%Y%m%d_%H%M%S\")\n",
    "save_path=f\"results/{study_name}_{now_str}.json\"\n",
    "with open(save_path, 'w', encoding = \"utf-8\") as f:\n",
    "    json.dump(completed_records, f, indent=4, ensure_ascii=False)"
   ]
  }
 ],
 "metadata": {
  "kernelspec": {
   "display_name": "Python 3 (ipykernel)",
   "language": "python",
   "name": "python3"
  },
  "language_info": {
   "codemirror_mode": {
    "name": "ipython",
    "version": 3
   },
   "file_extension": ".py",
   "mimetype": "text/x-python",
   "name": "python",
   "nbconvert_exporter": "python",
   "pygments_lexer": "ipython3",
   "version": "3.10.11"
  }
 },
 "nbformat": 4,
 "nbformat_minor": 4
}
