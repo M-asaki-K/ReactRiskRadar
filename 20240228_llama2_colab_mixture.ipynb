{
  "cells": [
    {
      "cell_type": "markdown",
      "metadata": {
        "id": "6SSJmmdvtz2J"
      },
      "source": [
        "# (Q)2つの材料の組合せ+(R)理由+(A)混合混触危険性データセットのLLMによる学習と予測\n",
        "- Q&A: CRWより抽出した典型的な化学物質に関する混合混触危険性データセットを使用\n",
        "- R: GPT-3.5を使い､Q&Aに含まれるreference dataを参考に自動生成\n",
        "\n",
        "# 注 : 無料のGPUだと､cuda out of memoryとなるかもしれません\n",
        "- vram節約の工夫が必要そうです\n",
        "- 学習後に一旦､ランタイムリセットしてLoRAモデルを読み込みなおした方が良さそうです\n",
        "- 推論にはかなりの時間を要します（15 min/件）。"
      ]
    },
    {
      "cell_type": "code",
      "execution_count": 1,
      "metadata": {
        "colab": {
          "base_uri": "https://localhost:8080/"
        },
        "id": "uBIpdkG_tz2K",
        "outputId": "bbc468f2-2507-4d11-fbfb-303dc3b623dd"
      },
      "outputs": [
        {
          "output_type": "stream",
          "name": "stdout",
          "text": [
            "Requirement already satisfied: transformers==4.35.0 in /usr/local/lib/python3.10/dist-packages (4.35.0)\n",
            "Requirement already satisfied: filelock in /usr/local/lib/python3.10/dist-packages (from transformers==4.35.0) (3.13.1)\n",
            "Requirement already satisfied: huggingface-hub<1.0,>=0.16.4 in /usr/local/lib/python3.10/dist-packages (from transformers==4.35.0) (0.17.3)\n",
            "Requirement already satisfied: numpy>=1.17 in /usr/local/lib/python3.10/dist-packages (from transformers==4.35.0) (1.25.2)\n",
            "Requirement already satisfied: packaging>=20.0 in /usr/local/lib/python3.10/dist-packages (from transformers==4.35.0) (23.2)\n",
            "Requirement already satisfied: pyyaml>=5.1 in /usr/local/lib/python3.10/dist-packages (from transformers==4.35.0) (6.0.1)\n",
            "Requirement already satisfied: regex!=2019.12.17 in /usr/local/lib/python3.10/dist-packages (from transformers==4.35.0) (2023.12.25)\n",
            "Requirement already satisfied: requests in /usr/local/lib/python3.10/dist-packages (from transformers==4.35.0) (2.31.0)\n",
            "Requirement already satisfied: tokenizers<0.15,>=0.14 in /usr/local/lib/python3.10/dist-packages (from transformers==4.35.0) (0.14.1)\n",
            "Requirement already satisfied: safetensors>=0.3.1 in /usr/local/lib/python3.10/dist-packages (from transformers==4.35.0) (0.4.2)\n",
            "Requirement already satisfied: tqdm>=4.27 in /usr/local/lib/python3.10/dist-packages (from transformers==4.35.0) (4.66.2)\n",
            "Requirement already satisfied: fsspec in /usr/local/lib/python3.10/dist-packages (from huggingface-hub<1.0,>=0.16.4->transformers==4.35.0) (2023.6.0)\n",
            "Requirement already satisfied: typing-extensions>=3.7.4.3 in /usr/local/lib/python3.10/dist-packages (from huggingface-hub<1.0,>=0.16.4->transformers==4.35.0) (4.9.0)\n",
            "Requirement already satisfied: charset-normalizer<4,>=2 in /usr/local/lib/python3.10/dist-packages (from requests->transformers==4.35.0) (3.3.2)\n",
            "Requirement already satisfied: idna<4,>=2.5 in /usr/local/lib/python3.10/dist-packages (from requests->transformers==4.35.0) (3.6)\n",
            "Requirement already satisfied: urllib3<3,>=1.21.1 in /usr/local/lib/python3.10/dist-packages (from requests->transformers==4.35.0) (2.0.7)\n",
            "Requirement already satisfied: certifi>=2017.4.17 in /usr/local/lib/python3.10/dist-packages (from requests->transformers==4.35.0) (2024.2.2)\n",
            "Requirement already satisfied: peft==0.5.0 in /usr/local/lib/python3.10/dist-packages (0.5.0)\n",
            "Requirement already satisfied: numpy>=1.17 in /usr/local/lib/python3.10/dist-packages (from peft==0.5.0) (1.25.2)\n",
            "Requirement already satisfied: packaging>=20.0 in /usr/local/lib/python3.10/dist-packages (from peft==0.5.0) (23.2)\n",
            "Requirement already satisfied: psutil in /usr/local/lib/python3.10/dist-packages (from peft==0.5.0) (5.9.5)\n",
            "Requirement already satisfied: pyyaml in /usr/local/lib/python3.10/dist-packages (from peft==0.5.0) (6.0.1)\n",
            "Requirement already satisfied: torch>=1.13.0 in /usr/local/lib/python3.10/dist-packages (from peft==0.5.0) (2.1.0+cu121)\n",
            "Requirement already satisfied: transformers in /usr/local/lib/python3.10/dist-packages (from peft==0.5.0) (4.35.0)\n",
            "Requirement already satisfied: tqdm in /usr/local/lib/python3.10/dist-packages (from peft==0.5.0) (4.66.2)\n",
            "Requirement already satisfied: accelerate in /usr/local/lib/python3.10/dist-packages (from peft==0.5.0) (0.23.0)\n",
            "Requirement already satisfied: safetensors in /usr/local/lib/python3.10/dist-packages (from peft==0.5.0) (0.4.2)\n",
            "Requirement already satisfied: filelock in /usr/local/lib/python3.10/dist-packages (from torch>=1.13.0->peft==0.5.0) (3.13.1)\n",
            "Requirement already satisfied: typing-extensions in /usr/local/lib/python3.10/dist-packages (from torch>=1.13.0->peft==0.5.0) (4.9.0)\n",
            "Requirement already satisfied: sympy in /usr/local/lib/python3.10/dist-packages (from torch>=1.13.0->peft==0.5.0) (1.12)\n",
            "Requirement already satisfied: networkx in /usr/local/lib/python3.10/dist-packages (from torch>=1.13.0->peft==0.5.0) (3.2.1)\n",
            "Requirement already satisfied: jinja2 in /usr/local/lib/python3.10/dist-packages (from torch>=1.13.0->peft==0.5.0) (3.1.3)\n",
            "Requirement already satisfied: fsspec in /usr/local/lib/python3.10/dist-packages (from torch>=1.13.0->peft==0.5.0) (2023.6.0)\n",
            "Requirement already satisfied: triton==2.1.0 in /usr/local/lib/python3.10/dist-packages (from torch>=1.13.0->peft==0.5.0) (2.1.0)\n",
            "Requirement already satisfied: huggingface-hub in /usr/local/lib/python3.10/dist-packages (from accelerate->peft==0.5.0) (0.17.3)\n",
            "Requirement already satisfied: regex!=2019.12.17 in /usr/local/lib/python3.10/dist-packages (from transformers->peft==0.5.0) (2023.12.25)\n",
            "Requirement already satisfied: requests in /usr/local/lib/python3.10/dist-packages (from transformers->peft==0.5.0) (2.31.0)\n",
            "Requirement already satisfied: tokenizers<0.15,>=0.14 in /usr/local/lib/python3.10/dist-packages (from transformers->peft==0.5.0) (0.14.1)\n",
            "Requirement already satisfied: MarkupSafe>=2.0 in /usr/local/lib/python3.10/dist-packages (from jinja2->torch>=1.13.0->peft==0.5.0) (2.1.5)\n",
            "Requirement already satisfied: charset-normalizer<4,>=2 in /usr/local/lib/python3.10/dist-packages (from requests->transformers->peft==0.5.0) (3.3.2)\n",
            "Requirement already satisfied: idna<4,>=2.5 in /usr/local/lib/python3.10/dist-packages (from requests->transformers->peft==0.5.0) (3.6)\n",
            "Requirement already satisfied: urllib3<3,>=1.21.1 in /usr/local/lib/python3.10/dist-packages (from requests->transformers->peft==0.5.0) (2.0.7)\n",
            "Requirement already satisfied: certifi>=2017.4.17 in /usr/local/lib/python3.10/dist-packages (from requests->transformers->peft==0.5.0) (2024.2.2)\n",
            "Requirement already satisfied: mpmath>=0.19 in /usr/local/lib/python3.10/dist-packages (from sympy->torch>=1.13.0->peft==0.5.0) (1.3.0)\n",
            "Requirement already satisfied: bitsandbytes==0.41.1 in /usr/local/lib/python3.10/dist-packages (0.41.1)\n",
            "Requirement already satisfied: accelerate==0.23.0 in /usr/local/lib/python3.10/dist-packages (0.23.0)\n",
            "Requirement already satisfied: numpy>=1.17 in /usr/local/lib/python3.10/dist-packages (from accelerate==0.23.0) (1.25.2)\n",
            "Requirement already satisfied: packaging>=20.0 in /usr/local/lib/python3.10/dist-packages (from accelerate==0.23.0) (23.2)\n",
            "Requirement already satisfied: psutil in /usr/local/lib/python3.10/dist-packages (from accelerate==0.23.0) (5.9.5)\n",
            "Requirement already satisfied: pyyaml in /usr/local/lib/python3.10/dist-packages (from accelerate==0.23.0) (6.0.1)\n",
            "Requirement already satisfied: torch>=1.10.0 in /usr/local/lib/python3.10/dist-packages (from accelerate==0.23.0) (2.1.0+cu121)\n",
            "Requirement already satisfied: huggingface-hub in /usr/local/lib/python3.10/dist-packages (from accelerate==0.23.0) (0.17.3)\n",
            "Requirement already satisfied: filelock in /usr/local/lib/python3.10/dist-packages (from torch>=1.10.0->accelerate==0.23.0) (3.13.1)\n",
            "Requirement already satisfied: typing-extensions in /usr/local/lib/python3.10/dist-packages (from torch>=1.10.0->accelerate==0.23.0) (4.9.0)\n",
            "Requirement already satisfied: sympy in /usr/local/lib/python3.10/dist-packages (from torch>=1.10.0->accelerate==0.23.0) (1.12)\n",
            "Requirement already satisfied: networkx in /usr/local/lib/python3.10/dist-packages (from torch>=1.10.0->accelerate==0.23.0) (3.2.1)\n",
            "Requirement already satisfied: jinja2 in /usr/local/lib/python3.10/dist-packages (from torch>=1.10.0->accelerate==0.23.0) (3.1.3)\n",
            "Requirement already satisfied: fsspec in /usr/local/lib/python3.10/dist-packages (from torch>=1.10.0->accelerate==0.23.0) (2023.6.0)\n",
            "Requirement already satisfied: triton==2.1.0 in /usr/local/lib/python3.10/dist-packages (from torch>=1.10.0->accelerate==0.23.0) (2.1.0)\n",
            "Requirement already satisfied: requests in /usr/local/lib/python3.10/dist-packages (from huggingface-hub->accelerate==0.23.0) (2.31.0)\n",
            "Requirement already satisfied: tqdm>=4.42.1 in /usr/local/lib/python3.10/dist-packages (from huggingface-hub->accelerate==0.23.0) (4.66.2)\n",
            "Requirement already satisfied: MarkupSafe>=2.0 in /usr/local/lib/python3.10/dist-packages (from jinja2->torch>=1.10.0->accelerate==0.23.0) (2.1.5)\n",
            "Requirement already satisfied: charset-normalizer<4,>=2 in /usr/local/lib/python3.10/dist-packages (from requests->huggingface-hub->accelerate==0.23.0) (3.3.2)\n",
            "Requirement already satisfied: idna<4,>=2.5 in /usr/local/lib/python3.10/dist-packages (from requests->huggingface-hub->accelerate==0.23.0) (3.6)\n",
            "Requirement already satisfied: urllib3<3,>=1.21.1 in /usr/local/lib/python3.10/dist-packages (from requests->huggingface-hub->accelerate==0.23.0) (2.0.7)\n",
            "Requirement already satisfied: certifi>=2017.4.17 in /usr/local/lib/python3.10/dist-packages (from requests->huggingface-hub->accelerate==0.23.0) (2024.2.2)\n",
            "Requirement already satisfied: mpmath>=0.19 in /usr/local/lib/python3.10/dist-packages (from sympy->torch>=1.10.0->accelerate==0.23.0) (1.3.0)\n",
            "Requirement already satisfied: flash-attn==2.3.1.post1 in /usr/local/lib/python3.10/dist-packages (2.3.1.post1)\n",
            "Requirement already satisfied: torch in /usr/local/lib/python3.10/dist-packages (from flash-attn==2.3.1.post1) (2.1.0+cu121)\n",
            "Requirement already satisfied: einops in /usr/local/lib/python3.10/dist-packages (from flash-attn==2.3.1.post1) (0.7.0)\n",
            "Requirement already satisfied: packaging in /usr/local/lib/python3.10/dist-packages (from flash-attn==2.3.1.post1) (23.2)\n",
            "Requirement already satisfied: ninja in /usr/local/lib/python3.10/dist-packages (from flash-attn==2.3.1.post1) (1.11.1.1)\n",
            "Requirement already satisfied: filelock in /usr/local/lib/python3.10/dist-packages (from torch->flash-attn==2.3.1.post1) (3.13.1)\n",
            "Requirement already satisfied: typing-extensions in /usr/local/lib/python3.10/dist-packages (from torch->flash-attn==2.3.1.post1) (4.9.0)\n",
            "Requirement already satisfied: sympy in /usr/local/lib/python3.10/dist-packages (from torch->flash-attn==2.3.1.post1) (1.12)\n",
            "Requirement already satisfied: networkx in /usr/local/lib/python3.10/dist-packages (from torch->flash-attn==2.3.1.post1) (3.2.1)\n",
            "Requirement already satisfied: jinja2 in /usr/local/lib/python3.10/dist-packages (from torch->flash-attn==2.3.1.post1) (3.1.3)\n",
            "Requirement already satisfied: fsspec in /usr/local/lib/python3.10/dist-packages (from torch->flash-attn==2.3.1.post1) (2023.6.0)\n",
            "Requirement already satisfied: triton==2.1.0 in /usr/local/lib/python3.10/dist-packages (from torch->flash-attn==2.3.1.post1) (2.1.0)\n",
            "Requirement already satisfied: MarkupSafe>=2.0 in /usr/local/lib/python3.10/dist-packages (from jinja2->torch->flash-attn==2.3.1.post1) (2.1.5)\n",
            "Requirement already satisfied: mpmath>=0.19 in /usr/local/lib/python3.10/dist-packages (from sympy->torch->flash-attn==2.3.1.post1) (1.3.0)\n",
            "Requirement already satisfied: datasets==2.14.5 in /usr/local/lib/python3.10/dist-packages (2.14.5)\n",
            "Requirement already satisfied: numpy>=1.17 in /usr/local/lib/python3.10/dist-packages (from datasets==2.14.5) (1.25.2)\n",
            "Requirement already satisfied: pyarrow>=8.0.0 in /usr/local/lib/python3.10/dist-packages (from datasets==2.14.5) (14.0.2)\n",
            "Requirement already satisfied: dill<0.3.8,>=0.3.0 in /usr/local/lib/python3.10/dist-packages (from datasets==2.14.5) (0.3.7)\n",
            "Requirement already satisfied: pandas in /usr/local/lib/python3.10/dist-packages (from datasets==2.14.5) (1.5.3)\n",
            "Requirement already satisfied: requests>=2.19.0 in /usr/local/lib/python3.10/dist-packages (from datasets==2.14.5) (2.31.0)\n",
            "Requirement already satisfied: tqdm>=4.62.1 in /usr/local/lib/python3.10/dist-packages (from datasets==2.14.5) (4.66.2)\n",
            "Requirement already satisfied: xxhash in /usr/local/lib/python3.10/dist-packages (from datasets==2.14.5) (3.4.1)\n",
            "Requirement already satisfied: multiprocess in /usr/local/lib/python3.10/dist-packages (from datasets==2.14.5) (0.70.15)\n",
            "Requirement already satisfied: fsspec[http]<2023.9.0,>=2023.1.0 in /usr/local/lib/python3.10/dist-packages (from datasets==2.14.5) (2023.6.0)\n",
            "Requirement already satisfied: aiohttp in /usr/local/lib/python3.10/dist-packages (from datasets==2.14.5) (3.9.3)\n",
            "Requirement already satisfied: huggingface-hub<1.0.0,>=0.14.0 in /usr/local/lib/python3.10/dist-packages (from datasets==2.14.5) (0.17.3)\n",
            "Requirement already satisfied: packaging in /usr/local/lib/python3.10/dist-packages (from datasets==2.14.5) (23.2)\n",
            "Requirement already satisfied: pyyaml>=5.1 in /usr/local/lib/python3.10/dist-packages (from datasets==2.14.5) (6.0.1)\n",
            "Requirement already satisfied: aiosignal>=1.1.2 in /usr/local/lib/python3.10/dist-packages (from aiohttp->datasets==2.14.5) (1.3.1)\n",
            "Requirement already satisfied: attrs>=17.3.0 in /usr/local/lib/python3.10/dist-packages (from aiohttp->datasets==2.14.5) (23.2.0)\n",
            "Requirement already satisfied: frozenlist>=1.1.1 in /usr/local/lib/python3.10/dist-packages (from aiohttp->datasets==2.14.5) (1.4.1)\n",
            "Requirement already satisfied: multidict<7.0,>=4.5 in /usr/local/lib/python3.10/dist-packages (from aiohttp->datasets==2.14.5) (6.0.5)\n",
            "Requirement already satisfied: yarl<2.0,>=1.0 in /usr/local/lib/python3.10/dist-packages (from aiohttp->datasets==2.14.5) (1.9.4)\n",
            "Requirement already satisfied: async-timeout<5.0,>=4.0 in /usr/local/lib/python3.10/dist-packages (from aiohttp->datasets==2.14.5) (4.0.3)\n",
            "Requirement already satisfied: filelock in /usr/local/lib/python3.10/dist-packages (from huggingface-hub<1.0.0,>=0.14.0->datasets==2.14.5) (3.13.1)\n",
            "Requirement already satisfied: typing-extensions>=3.7.4.3 in /usr/local/lib/python3.10/dist-packages (from huggingface-hub<1.0.0,>=0.14.0->datasets==2.14.5) (4.9.0)\n",
            "Requirement already satisfied: charset-normalizer<4,>=2 in /usr/local/lib/python3.10/dist-packages (from requests>=2.19.0->datasets==2.14.5) (3.3.2)\n",
            "Requirement already satisfied: idna<4,>=2.5 in /usr/local/lib/python3.10/dist-packages (from requests>=2.19.0->datasets==2.14.5) (3.6)\n",
            "Requirement already satisfied: urllib3<3,>=1.21.1 in /usr/local/lib/python3.10/dist-packages (from requests>=2.19.0->datasets==2.14.5) (2.0.7)\n",
            "Requirement already satisfied: certifi>=2017.4.17 in /usr/local/lib/python3.10/dist-packages (from requests>=2.19.0->datasets==2.14.5) (2024.2.2)\n",
            "Requirement already satisfied: python-dateutil>=2.8.1 in /usr/local/lib/python3.10/dist-packages (from pandas->datasets==2.14.5) (2.8.2)\n",
            "Requirement already satisfied: pytz>=2020.1 in /usr/local/lib/python3.10/dist-packages (from pandas->datasets==2.14.5) (2023.4)\n",
            "Requirement already satisfied: six>=1.5 in /usr/local/lib/python3.10/dist-packages (from python-dateutil>=2.8.1->pandas->datasets==2.14.5) (1.16.0)\n"
          ]
        }
      ],
      "source": [
        "#必要なライブラリのインストール\n",
        "!pip install transformers==4.35.0\n",
        "!pip install peft==0.5.0\n",
        "!pip install bitsandbytes==0.41.1\n",
        "!pip install accelerate==0.23.0\n",
        "!pip install flash-attn==2.3.1.post1\n",
        "!pip install datasets==2.14.5"
      ]
    },
    {
      "cell_type": "code",
      "execution_count": 2,
      "metadata": {
        "colab": {
          "base_uri": "https://localhost:8080/"
        },
        "id": "asMuHdWVukOW",
        "outputId": "a3149e36-b154-4ff0-eaa6-5f0f9b0119de"
      },
      "outputs": [
        {
          "output_type": "stream",
          "name": "stdout",
          "text": [
            "\n",
            "    _|    _|  _|    _|    _|_|_|    _|_|_|  _|_|_|  _|      _|    _|_|_|      _|_|_|_|    _|_|      _|_|_|  _|_|_|_|\n",
            "    _|    _|  _|    _|  _|        _|          _|    _|_|    _|  _|            _|        _|    _|  _|        _|\n",
            "    _|_|_|_|  _|    _|  _|  _|_|  _|  _|_|    _|    _|  _|  _|  _|  _|_|      _|_|_|    _|_|_|_|  _|        _|_|_|\n",
            "    _|    _|  _|    _|  _|    _|  _|    _|    _|    _|    _|_|  _|    _|      _|        _|    _|  _|        _|\n",
            "    _|    _|    _|_|      _|_|_|    _|_|_|  _|_|_|  _|      _|    _|_|_|      _|        _|    _|    _|_|_|  _|_|_|_|\n",
            "    \n",
            "    A token is already saved on your machine. Run `huggingface-cli whoami` to get more information or `huggingface-cli logout` if you want to log out.\n",
            "    Setting a new token will erase the existing one.\n",
            "    To login, `huggingface_hub` requires a token generated from https://huggingface.co/settings/tokens .\n",
            "Token: \n",
            "Add token as git credential? (Y/n) n\n",
            "Token is valid (permission: read).\n",
            "Your token has been saved to /root/.cache/huggingface/token\n",
            "Login successful\n"
          ]
        }
      ],
      "source": [
        "#huggingfaceにログイン\n",
        "!huggingface-cli login"
      ]
    },
    {
      "cell_type": "code",
      "execution_count": 3,
      "metadata": {
        "id": "xWCuL3gztz2K"
      },
      "outputs": [],
      "source": [
        "import os\n",
        "#os.environ[\"CUDA_VISIBLE_DEVICES\"]=\"1\"\n",
        "\n",
        "from transformers import AutoModelForCausalLM, BitsAndBytesConfig\n",
        "import torch\n",
        "from peft import LoraConfig, get_peft_model\n",
        "from transformers import AutoTokenizer,pipeline\n",
        "from datasets import Dataset\n",
        "import copy\n",
        "from tqdm import tqdm\n",
        "#問題設定: はじめのN件をテストデータにする\n",
        "n_test=30"
      ]
    },
    {
      "cell_type": "code",
      "execution_count": 4,
      "metadata": {
        "id": "XAk4Qf-Qtz2K"
      },
      "outputs": [],
      "source": [
        "#ハイパラ関連\n",
        "#モデル名\n",
        "model_size=7\n",
        "#model_size=13\n",
        "#model_size=70\n",
        "model_name=f\"meta-llama/Llama-2-{model_size}b-chat-hf\"\n",
        "\n",
        "#LoRA関連\n",
        "r=8\n",
        "lora_alpha=8\n",
        "bit=16\n",
        "bit=4\n",
        "\n",
        "#LoRAのadapter\n",
        "target_modules= [\n",
        "    #\"embed_tokens\",\n",
        "    #\"lm_head\",\n",
        "    #\"q_proj\",\n",
        "    \"k_proj\",\n",
        "    \"v_proj\",\n",
        "    #\"o_proj\",\n",
        "    #\"gate_proj\",\n",
        "    #\"up_proj\",\n",
        "    #\"down_proj\",\n",
        "]\n",
        "\n",
        "#学習関連\n",
        "gradient_checkpointing = False\n",
        "per_device_train_batch_size=1\n",
        "epochs=1\n",
        "lr=10**-5\n",
        "\n",
        "#ファインチューニングするか否か\n",
        "do_train=True\n",
        "#do_train=False"
      ]
    },
    {
      "cell_type": "code",
      "execution_count": 5,
      "metadata": {
        "id": "jiRFBqxxtz2K"
      },
      "outputs": [],
      "source": [
        "\n",
        "device_map={\"\":0}\n",
        "use_flash_attention_2=False #Trueの方が早いが､無料のT4 gpuの場合は無効にしないとエラーが出る\n",
        "\n",
        "bnb_config = BitsAndBytesConfig(\n",
        "    load_in_4bit=True,\n",
        "    bnb_4bit_use_double_quant=True,\n",
        "    bnb_4bit_quant_type=\"nf4\",\n",
        "    bnb_4bit_compute_dtype=torch.bfloat16\n",
        ")\n",
        "\n",
        "def init_model(model_name, r, lora_alpha, target_modules, bit=4):\n",
        "    if bit == 4:\n",
        "        print(\"Using 4-bit mode\")\n",
        "        model = AutoModelForCausalLM.from_pretrained(model_name,\n",
        "                                                     quantization_config=bnb_config,\n",
        "                                                     device_map=device_map,\n",
        "                                                     use_flash_attention_2=use_flash_attention_2,\n",
        "                                                     )\n",
        "    elif bit == 16:\n",
        "        print(\"Using fp16 mode\")\n",
        "        model = AutoModelForCausalLM.from_pretrained(model_name,\n",
        "                                                     device_map=device_map,\n",
        "                                                     torch_dtype=torch.float16,\n",
        "                                                     use_flash_attention_2=use_flash_attention_2,\n",
        "                                                     )\n",
        "    else:\n",
        "        raise ValueError(\"bit must be 4 or 16\")\n",
        "\n",
        "    if len(target_modules)==0:\n",
        "        return model\n",
        "    peft_config = LoraConfig(\n",
        "        task_type=\"CAUSAL_LM\", inference_mode=False, r=r, lora_alpha=lora_alpha,\n",
        "        lora_dropout=0.1,\n",
        "        target_modules=target_modules,\n",
        "    )\n",
        "    model = get_peft_model(model, peft_config)\n",
        "    return model\n"
      ]
    },
    {
      "cell_type": "code",
      "execution_count": 6,
      "metadata": {
        "colab": {
          "base_uri": "https://localhost:8080/",
          "height": 66,
          "referenced_widgets": [
            "1a38e15465254f8bbef01154303747ee",
            "92560486bdfb4be2ad2bb9fe11f5b7c8",
            "d358e2d5776e4983a2cc1163a113d9b7",
            "e54968f24aad4aa2bd92b4ad11a6c9bc",
            "5aaac849e158412c98ef1bcf17d55621",
            "447580b9a4bc43ffbb302ed0429a0bb4",
            "822d85ec9e654c41843eca166caca212",
            "09f5c8de106c4f99926027c0e70ac725",
            "0a10697dfe1b4cdca629811443edd424",
            "eff46334a6d54cfca5119221967716fe",
            "27664eeb27dc4b2190d6d50f39104276"
          ]
        },
        "id": "RkQ6hqmitz2M",
        "outputId": "98b02388-d8d2-4584-a6fa-929f5e7b0e49"
      },
      "outputs": [
        {
          "output_type": "stream",
          "name": "stdout",
          "text": [
            "load lora model\n"
          ]
        },
        {
          "output_type": "display_data",
          "data": {
            "text/plain": [
              "Loading checkpoint shards:   0%|          | 0/2 [00:00<?, ?it/s]"
            ],
            "application/vnd.jupyter.widget-view+json": {
              "version_major": 2,
              "version_minor": 0,
              "model_id": "1a38e15465254f8bbef01154303747ee"
            }
          },
          "metadata": {}
        }
      ],
      "source": [
        "\n",
        "from peft import AutoPeftModelForCausalLM\n",
        "lora_path=\"./outputs/model\"\n",
        "\n",
        "#訓練済みモデルを読み込む場合\n",
        "if os.path.exists(lora_path):\n",
        "  print(\"load lora model\")\n",
        "  model = AutoPeftModelForCausalLM.from_pretrained(lora_path,\n",
        "                                                   device_map=device_map,\n",
        "                                                     quantization_config=bnb_config,\n",
        "                                                     use_flash_attention_2=use_flash_attention_2,)\n",
        "  do_train=False\n",
        "else:\n",
        "  #モデル初期化\n",
        "  model=init_model(model_name, r, lora_alpha, target_modules, bit=bit)\n",
        "\n",
        "\n",
        "tokenizer = AutoTokenizer.from_pretrained(model_name)\n",
        "tokenizer.pad_token = tokenizer.eos_token\n",
        "\n",
        "#pipe = pipeline(\"text-generation\", model=model,\n",
        "#                tokenizer=tokenizer, max_new_tokens=1000)"
      ]
    },
    {
      "cell_type": "markdown",
      "metadata": {
        "id": "0QlEJwBLtz2M"
      },
      "source": [
        "# データセットの生成"
      ]
    },
    {
      "cell_type": "code",
      "execution_count": 7,
      "metadata": {
        "id": "VABG3rKsu5LR"
      },
      "outputs": [],
      "source": [
        "from collections import Counter\n",
        "import random\n",
        "import json\n",
        "\n",
        "# JSONファイルを読み込む（今回はサンプルデータを使用）\n",
        "# 実際には、ユーザーが提供するファイルパスを使用する\n",
        "file_path = '/content/mixture_practice_w_reason_numeric_train_20240226_073910.json'\n",
        "\n",
        "import matplotlib.pyplot as plt\n",
        "import numpy as np\n",
        "import pandas as pd\n",
        "\n",
        "# 予測結果のサンプルデータ\n",
        "with open(file_path, 'r', encoding='utf-8') as f:\n",
        "    data = json.load(f)\n",
        "\n",
        "# predicted_resultsがないレコードを除外し、str型が紛れ込んでいるpredicted_resultsを数値型に置き換える\n",
        "data = [\n",
        "    {**record, 'predicted_results': [int(value) if isinstance(value, str) else value for value in record['predicted_results']]}\n",
        "    for record in data if 'predicted_results' in record\n",
        "]\n"
      ]
    },
    {
      "cell_type": "code",
      "execution_count": 8,
      "metadata": {
        "colab": {
          "base_uri": "https://localhost:8080/",
          "height": 129
        },
        "id": "uksr9UPJtz2N",
        "outputId": "5ddc16af-0c4a-4977-efb1-78153d3e1ca3"
      },
      "outputs": [
        {
          "output_type": "stream",
          "name": "stdout",
          "text": [
            "(1230, 5)\n"
          ]
        },
        {
          "output_type": "execute_result",
          "data": {
            "text/plain": [
              "          substance1       substance2      result  \\\n",
              "0  CALCIUM CARBONATE          BENZENE  Compatible   \n",
              "1          LIMESTONE  ETHYLENE GLYCOL  Compatible   \n",
              "\n",
              "                                    generated_reason predicted_results  \n",
              "0  Hydrocarbons, Aromatic WITH Carbonate Salts:  ...      [10, 10, 10]  \n",
              "1  While there is generally no evidence for hazar...      [25, 25, 25]  "
            ],
            "text/html": [
              "\n",
              "  <div id=\"df-217656ed-d167-4c29-965a-e691f62b5852\" class=\"colab-df-container\">\n",
              "    <div>\n",
              "<style scoped>\n",
              "    .dataframe tbody tr th:only-of-type {\n",
              "        vertical-align: middle;\n",
              "    }\n",
              "\n",
              "    .dataframe tbody tr th {\n",
              "        vertical-align: top;\n",
              "    }\n",
              "\n",
              "    .dataframe thead th {\n",
              "        text-align: right;\n",
              "    }\n",
              "</style>\n",
              "<table border=\"1\" class=\"dataframe\">\n",
              "  <thead>\n",
              "    <tr style=\"text-align: right;\">\n",
              "      <th></th>\n",
              "      <th>substance1</th>\n",
              "      <th>substance2</th>\n",
              "      <th>result</th>\n",
              "      <th>generated_reason</th>\n",
              "      <th>predicted_results</th>\n",
              "    </tr>\n",
              "  </thead>\n",
              "  <tbody>\n",
              "    <tr>\n",
              "      <th>0</th>\n",
              "      <td>CALCIUM CARBONATE</td>\n",
              "      <td>BENZENE</td>\n",
              "      <td>Compatible</td>\n",
              "      <td>Hydrocarbons, Aromatic WITH Carbonate Salts:  ...</td>\n",
              "      <td>[10, 10, 10]</td>\n",
              "    </tr>\n",
              "    <tr>\n",
              "      <th>1</th>\n",
              "      <td>LIMESTONE</td>\n",
              "      <td>ETHYLENE GLYCOL</td>\n",
              "      <td>Compatible</td>\n",
              "      <td>While there is generally no evidence for hazar...</td>\n",
              "      <td>[25, 25, 25]</td>\n",
              "    </tr>\n",
              "  </tbody>\n",
              "</table>\n",
              "</div>\n",
              "    <div class=\"colab-df-buttons\">\n",
              "\n",
              "  <div class=\"colab-df-container\">\n",
              "    <button class=\"colab-df-convert\" onclick=\"convertToInteractive('df-217656ed-d167-4c29-965a-e691f62b5852')\"\n",
              "            title=\"Convert this dataframe to an interactive table.\"\n",
              "            style=\"display:none;\">\n",
              "\n",
              "  <svg xmlns=\"http://www.w3.org/2000/svg\" height=\"24px\" viewBox=\"0 -960 960 960\">\n",
              "    <path d=\"M120-120v-720h720v720H120Zm60-500h600v-160H180v160Zm220 220h160v-160H400v160Zm0 220h160v-160H400v160ZM180-400h160v-160H180v160Zm440 0h160v-160H620v160ZM180-180h160v-160H180v160Zm440 0h160v-160H620v160Z\"/>\n",
              "  </svg>\n",
              "    </button>\n",
              "\n",
              "  <style>\n",
              "    .colab-df-container {\n",
              "      display:flex;\n",
              "      gap: 12px;\n",
              "    }\n",
              "\n",
              "    .colab-df-convert {\n",
              "      background-color: #E8F0FE;\n",
              "      border: none;\n",
              "      border-radius: 50%;\n",
              "      cursor: pointer;\n",
              "      display: none;\n",
              "      fill: #1967D2;\n",
              "      height: 32px;\n",
              "      padding: 0 0 0 0;\n",
              "      width: 32px;\n",
              "    }\n",
              "\n",
              "    .colab-df-convert:hover {\n",
              "      background-color: #E2EBFA;\n",
              "      box-shadow: 0px 1px 2px rgba(60, 64, 67, 0.3), 0px 1px 3px 1px rgba(60, 64, 67, 0.15);\n",
              "      fill: #174EA6;\n",
              "    }\n",
              "\n",
              "    .colab-df-buttons div {\n",
              "      margin-bottom: 4px;\n",
              "    }\n",
              "\n",
              "    [theme=dark] .colab-df-convert {\n",
              "      background-color: #3B4455;\n",
              "      fill: #D2E3FC;\n",
              "    }\n",
              "\n",
              "    [theme=dark] .colab-df-convert:hover {\n",
              "      background-color: #434B5C;\n",
              "      box-shadow: 0px 1px 3px 1px rgba(0, 0, 0, 0.15);\n",
              "      filter: drop-shadow(0px 1px 2px rgba(0, 0, 0, 0.3));\n",
              "      fill: #FFFFFF;\n",
              "    }\n",
              "  </style>\n",
              "\n",
              "    <script>\n",
              "      const buttonEl =\n",
              "        document.querySelector('#df-217656ed-d167-4c29-965a-e691f62b5852 button.colab-df-convert');\n",
              "      buttonEl.style.display =\n",
              "        google.colab.kernel.accessAllowed ? 'block' : 'none';\n",
              "\n",
              "      async function convertToInteractive(key) {\n",
              "        const element = document.querySelector('#df-217656ed-d167-4c29-965a-e691f62b5852');\n",
              "        const dataTable =\n",
              "          await google.colab.kernel.invokeFunction('convertToInteractive',\n",
              "                                                    [key], {});\n",
              "        if (!dataTable) return;\n",
              "\n",
              "        const docLinkHtml = 'Like what you see? Visit the ' +\n",
              "          '<a target=\"_blank\" href=https://colab.research.google.com/notebooks/data_table.ipynb>data table notebook</a>'\n",
              "          + ' to learn more about interactive tables.';\n",
              "        element.innerHTML = '';\n",
              "        dataTable['output_type'] = 'display_data';\n",
              "        await google.colab.output.renderOutput(dataTable, element);\n",
              "        const docLink = document.createElement('div');\n",
              "        docLink.innerHTML = docLinkHtml;\n",
              "        element.appendChild(docLink);\n",
              "      }\n",
              "    </script>\n",
              "  </div>\n",
              "\n",
              "\n",
              "<div id=\"df-49b733da-2ca5-4bfd-8b03-a8600656ae02\">\n",
              "  <button class=\"colab-df-quickchart\" onclick=\"quickchart('df-49b733da-2ca5-4bfd-8b03-a8600656ae02')\"\n",
              "            title=\"Suggest charts\"\n",
              "            style=\"display:none;\">\n",
              "\n",
              "<svg xmlns=\"http://www.w3.org/2000/svg\" height=\"24px\"viewBox=\"0 0 24 24\"\n",
              "     width=\"24px\">\n",
              "    <g>\n",
              "        <path d=\"M19 3H5c-1.1 0-2 .9-2 2v14c0 1.1.9 2 2 2h14c1.1 0 2-.9 2-2V5c0-1.1-.9-2-2-2zM9 17H7v-7h2v7zm4 0h-2V7h2v10zm4 0h-2v-4h2v4z\"/>\n",
              "    </g>\n",
              "</svg>\n",
              "  </button>\n",
              "\n",
              "<style>\n",
              "  .colab-df-quickchart {\n",
              "      --bg-color: #E8F0FE;\n",
              "      --fill-color: #1967D2;\n",
              "      --hover-bg-color: #E2EBFA;\n",
              "      --hover-fill-color: #174EA6;\n",
              "      --disabled-fill-color: #AAA;\n",
              "      --disabled-bg-color: #DDD;\n",
              "  }\n",
              "\n",
              "  [theme=dark] .colab-df-quickchart {\n",
              "      --bg-color: #3B4455;\n",
              "      --fill-color: #D2E3FC;\n",
              "      --hover-bg-color: #434B5C;\n",
              "      --hover-fill-color: #FFFFFF;\n",
              "      --disabled-bg-color: #3B4455;\n",
              "      --disabled-fill-color: #666;\n",
              "  }\n",
              "\n",
              "  .colab-df-quickchart {\n",
              "    background-color: var(--bg-color);\n",
              "    border: none;\n",
              "    border-radius: 50%;\n",
              "    cursor: pointer;\n",
              "    display: none;\n",
              "    fill: var(--fill-color);\n",
              "    height: 32px;\n",
              "    padding: 0;\n",
              "    width: 32px;\n",
              "  }\n",
              "\n",
              "  .colab-df-quickchart:hover {\n",
              "    background-color: var(--hover-bg-color);\n",
              "    box-shadow: 0 1px 2px rgba(60, 64, 67, 0.3), 0 1px 3px 1px rgba(60, 64, 67, 0.15);\n",
              "    fill: var(--button-hover-fill-color);\n",
              "  }\n",
              "\n",
              "  .colab-df-quickchart-complete:disabled,\n",
              "  .colab-df-quickchart-complete:disabled:hover {\n",
              "    background-color: var(--disabled-bg-color);\n",
              "    fill: var(--disabled-fill-color);\n",
              "    box-shadow: none;\n",
              "  }\n",
              "\n",
              "  .colab-df-spinner {\n",
              "    border: 2px solid var(--fill-color);\n",
              "    border-color: transparent;\n",
              "    border-bottom-color: var(--fill-color);\n",
              "    animation:\n",
              "      spin 1s steps(1) infinite;\n",
              "  }\n",
              "\n",
              "  @keyframes spin {\n",
              "    0% {\n",
              "      border-color: transparent;\n",
              "      border-bottom-color: var(--fill-color);\n",
              "      border-left-color: var(--fill-color);\n",
              "    }\n",
              "    20% {\n",
              "      border-color: transparent;\n",
              "      border-left-color: var(--fill-color);\n",
              "      border-top-color: var(--fill-color);\n",
              "    }\n",
              "    30% {\n",
              "      border-color: transparent;\n",
              "      border-left-color: var(--fill-color);\n",
              "      border-top-color: var(--fill-color);\n",
              "      border-right-color: var(--fill-color);\n",
              "    }\n",
              "    40% {\n",
              "      border-color: transparent;\n",
              "      border-right-color: var(--fill-color);\n",
              "      border-top-color: var(--fill-color);\n",
              "    }\n",
              "    60% {\n",
              "      border-color: transparent;\n",
              "      border-right-color: var(--fill-color);\n",
              "    }\n",
              "    80% {\n",
              "      border-color: transparent;\n",
              "      border-right-color: var(--fill-color);\n",
              "      border-bottom-color: var(--fill-color);\n",
              "    }\n",
              "    90% {\n",
              "      border-color: transparent;\n",
              "      border-bottom-color: var(--fill-color);\n",
              "    }\n",
              "  }\n",
              "</style>\n",
              "\n",
              "  <script>\n",
              "    async function quickchart(key) {\n",
              "      const quickchartButtonEl =\n",
              "        document.querySelector('#' + key + ' button');\n",
              "      quickchartButtonEl.disabled = true;  // To prevent multiple clicks.\n",
              "      quickchartButtonEl.classList.add('colab-df-spinner');\n",
              "      try {\n",
              "        const charts = await google.colab.kernel.invokeFunction(\n",
              "            'suggestCharts', [key], {});\n",
              "      } catch (error) {\n",
              "        console.error('Error during call to suggestCharts:', error);\n",
              "      }\n",
              "      quickchartButtonEl.classList.remove('colab-df-spinner');\n",
              "      quickchartButtonEl.classList.add('colab-df-quickchart-complete');\n",
              "    }\n",
              "    (() => {\n",
              "      let quickchartButtonEl =\n",
              "        document.querySelector('#df-49b733da-2ca5-4bfd-8b03-a8600656ae02 button');\n",
              "      quickchartButtonEl.style.display =\n",
              "        google.colab.kernel.accessAllowed ? 'block' : 'none';\n",
              "    })();\n",
              "  </script>\n",
              "</div>\n",
              "\n",
              "    </div>\n",
              "  </div>\n"
            ],
            "application/vnd.google.colaboratory.intrinsic+json": {
              "type": "dataframe",
              "summary": "{\n  \"name\": \"df[:2]\",\n  \"rows\": 2,\n  \"fields\": [\n    {\n      \"column\": \"substance1\",\n      \"properties\": {\n        \"dtype\": \"string\",\n        \"num_unique_values\": 2,\n        \"samples\": [\n          \"LIMESTONE\",\n          \"CALCIUM CARBONATE\"\n        ],\n        \"semantic_type\": \"\",\n        \"description\": \"\"\n      }\n    },\n    {\n      \"column\": \"substance2\",\n      \"properties\": {\n        \"dtype\": \"string\",\n        \"num_unique_values\": 2,\n        \"samples\": [\n          \"ETHYLENE GLYCOL\",\n          \"BENZENE\"\n        ],\n        \"semantic_type\": \"\",\n        \"description\": \"\"\n      }\n    },\n    {\n      \"column\": \"result\",\n      \"properties\": {\n        \"dtype\": \"string\",\n        \"num_unique_values\": 1,\n        \"samples\": [\n          \"Compatible\"\n        ],\n        \"semantic_type\": \"\",\n        \"description\": \"\"\n      }\n    },\n    {\n      \"column\": \"generated_reason\",\n      \"properties\": {\n        \"dtype\": \"string\",\n        \"num_unique_values\": 2,\n        \"samples\": [\n          \"While there is generally no evidence for hazardous reactions between alcohols and polyols with carbonate salts, it is worth noting that limestone, primarily composed of calcium carbonate, can react with certain organic acids, such as the acetic acid present in ethylene glycol. This reaction can result in the formation of calcium acetate and carbon dioxide gas. The release of carbon dioxide gas can lead to potentially hazardous pressure build-up, especially if the reaction occurs in a confined or sealed space. Additionally, the formation of calcium acetate could potentially impact the stability and properties of the mixture, particularly in industrial or storage settings. Therefore, despite the lack of direct evidence of hazardous reactivity, the potential for indirect chemical interactions between limestone and organic acids, such as ethylene glycol, should be considered. While the overall hazard score may not be high due to the absence of immediate violent reactivity, the potential for gas formation and changes in mixture properties may warrant a cautious approach. A hazard score of 25 is assigned to this mixture to reflect the potential for indirect chemical interactions leading to moderate hazards, particularly in specific environmental or operational conditions.\"\n        ],\n        \"semantic_type\": \"\",\n        \"description\": \"\"\n      }\n    },\n    {\n      \"column\": \"predicted_results\",\n      \"properties\": {\n        \"dtype\": \"object\",\n        \"semantic_type\": \"\",\n        \"description\": \"\"\n      }\n    }\n  ]\n}"
            }
          },
          "metadata": {},
          "execution_count": 8
        }
      ],
      "source": [
        "# データセットの読み込み\n",
        "import pandas as pd\n",
        "import numpy as np\n",
        "import random\n",
        "\n",
        "df = pd.DataFrame(data)\n",
        "\n",
        "# 乱数シードを設定しDataFrameをシャッフル\n",
        "np.random.seed(0)  # Numpyの乱数シードも固定\n",
        "df = df.sample(frac=1, random_state=0).reset_index(drop=True)  # random_stateでシードを指定（ここ省略しないでください。テストデータに学習データが混入してリーケージの要因になります）\n",
        "\n",
        "dataset = df.to_dict(orient=\"records\")\n",
        "random.seed(0)  # randomモジュールのシード固定\n",
        "random.shuffle(dataset)  # ここでは既にrandom.seed(0)が適用されている\n",
        "\n",
        "print(df.shape)　# 前述のリーケージを防ぐために、データフレームの一部を表示してシャッフルが再現しているか確認します\n",
        "df[:2]\n"
      ]
    },
    {
      "cell_type": "code",
      "execution_count": 9,
      "metadata": {
        "id": "F-u-qdrdmPE_"
      },
      "outputs": [],
      "source": [
        "#予測用関数（混合混触危険性の予測に対応するため改変）\n",
        "def gen_mixture_text(record, reason=\"\", prediction=\"\"):\n",
        "    substance1 = record[\"substance1\"]\n",
        "    substance2 = record[\"substance2\"]\n",
        "    prompt = f\"\"\"\n",
        "#Problem\n",
        "##Substance 1: {substance1}\n",
        "##Substance 2: {substance2}\"\"\"\n",
        "    if reason != \"\" and prediction != \"\":\n",
        "        prompt += f\"\"\"\n",
        "##Reason: {reason}\n",
        "##Prediction: {prediction}\n",
        "\"\"\"\n",
        "    else:\n",
        "        # Test mode\n",
        "        prompt += \"\"\"\n",
        "##Reason:\n",
        "\"\"\"\n",
        "    return prompt\n",
        "\n",
        "def generate_question_prompt(dataset, test_id, n_prompt_examples=5):\n",
        "    train_ids = [i for i in range(len(dataset)) if i != test_id]\n",
        "    prompt = system_prompt\n",
        "\n",
        "    # Train prompt\n",
        "    for _ in range(n_prompt_examples):\n",
        "        id = random.choice(train_ids)\n",
        "        prompt += gen_mixture_text(dataset[id],\n",
        "                                   reason=dataset[id][\"generated_reason\"],\n",
        "                                   prediction=dataset[id][\"predicted_results\"])\n",
        "        prompt += \"\\n\"\n",
        "\n",
        "    # Test prompt\n",
        "    prompt += gen_mixture_text(dataset[test_id])\n",
        "\n",
        "    return prompt\n",
        "\n",
        "# このスクリプトでは、`prepare_dataset`関数は不要となる可能性があります。\n",
        "# 代わりに、`generate_question_prompt`関数で生成されたプロンプトを直接モデルに入力して使用します。\n"
      ]
    },
    {
      "cell_type": "code",
      "execution_count": 10,
      "metadata": {
        "id": "5WyG5uzetz2N"
      },
      "outputs": [],
      "source": [
        "import random\n",
        "system_prompt=\"\"\"\n",
        "You are a professional chemist. Predict the level of danger of the following mixture on a scale of 0 to 100 for three times, where 0 indicates no danger at all and 100 represents the highest level of danger.\n",
        "Consider the quantitative reasons provided and make your prediction based on the mixture's safety or potential hazards. Provide your prediction as a list of three numerical values like [80, 85, 80], reflecting the mixture's level of danger.\n",
        "\"\"\"\n",
        "def prepare_dataset(context_list, tokenizer):\n",
        "    data_list = [{\"text\": i} for i in context_list]\n",
        "    random.shuffle(data_list)\n",
        "\n",
        "    # tokenize\n",
        "    dataset = Dataset.from_dict(\n",
        "        {\"text\": [item[\"text\"] for item in data_list[:]]})\n",
        "    dataset = dataset.map(lambda samples: tokenizer(\n",
        "        samples['text']), batched=True)\n",
        "\n",
        "    return dataset\n"
      ]
    },
    {
      "cell_type": "code",
      "execution_count": 11,
      "metadata": {
        "colab": {
          "base_uri": "https://localhost:8080/",
          "height": 49,
          "referenced_widgets": [
            "09eed07dfb7a46f9acc3c2bb19fcdd88",
            "ef89c025cc12453dba06f64a1a512dd5",
            "2b5bce43409545f89657594665d5a276",
            "5bdd88ba12f4443abbdcf6b3efaf2a69",
            "cdb522ec25e549389bcd833125daf14d",
            "fe295961fadb4bb5b97d50992fa66d56",
            "f4b6a8cd5a274ae3b5b6241714a6e2ff",
            "9bc38c9a0907455e9740f7821d51116c",
            "c1a5912044154beaa414818e4447447c",
            "61346cf12bb94c6498c2f760a2ccb78a",
            "a9251a21c96f41bca0d6152408c98772"
          ]
        },
        "id": "Cx_dderitz2O",
        "outputId": "3b7504a2-df71-4aee-ad1f-4f1ba8c03169"
      },
      "outputs": [
        {
          "output_type": "display_data",
          "data": {
            "text/plain": [
              "Map:   0%|          | 0/1200 [00:00<?, ? examples/s]"
            ],
            "application/vnd.jupyter.widget-view+json": {
              "version_major": 2,
              "version_minor": 0,
              "model_id": "09eed07dfb7a46f9acc3c2bb19fcdd88"
            }
          },
          "metadata": {}
        }
      ],
      "source": [
        "\n",
        "train_text_list=[]\n",
        "for id in range(len(dataset)):\n",
        "    prompt=gen_mixture_text(dataset[id],\n",
        "                                reason=dataset[id][\"generated_reason\"],\n",
        "                                prediction=dataset[id][\"predicted_results\"])\n",
        "    train_text_list.append(prompt)\n",
        "tokenized_dataset = prepare_dataset(train_text_list[n_test:], tokenizer)"
      ]
    },
    {
      "cell_type": "code",
      "execution_count": 12,
      "metadata": {
        "colab": {
          "base_uri": "https://localhost:8080/"
        },
        "id": "liBE0rsxtz2O",
        "outputId": "472d8f04-a2fc-42aa-8661-1180ecef4778"
      },
      "outputs": [
        {
          "output_type": "stream",
          "name": "stdout",
          "text": [
            "train\n",
            "\n",
            "#Problem\n",
            "##Substance 1: TUNGSTEN\n",
            "##Substance 2: PLATINUM\n",
            "##Reason: Metals, Less Reactive WITH Metals, Less Reactive: the interaction of less reactive metals with each other at room temperature does not lead to hazardous reactions. The incandescent reactions of tin with tellurium and platinum with tellurium occur only at higher temperatures. No evidence of hazardous reactions between tungsten and platinum was found in the provided references. Additionally, qualitative data suggests that less reactive metals do not undergo hazardous reactions at room temperature. Therefore, based on the absence of evidence of hazardous interactions and the known behavior of less reactive metals, the combination of tungsten and platinum is deemed compatible with a low hazard score of 10.\n",
            "##Prediction: [10, 10, 10]\n",
            "\n",
            "test\n",
            "\n",
            "#Problem\n",
            "##Substance 1: POLYVINYL ALCOHOL\n",
            "##Substance 2: HELIUM\n",
            "##Reason:\n",
            "\n"
          ]
        }
      ],
      "source": [
        "#check prompt\n",
        "\n",
        "print(\"train\")\n",
        "print(prompt)\n",
        "print(\"test\")\n",
        "t_prompt=gen_mixture_text(dataset[0])\n",
        "print(t_prompt)"
      ]
    },
    {
      "cell_type": "markdown",
      "metadata": {
        "id": "QSR_c0Y4tz2P"
      },
      "source": [
        "# モデルの訓練"
      ]
    },
    {
      "cell_type": "code",
      "execution_count": 13,
      "metadata": {
        "id": "t8kxA6k8tz2P"
      },
      "outputs": [],
      "source": [
        "import transformers\n",
        "from datetime import datetime\n",
        "\n",
        "#train\n",
        "train_args = transformers.TrainingArguments(\n",
        "        per_device_train_batch_size=per_device_train_batch_size,\n",
        "        gradient_accumulation_steps=1,\n",
        "        warmup_steps=0,\n",
        "        num_train_epochs=epochs,\n",
        "        learning_rate=lr,\n",
        "        fp16=True,\n",
        "        logging_steps=100,\n",
        "        save_total_limit=1,\n",
        "        output_dir='outputs/'+datetime.now().strftime('%Y%m%d%H%M%S'),\n",
        "        gradient_checkpointing=gradient_checkpointing,\n",
        "    )\n",
        "\n",
        "# trainer\n",
        "#callbacks = [EarlyStoppingCallback()]\n",
        "callbacks = []\n",
        "\n",
        "trainer = transformers.Trainer(\n",
        "    model=model,\n",
        "    train_dataset=tokenized_dataset,\n",
        "    args=train_args,\n",
        "    callbacks=callbacks,\n",
        "    data_collator=transformers.DataCollatorForLanguageModeling(\n",
        "        tokenizer, mlm=False)\n",
        ")\n",
        "\n",
        "if do_train:\n",
        "    training_result = trainer.train()\n",
        "    training_result.training_loss\n",
        "\n",
        "    model.save_pretrained(lora_path)"
      ]
    },
    {
      "cell_type": "code",
      "execution_count": null,
      "metadata": {
        "id": "Gy3dZMDlDVv2"
      },
      "outputs": [],
      "source": [
        "#model.save_pretrained(lora_path)"
      ]
    },
    {
      "cell_type": "markdown",
      "metadata": {
        "id": "_5g_kqDK-wKM"
      },
      "source": [
        "# **T4などの無料のGPUを用いている場合は､このタイミングで「セッションを再起動」して､上からセルを実行し直す(メモリが足りなくなるため。再起動時はoutputにモデルが保存されているため、学習は再実行されません。全セルを実行しなおしてください)**"
      ]
    },
    {
      "cell_type": "markdown",
      "metadata": {
        "id": "GIkYduE8tz2P"
      },
      "source": [
        "# モデルによる物性値の予測"
      ]
    },
    {
      "cell_type": "code",
      "execution_count": 14,
      "metadata": {
        "id": "WAXKzds9tz2Q"
      },
      "outputs": [],
      "source": [
        "\n",
        "import re\n",
        "import torch\n",
        "import gc\n",
        "from IPython.display import clear_output\n",
        "model.eval()\n",
        "def gen_text_stop_word(prompt,model,tokenizer,\n",
        "                       device=\"cuda:0\",\n",
        "                       stop_words=[\"#Problem\",\"#Reason\"],\n",
        "                       double_stop_words=[\"#Prediction\"],\n",
        "                       stream=False,\n",
        "                       max_tokens=300):\n",
        "    gc.collect()\n",
        "    torch.cuda.empty_cache()\n",
        "\n",
        "    input_ids = tokenizer.encode(prompt, return_tensors='pt').to(device)\n",
        "\n",
        "    # 生成されたテキストを格納する変数\n",
        "    generated_text = \"\"\n",
        "\n",
        "    # トークンを一つずつ生成\n",
        "    for i in range(max_tokens):\n",
        "        # 次のトークンを予測\n",
        "        outputs = model(input_ids)\n",
        "        next_token_logits = outputs.logits[:, -1, :]\n",
        "        next_token = torch.argmax(next_token_logits, dim=-1).unsqueeze(-1)\n",
        "\n",
        "        # 生成されたトークンを現在の入力に追加\n",
        "        input_ids = torch.cat([input_ids, next_token], dim=-1)\n",
        "\n",
        "        # 生成されたテキストを更新\n",
        "        generated_text = tokenizer.decode(input_ids[0], skip_special_tokens=True)[len(prompt):]\n",
        "\n",
        "        if stream:\n",
        "            if i%30==0:\n",
        "                clear_output()\n",
        "            print(generated_text)\n",
        "\n",
        "        # ストップワードのチェック\n",
        "        if any(stop_word in generated_text for stop_word in stop_words):\n",
        "            break\n",
        "\n",
        "        # 2回以上出現したらstopするwordのcheck\n",
        "        stop_flag=False\n",
        "        for check_word in double_stop_words:\n",
        "            count=generated_text.count(check_word)\n",
        "            if count>=2:\n",
        "                stop_flag=True\n",
        "                break\n",
        "        if stop_flag:\n",
        "            break\n",
        "\n",
        "    return generated_text\n",
        "\n",
        "import re\n",
        "\n",
        "def ask_value(prompt, model, tokenizer):\n",
        "    res = gen_text_stop_word(prompt, model, tokenizer)\n",
        "    # res = pipe(prompt)[0][\"generated_text\"]\n",
        "    print(\"----\")\n",
        "    print(res.strip())\n",
        "\n",
        "    # 数値リストを探す正規表現パターンを更新\n",
        "    regex_list = [\n",
        "        r\"\\[(\\d+\\.?\\d*(?:,\\s*\\d+\\.?\\d*)*)\\]\",  # [10, 10, 20] のようなリスト形式の数値をマッチ\n",
        "    ]\n",
        "\n",
        "    values = None\n",
        "    for reg in regex_list:\n",
        "        match = re.search(reg, res)\n",
        "        if match:\n",
        "            # マッチしたグループから数値リストを抽出し、それをfloatのリストとして解析\n",
        "            values_str = match.group(1)  # \"10, 10, 20\"\n",
        "            values = [float(value) for value in values_str.split(\",\")]\n",
        "            break\n",
        "\n",
        "    return res, values\n",
        "\n"
      ]
    },
    {
      "cell_type": "code",
      "execution_count": null,
      "metadata": {
        "colab": {
          "base_uri": "https://localhost:8080/"
        },
        "id": "f4Rrn49Btz2Q",
        "outputId": "bdd50207-2895-44ab-e897-d049ef7237ca"
      },
      "outputs": [
        {
          "output_type": "stream",
          "name": "stderr",
          "text": [
            "\r  0%|          | 0/30 [00:00<?, ?it/s]"
          ]
        },
        {
          "output_type": "stream",
          "name": "stdout",
          "text": [
            "promlem 1 / 30\n"
          ]
        },
        {
          "output_type": "stream",
          "name": "stderr",
          "text": [
            "\r  3%|▎         | 1/30 [02:20<1:07:57, 140.62s/it]"
          ]
        },
        {
          "output_type": "stream",
          "name": "stdout",
          "text": [
            "----\n",
            "##Prediction: [40, 40, 40]\n",
            "\n",
            "##Reason\n",
            "actual:  [10, 10, 10] predicted:  [40.0, 40.0, 40.0]\n",
            "promlem 2 / 30\n"
          ]
        },
        {
          "output_type": "stream",
          "name": "stderr",
          "text": [
            "\r  7%|▋         | 2/30 [18:55<5:00:03, 642.99s/it]"
          ]
        },
        {
          "output_type": "stream",
          "name": "stdout",
          "text": [
            "----\n",
            "Nitrosulfuric acid, a reactive and unstable compound, is known to react with chlorine, forming hazardous and toxic compounds. Sulfuric acid, when combined with chlorine, can also undergo hazardous reactions, such as the formation of chlorine gas and the production of toxic and corrosive compounds. The combination of nitrosulfuric acid and sulfuric acid with chlorine is expected to exhibit hazardous reactivity, resulting in a refined hazard score of 85, indicating a moderate to high level of danger.\n",
            "##Prediction: [85, 85, 85]\n",
            "\n",
            "\n",
            "#Problem\n",
            "actual:  [95, 95, 95] predicted:  [85.0, 85.0, 85.0]\n",
            "promlem 3 / 30\n"
          ]
        },
        {
          "output_type": "stream",
          "name": "stderr",
          "text": [
            "\r 10%|█         | 3/30 [45:45<8:08:01, 1084.52s/it]"
          ]
        },
        {
          "output_type": "stream",
          "name": "stdout",
          "text": [
            "----\n",
            "Methanol, as a polar, non-redox-active compound, is generally compatible with inorganic compounds like calcium carbonate, which lacks redox-active properties. The absence of documented hazardous interactions between methanol and inorganic compounds, such as calcium carbonate, supports the compatibility of these substances. Moreover, the lack of evidence for hazardous reactions between methanol and other non-redox-active compounds, such as silicates, further reinforces the compatibility of methanol with calcium carbonate. Therefore, the combination of methanol and calcium carbonate is predicted to be compatible, with a low hazard score of 10 on the 0-100 scale, indicating minimal risk of hazardous interactions or reactivity under standard handling and storage conditions.\n",
            "##Prediction: [10, 10, 10]\n",
            "\n",
            "\n",
            "#Problem\n",
            "actual:  [10, 10, 10] predicted:  [10.0, 10.0, 10.0]\n",
            "promlem 4 / 30\n"
          ]
        },
        {
          "output_type": "stream",
          "name": "stderr",
          "text": [
            "\r 13%|█▎        | 4/30 [1:06:48<8:20:29, 1154.99s/it]"
          ]
        },
        {
          "output_type": "stream",
          "name": "stdout",
          "text": [
            "----\n",
            "Hydrogen and methane mixtures, compressed, are known to be compatible with calcium carbonate, as there is no documented evidence of hazardous reactions or interactions between these substances under standard conditions. Calcium carbonate, a weak base, does not react with hydrogen and methane mixtures, as it does not readily undergo redox reactions with hydrogen or methane. Additionally, the lack of evidence for hazardous reactions between weak bases and hydrogen and methane mixtures supports the compatibility of this mixture. Therefore, the refined hazard score for the mixture of hydrogen and methane, compressed, and calcium carbonate is adjusted to 0, indicating no discernible hazard.\n",
            "##Prediction: [0, 0, 0]\n",
            "\n",
            "\n",
            "#Problem\n",
            "actual:  [5, 5, 5] predicted:  [0.0, 0.0, 0.0]\n",
            "promlem 5 / 30\n"
          ]
        },
        {
          "output_type": "stream",
          "name": "stderr",
          "text": [
            "\r 17%|█▋        | 5/30 [1:20:07<7:07:46, 1026.67s/it]"
          ]
        },
        {
          "output_type": "stream",
          "name": "stdout",
          "text": [
            "----\n",
            "Methane, a hydrocarbon gas, is generally considered inert and non-reactive with metals. The lack of evidence for hazardous reactions between methane and metals, including lead, supports the compatibility of these substances. Additionally, the absence of any known reactivity between methane and lead sulfate, a metal sulfate compound, further reinforces the refined hazard score of 10, indicating minimal hazard and safe compatibility.\n",
            "##Prediction: [10, 10, 10]\n",
            "\n",
            "\n",
            "#Problem\n",
            "actual:  [10, 10, 10] predicted:  [10.0, 10.0, 10.0]\n",
            "promlem 6 / 30\n"
          ]
        },
        {
          "output_type": "stream",
          "name": "stderr",
          "text": [
            "\r 20%|██        | 6/30 [1:46:55<8:09:48, 1224.51s/it]"
          ]
        },
        {
          "output_type": "stream",
          "name": "stdout",
          "text": [
            "----\n",
            "Sodium chloride is a strong oxidizing agent, while black phosphorus is a highly reactive nonmetal with a tendency to form compounds with metals. However, there is no known evidence or documented case of a hazardous reaction between sodium chloride and black phosphorus. Sodium chloride is known for its ability to oxidize a wide range of organic and inorganic compounds, while black phosphorus is highly reactive and can form compounds with metals. However, the lack of evidence and the stability of both substances under normal conditions suggest that the combination of sodium chloride and black phosphorus is compatible, with a low risk of hazardous interactions or reactivity under standard handling and storage conditions. Therefore, the compatibility score is estimated to be low, around 10-20, indicating minimal hazard.\n",
            "##Prediction: [20, 15, 15]\n",
            "\n",
            "\n",
            "#Problem\n",
            "actual:  [65, 70, 70] predicted:  [20.0, 15.0, 15.0]\n",
            "promlem 7 / 30\n"
          ]
        },
        {
          "output_type": "stream",
          "name": "stderr",
          "text": [
            "\r 23%|██▎       | 7/30 [2:01:02<7:02:04, 1101.05s/it]"
          ]
        },
        {
          "output_type": "stream",
          "name": "stdout",
          "text": [
            "----\n",
            "Lithium, a highly reactive metal, is known to react with calcium carbonate, a common mineral, to form lithium carbonate and hydrogen gas. The reaction is considered hazardous due to the potential for gas formation and the reactivity of lithium. The documented evidence of lithium's reactivity with calcium carbonate supports the prediction of a high level of hazard, approaching 100 on the compatibility scale.\n",
            "##Prediction: [90, 95, 90]\n",
            "\n",
            "\n",
            "#Problem\n",
            "actual:  [35, 35, 35] predicted:  [90.0, 95.0, 90.0]\n",
            "promlem 8 / 30\n"
          ]
        },
        {
          "output_type": "stream",
          "name": "stderr",
          "text": [
            "\r 27%|██▋       | 8/30 [2:15:29<6:16:19, 1026.34s/it]"
          ]
        },
        {
          "output_type": "stream",
          "name": "stdout",
          "text": [
            "----\n",
            "Methane, a non-reactive gas, is not expected to undergo hazardous reactions with limestone, a non-reactive inorganic compound. The lack of evidence for hazardous interactions between these substances, combined with their inert nature, suggests a low probability of adverse reactions occurring. Therefore, based on the compatibility of methane and limestone, the refined hazard score is set at 10, indicating a low level of hazard.\n",
            "##Prediction: [10, 10, 10]\n",
            "\n",
            "\n",
            "#Problem\n",
            "actual:  [0, 0, 0] predicted:  [10.0, 10.0, 10.0]\n",
            "promlem 9 / 30\n"
          ]
        },
        {
          "output_type": "stream",
          "name": "stderr",
          "text": [
            "\r 30%|███       | 9/30 [2:17:26<4:19:44, 742.12s/it] "
          ]
        },
        {
          "output_type": "stream",
          "name": "stdout",
          "text": [
            "----\n",
            "##Prediction: [0, 0, 0]\n",
            "\n",
            "\n",
            "#Problem\n",
            "actual:  [10, 10, 10] predicted:  [0.0, 0.0, 0.0]\n",
            "promlem 10 / 30\n"
          ]
        },
        {
          "output_type": "stream",
          "name": "stderr",
          "text": [
            "\r 33%|███▎      | 10/30 [2:19:42<3:05:03, 555.19s/it]"
          ]
        },
        {
          "output_type": "stream",
          "name": "stdout",
          "text": [
            "----\n",
            "##Prediction: [30, 35, 30]\n",
            "\n",
            "\n",
            "#Problem\n",
            "actual:  [0, 0, 0] predicted:  [30.0, 35.0, 30.0]\n",
            "promlem 11 / 30\n"
          ]
        },
        {
          "output_type": "stream",
          "name": "stderr",
          "text": [
            "\r 37%|███▋      | 11/30 [2:37:30<3:45:28, 712.02s/it]"
          ]
        },
        {
          "output_type": "stream",
          "name": "stdout",
          "text": [
            "----\n",
            "Silica, being a non-reactive inorganic compound, is generally considered safe and inert towards other non-reactive materials. Polypropylene, as a non-reactive polymer, is also considered safe and non-reactive. However, the absence of documented evidence for hazardous interactions between these two substances suggests that they are compatible and pose a low level of hazard. Therefore, the refined hazard score for the mixture of silica and polypropylene is 10, indicating a low level of hazard due to the compatibility of these non-reactive substances.\n",
            "##Prediction: [10, 10, 10]\n",
            "\n",
            "\n",
            "#Problem\n",
            "actual:  [0, 0, 0] predicted:  [10.0, 10.0, 10.0]\n",
            "promlem 12 / 30\n"
          ]
        },
        {
          "output_type": "stream",
          "name": "stderr",
          "text": [
            "\r 40%|████      | 12/30 [2:53:12<3:54:32, 781.83s/it]"
          ]
        },
        {
          "output_type": "stream",
          "name": "stdout",
          "text": [
            "----\n",
            "Acetylene is a highly reactive gas that can undergo hazardous reactions with water, leading to the formation of explosive and toxic compounds. The presence of water in the mixture with acetylene is predicted to be hazardous, with a refined hazard score of 80, indicating a high level of danger. The potential for hazardous interactions between acetylene and water, along with the known reactivity of acetylene, supports the prediction of a high level of danger.\n",
            "##Prediction: [80, 80, 80]\n",
            "\n",
            "\n",
            "#Problem\n",
            "actual:  [70, 70, 70] predicted:  [80.0, 80.0, 80.0]\n",
            "promlem 13 / 30\n"
          ]
        },
        {
          "output_type": "stream",
          "name": "stderr",
          "text": [
            "\r 43%|████▎     | 13/30 [3:08:37<3:53:49, 825.24s/it]"
          ]
        },
        {
          "output_type": "stream",
          "name": "stdout",
          "text": [
            "----\n",
            "Lead sulfate, a lead salt, is known to react with chlorine, a strong oxidizing agent, to form lead chloride, a highly toxic and corrosive compound. The documented hazardous reactions between lead salts and chlorine, as well as the potential for violent reactions, justify a high hazard score of 90. The compatibility of lead sulfate with chlorine is predicted to be incompatible, with a high likelihood of hazardous reactions occurring under ambient conditions.\n",
            "##Prediction: [90, 90, 90]\n",
            "\n",
            "\n",
            "#Problem\n",
            "actual:  [80, 80, 80] predicted:  [90.0, 90.0, 90.0]\n",
            "promlem 14 / 30\n"
          ]
        },
        {
          "output_type": "stream",
          "name": "stderr",
          "text": [
            "\r 47%|████▋     | 14/30 [3:42:31<5:17:28, 1190.52s/it]"
          ]
        },
        {
          "output_type": "stream",
          "name": "stdout",
          "text": [
            "----\n",
            "Sodium chloride, a strong oxidizing agent, is incompatible with carbon monoxide, a highly toxic gas. The combination of these substances poses a significant hazard due to the potential for violent reactions, including the formation of toxic compounds. The documented hazards associated with the interaction of strong oxidizing agents with toxic gases, such as the violent reactions between chlorine and carbon monoxide, further underscore the incompatibility of sodium chloride with carbon monoxide. The lack of evidence for hazardous interactions between sodium chloride and other toxic gases, such as hydrogen cyanide, supports the compatibility of sodium chloride with carbon monoxide. However, the potential for violent reactions between strong oxidizing agents and toxic gases, combined with the documented hazards associated with the interaction of sodium chloride with carbon monoxide, warrants a cautious approach and a refined hazard score closer to the upper end of the scale.\n",
            "##Prediction: [85, 85, 85]\n",
            "\n",
            "\n",
            "#Problem\n",
            "actual:  [20, 15, 20] predicted:  [85.0, 85.0, 85.0]\n",
            "promlem 15 / 30\n"
          ]
        },
        {
          "output_type": "stream",
          "name": "stderr",
          "text": [
            "\r 50%|█████     | 15/30 [4:06:30<5:16:22, 1265.48s/it]"
          ]
        },
        {
          "output_type": "stream",
          "name": "stdout",
          "text": [
            "----\n",
            "Lithium, a highly reactive metal, is known to react violently with alcohols, including ethylene glycol, forming toxic and flammable compounds. The reaction between lithium and ethylene glycol is expected to produce a mixture of toxic gases, including carbon monoxide, carbon dioxide, and hydrogen cyanide, with a high likelihood of explosive and hazardous reactions. The documented evidence of violent reactions between lithium and alcohols, including ethylene glycol, underscores the hazardous nature of their combination, warranting a high refined hazard score of 95 to reflect the significant danger and potential for explosive and toxic gas release.\n",
            "##Prediction: [95, 95, 95]\n",
            "\n",
            "\n",
            "#Problem\n",
            "actual:  [95, 95, 95] predicted:  [95.0, 95.0, 95.0]\n",
            "promlem 16 / 30\n"
          ]
        },
        {
          "output_type": "stream",
          "name": "stderr",
          "text": [
            "\r 53%|█████▎    | 16/30 [4:43:05<6:00:32, 1545.19s/it]"
          ]
        },
        {
          "output_type": "stream",
          "name": "stdout",
          "text": [
            "----\n",
            "The interaction between hydrogen chloride, anhydrous and calcium carbonate has been evaluated, and no evidence of hazardous reactions was found. The absence of reactivity between halogenated compounds and weak reducing agents, as well as the lack of documented reactions between halogenated compounds and alkaline earth metal carbonates, supports a compatible classification. Additionally, the absence of any specific evidence of hazardous interactions between halogenated compounds and alkaline earth metal oxides, as well as the lack of documented reactions between halogenated compounds and alkaline earth metal hydroxides, further supports a compatible classification. Therefore, the compatibility rating of this mixture is refined to a score of 5 out of 100, indicating a very low hazard level based on the current understanding of the interactions.\n",
            "##Prediction: [5, 5, 5]\n",
            "\n",
            "\n",
            "In conclusion, the predictions for the level of danger of the mixtures of the three substances are as follows:\n",
            "\n",
            "* [80, 85, 80] for the mixture of OXYGEN and CHLORINE, indicating a high level of danger due to the potential for violent or explosive reactions.\n",
            "* [25, 30, 50] for the mixture of DICHLOROMETHANE and CALCI\n",
            "actual:  [85, 85, 85] predicted:  [5.0, 5.0, 5.0]\n",
            "promlem 17 / 30\n"
          ]
        },
        {
          "output_type": "stream",
          "name": "stderr",
          "text": [
            "\r 57%|█████▋    | 17/30 [5:01:27<5:05:52, 1411.71s/it]"
          ]
        },
        {
          "output_type": "stream",
          "name": "stdout",
          "text": [
            "----\n",
            "Nitrogen, a chemically inert gas, does not participate in chemical reactions with non-reactive compounds like methane. Methane, a simple hydrocarbon, lacks functional groups that are known to form hazardous compounds with inert gases. The combination of nitrogen and methane is considered compatible, with no appreciable risk of hazardous interactions or reactivity under normal handling and storage conditions. The refined hazard score for the mixture of nitrogen and methane is 10, indicating a very low level of hazard based on the lack of evidence for any significant chemical interaction or reactivity between these substances.\n",
            "##Prediction: [10, 10, 10]\n",
            "\n",
            "\n",
            "#Problem\n",
            "actual:  [0, 0, 0] predicted:  [10.0, 10.0, 10.0]\n",
            "promlem 18 / 30\n"
          ]
        },
        {
          "output_type": "stream",
          "name": "stderr",
          "text": [
            "\r 60%|██████    | 18/30 [5:32:47<5:10:29, 1552.46s/it]"
          ]
        },
        {
          "output_type": "stream",
          "name": "stdout",
          "text": [
            "----\n",
            "Tungsten is a refractory metal with a high melting point and low reactivity, and chromium is a transition metal with a high reactivity due to its ability to form complex compounds. However, there is no known evidence of hazardous interactions between tungsten and chromium under standard conditions. Additionally, the lack of documented cases of incompatibility between refractory metals and transition metals supports the prediction of compatibility between these substances. Furthermore, the principles of Lewis acid-base theory suggest that tungsten can act as a Lewis acid due to its tendency to accept an electron pair, while chromium can act as a Lewis base due to its ability to donate an electron pair. This interaction can be understood in terms of coordination rather than reactivity, further strengthening the prediction of compatibility. Considering these factors, the mixture of tungsten and chromium is assessed to be compatible, with a low likelihood of hazardous interactions occurring under standard handling and storage conditions. Therefore, the refined hazard score for this mixture is 0, indicating no observed hazard based on existing data and principles.\n",
            "##Prediction: [0, 0, 0]\n",
            "\n",
            "\n",
            "#Problem\n",
            "actual:  [85, 85, 85] predicted:  [0.0, 0.0, 0.0]\n",
            "promlem 19 / 30\n"
          ]
        },
        {
          "output_type": "stream",
          "name": "stderr",
          "text": [
            "\r 63%|██████▎   | 19/30 [5:35:03<3:26:39, 1127.25s/it]"
          ]
        },
        {
          "output_type": "stream",
          "name": "stdout",
          "text": [
            "----\n",
            "##Prediction: [80, 80, 80]\n",
            "\n",
            "##Prediction\n",
            "actual:  [0, 0, 0] predicted:  [80.0, 80.0, 80.0]\n",
            "promlem 20 / 30\n"
          ]
        },
        {
          "output_type": "stream",
          "name": "stderr",
          "text": [
            "\r 67%|██████▋   | 20/30 [5:55:30<3:12:51, 1157.17s/it]"
          ]
        },
        {
          "output_type": "stream",
          "name": "stdout",
          "text": [
            "----\n",
            "Lead, a toxic and highly reactive metal, is known to react violently with hydrogen and methane mixtures under high pressure. The interaction between lead and hydrogen has been documented to produce toxic and explosive compounds, such as hydrogen cyanide and hydrogen chloride. The potential for hazardous interactions between lead and methane is further supported by the documented reactivity of methane with other metals, such as aluminum and magnesium, under high-pressure conditions. The combination of lead and methane under high pressure is expected to exhibit hazardous reactivity, warranting a high hazard score on a scale from 0 to 100.\n",
            "##Prediction: [90, 90, 95]\n",
            "\n",
            "\n",
            "#Problem\n",
            "actual:  [85, 85, 85] predicted:  [90.0, 90.0, 95.0]\n",
            "promlem 21 / 30\n"
          ]
        },
        {
          "output_type": "stream",
          "name": "stderr",
          "text": [
            "\r 70%|███████   | 21/30 [5:57:46<2:07:35, 850.62s/it] "
          ]
        },
        {
          "output_type": "stream",
          "name": "stdout",
          "text": [
            "----\n",
            "##Prediction: [80, 80, 80]\n",
            "\n",
            "##Prediction\n",
            "actual:  [90, 90, 90] predicted:  [80.0, 80.0, 80.0]\n",
            "promlem 22 / 30\n"
          ]
        },
        {
          "output_type": "stream",
          "name": "stderr",
          "text": [
            "\r 73%|███████▎  | 22/30 [6:29:05<2:34:32, 1159.09s/it]"
          ]
        },
        {
          "output_type": "stream",
          "name": "stdout",
          "text": [
            "----\n",
            "Hydrogen peroxide, a stabilized oxidizing agent, has been documented to react with a wide range of organic compounds, including aromatic hydrocarbons like benzene. The hazardous nature of these interactions is attributed to the potential for violent reactions, including explosions, upon contact with strong oxidizing agents. The documented reactivity of hydrogen peroxide with aromatic hydrocarbons, such as toluene and xylene, underscores the potential for hazardous interactions with benzene. The historical evidence from literature supports the incompatibility of hydrogen peroxide with aromatic hydrocarbons, as well as the potential for violent reactions upon contact with strong oxidizing agents. The refined hazard score for the mixture of hydrogen peroxide and benzene is 80, indicating a moderate level of incompatibility and reactivity.\n",
            "##Prediction: [80, 80, 80]\n",
            "\n",
            "\n",
            "#Problem\n",
            "actual:  [95, 95, 95] predicted:  [80.0, 80.0, 80.0]\n",
            "promlem 23 / 30\n"
          ]
        },
        {
          "output_type": "stream",
          "name": "stderr",
          "text": [
            "\r 77%|███████▋  | 23/30 [6:53:07<2:25:09, 1244.20s/it]"
          ]
        },
        {
          "output_type": "stream",
          "name": "stdout",
          "text": [
            "----\n",
            "Methanol, a polar and reactive solvent, is known to react with methane, a hydrocarbon gas, under certain conditions. The reaction between methanol and methane can produce a range of compounds, including methyl alcohol, methyl halides, and methyl esters. While the exact reactivity of methanol with methane is not explicitly documented, the potential for the formation of hazardous compounds and the known reactivity of methanol with other hydrocarbons warrant caution. Therefore, the combination of methanol and methane is classified as having a moderate level of hazard, with a refined prediction of 50, denoting a cautious approach due to the potential for hazardous interactions.\n",
            "##Prediction: [50, 50, 50]\n",
            "\n",
            "\n",
            "#Problem\n",
            "actual:  [5, 5, 5] predicted:  [50.0, 50.0, 50.0]\n",
            "promlem 24 / 30\n"
          ]
        }
      ],
      "source": [
        "\n",
        "random.seed(0)\n",
        "prediction_results={}\n",
        "\n",
        "#予測時のハイパラ\n",
        "n_prompt_examples=3 #何件の例題をprompt tuningで出すか\n",
        "n_max_trials=3  # 値を返さなかったときの再試行の最大数\n",
        "\n",
        "res_list=[]\n",
        "for test_id in tqdm(range(n_test)):\n",
        "    print(f\"promlem {test_id+1} / {n_test}\")\n",
        "    for _ in range(n_max_trials):\n",
        "        try:\n",
        "            prompt=generate_question_prompt(dataset,test_id,n_prompt_examples=n_prompt_examples)\n",
        "            reason,value=ask_value(prompt,model,tokenizer)\n",
        "        except Exception as e:\n",
        "            print(e)\n",
        "            continue\n",
        "\n",
        "\n",
        "        if value is not None:\n",
        "            record=copy.deepcopy(dataset[test_id])\n",
        "            record[\"Test (Predicted reason)\"]=reason\n",
        "            record[\"Test (Predicted value)\"]=value\n",
        "            res_list.append(record)\n",
        "            print(\"actual: \",record[\"predicted_results\"],\"predicted: \", record[\"Test (Predicted value)\"],)\n",
        "            break\n",
        "prediction_results[n_prompt_examples]=res_list"
      ]
    },
    {
      "cell_type": "code",
      "execution_count": null,
      "metadata": {
        "id": "OZe3d5AnbTOJ"
      },
      "outputs": [],
      "source": [
        "#save\n",
        "import datetime\n",
        "import json\n",
        "\n",
        "study_name=\"mixture_practice_w_reason_numeric_test\"\n",
        "now=datetime.datetime.now()\n",
        "now_str=now.strftime(\"%Y%m%d_%H%M%S\")\n",
        "save_path=f\"{study_name}_{now_str}.json\"\n",
        "with open(save_path, 'w', encoding = \"utf-8\") as f:\n",
        "    json.dump(prediction_results, f, indent=4, ensure_ascii=False)\n"
      ]
    },
    {
      "cell_type": "code",
      "execution_count": null,
      "metadata": {
        "id": "ccMKdeWffc1D"
      },
      "outputs": [],
      "source": [
        "from google.colab import files\n",
        "\n",
        "# ファイルをローカルにダウンロード\n",
        "files.download(save_path)"
      ]
    }
  ],
  "metadata": {
    "accelerator": "GPU",
    "colab": {
      "gpuType": "T4",
      "provenance": []
    },
    "kernelspec": {
      "display_name": "Python 3",
      "name": "python3"
    },
    "language_info": {
      "codemirror_mode": {
        "name": "ipython",
        "version": 3
      },
      "file_extension": ".py",
      "mimetype": "text/x-python",
      "name": "python",
      "nbconvert_exporter": "python",
      "pygments_lexer": "ipython3",
      "version": "3.10.0"
    },
    "widgets": {
      "application/vnd.jupyter.widget-state+json": {
        "1a38e15465254f8bbef01154303747ee": {
          "model_module": "@jupyter-widgets/controls",
          "model_name": "HBoxModel",
          "model_module_version": "1.5.0",
          "state": {
            "_dom_classes": [],
            "_model_module": "@jupyter-widgets/controls",
            "_model_module_version": "1.5.0",
            "_model_name": "HBoxModel",
            "_view_count": null,
            "_view_module": "@jupyter-widgets/controls",
            "_view_module_version": "1.5.0",
            "_view_name": "HBoxView",
            "box_style": "",
            "children": [
              "IPY_MODEL_92560486bdfb4be2ad2bb9fe11f5b7c8",
              "IPY_MODEL_d358e2d5776e4983a2cc1163a113d9b7",
              "IPY_MODEL_e54968f24aad4aa2bd92b4ad11a6c9bc"
            ],
            "layout": "IPY_MODEL_5aaac849e158412c98ef1bcf17d55621"
          }
        },
        "92560486bdfb4be2ad2bb9fe11f5b7c8": {
          "model_module": "@jupyter-widgets/controls",
          "model_name": "HTMLModel",
          "model_module_version": "1.5.0",
          "state": {
            "_dom_classes": [],
            "_model_module": "@jupyter-widgets/controls",
            "_model_module_version": "1.5.0",
            "_model_name": "HTMLModel",
            "_view_count": null,
            "_view_module": "@jupyter-widgets/controls",
            "_view_module_version": "1.5.0",
            "_view_name": "HTMLView",
            "description": "",
            "description_tooltip": null,
            "layout": "IPY_MODEL_447580b9a4bc43ffbb302ed0429a0bb4",
            "placeholder": "​",
            "style": "IPY_MODEL_822d85ec9e654c41843eca166caca212",
            "value": "Loading checkpoint shards: 100%"
          }
        },
        "d358e2d5776e4983a2cc1163a113d9b7": {
          "model_module": "@jupyter-widgets/controls",
          "model_name": "FloatProgressModel",
          "model_module_version": "1.5.0",
          "state": {
            "_dom_classes": [],
            "_model_module": "@jupyter-widgets/controls",
            "_model_module_version": "1.5.0",
            "_model_name": "FloatProgressModel",
            "_view_count": null,
            "_view_module": "@jupyter-widgets/controls",
            "_view_module_version": "1.5.0",
            "_view_name": "ProgressView",
            "bar_style": "success",
            "description": "",
            "description_tooltip": null,
            "layout": "IPY_MODEL_09f5c8de106c4f99926027c0e70ac725",
            "max": 2,
            "min": 0,
            "orientation": "horizontal",
            "style": "IPY_MODEL_0a10697dfe1b4cdca629811443edd424",
            "value": 2
          }
        },
        "e54968f24aad4aa2bd92b4ad11a6c9bc": {
          "model_module": "@jupyter-widgets/controls",
          "model_name": "HTMLModel",
          "model_module_version": "1.5.0",
          "state": {
            "_dom_classes": [],
            "_model_module": "@jupyter-widgets/controls",
            "_model_module_version": "1.5.0",
            "_model_name": "HTMLModel",
            "_view_count": null,
            "_view_module": "@jupyter-widgets/controls",
            "_view_module_version": "1.5.0",
            "_view_name": "HTMLView",
            "description": "",
            "description_tooltip": null,
            "layout": "IPY_MODEL_eff46334a6d54cfca5119221967716fe",
            "placeholder": "​",
            "style": "IPY_MODEL_27664eeb27dc4b2190d6d50f39104276",
            "value": " 2/2 [01:01&lt;00:00, 27.89s/it]"
          }
        },
        "5aaac849e158412c98ef1bcf17d55621": {
          "model_module": "@jupyter-widgets/base",
          "model_name": "LayoutModel",
          "model_module_version": "1.2.0",
          "state": {
            "_model_module": "@jupyter-widgets/base",
            "_model_module_version": "1.2.0",
            "_model_name": "LayoutModel",
            "_view_count": null,
            "_view_module": "@jupyter-widgets/base",
            "_view_module_version": "1.2.0",
            "_view_name": "LayoutView",
            "align_content": null,
            "align_items": null,
            "align_self": null,
            "border": null,
            "bottom": null,
            "display": null,
            "flex": null,
            "flex_flow": null,
            "grid_area": null,
            "grid_auto_columns": null,
            "grid_auto_flow": null,
            "grid_auto_rows": null,
            "grid_column": null,
            "grid_gap": null,
            "grid_row": null,
            "grid_template_areas": null,
            "grid_template_columns": null,
            "grid_template_rows": null,
            "height": null,
            "justify_content": null,
            "justify_items": null,
            "left": null,
            "margin": null,
            "max_height": null,
            "max_width": null,
            "min_height": null,
            "min_width": null,
            "object_fit": null,
            "object_position": null,
            "order": null,
            "overflow": null,
            "overflow_x": null,
            "overflow_y": null,
            "padding": null,
            "right": null,
            "top": null,
            "visibility": null,
            "width": null
          }
        },
        "447580b9a4bc43ffbb302ed0429a0bb4": {
          "model_module": "@jupyter-widgets/base",
          "model_name": "LayoutModel",
          "model_module_version": "1.2.0",
          "state": {
            "_model_module": "@jupyter-widgets/base",
            "_model_module_version": "1.2.0",
            "_model_name": "LayoutModel",
            "_view_count": null,
            "_view_module": "@jupyter-widgets/base",
            "_view_module_version": "1.2.0",
            "_view_name": "LayoutView",
            "align_content": null,
            "align_items": null,
            "align_self": null,
            "border": null,
            "bottom": null,
            "display": null,
            "flex": null,
            "flex_flow": null,
            "grid_area": null,
            "grid_auto_columns": null,
            "grid_auto_flow": null,
            "grid_auto_rows": null,
            "grid_column": null,
            "grid_gap": null,
            "grid_row": null,
            "grid_template_areas": null,
            "grid_template_columns": null,
            "grid_template_rows": null,
            "height": null,
            "justify_content": null,
            "justify_items": null,
            "left": null,
            "margin": null,
            "max_height": null,
            "max_width": null,
            "min_height": null,
            "min_width": null,
            "object_fit": null,
            "object_position": null,
            "order": null,
            "overflow": null,
            "overflow_x": null,
            "overflow_y": null,
            "padding": null,
            "right": null,
            "top": null,
            "visibility": null,
            "width": null
          }
        },
        "822d85ec9e654c41843eca166caca212": {
          "model_module": "@jupyter-widgets/controls",
          "model_name": "DescriptionStyleModel",
          "model_module_version": "1.5.0",
          "state": {
            "_model_module": "@jupyter-widgets/controls",
            "_model_module_version": "1.5.0",
            "_model_name": "DescriptionStyleModel",
            "_view_count": null,
            "_view_module": "@jupyter-widgets/base",
            "_view_module_version": "1.2.0",
            "_view_name": "StyleView",
            "description_width": ""
          }
        },
        "09f5c8de106c4f99926027c0e70ac725": {
          "model_module": "@jupyter-widgets/base",
          "model_name": "LayoutModel",
          "model_module_version": "1.2.0",
          "state": {
            "_model_module": "@jupyter-widgets/base",
            "_model_module_version": "1.2.0",
            "_model_name": "LayoutModel",
            "_view_count": null,
            "_view_module": "@jupyter-widgets/base",
            "_view_module_version": "1.2.0",
            "_view_name": "LayoutView",
            "align_content": null,
            "align_items": null,
            "align_self": null,
            "border": null,
            "bottom": null,
            "display": null,
            "flex": null,
            "flex_flow": null,
            "grid_area": null,
            "grid_auto_columns": null,
            "grid_auto_flow": null,
            "grid_auto_rows": null,
            "grid_column": null,
            "grid_gap": null,
            "grid_row": null,
            "grid_template_areas": null,
            "grid_template_columns": null,
            "grid_template_rows": null,
            "height": null,
            "justify_content": null,
            "justify_items": null,
            "left": null,
            "margin": null,
            "max_height": null,
            "max_width": null,
            "min_height": null,
            "min_width": null,
            "object_fit": null,
            "object_position": null,
            "order": null,
            "overflow": null,
            "overflow_x": null,
            "overflow_y": null,
            "padding": null,
            "right": null,
            "top": null,
            "visibility": null,
            "width": null
          }
        },
        "0a10697dfe1b4cdca629811443edd424": {
          "model_module": "@jupyter-widgets/controls",
          "model_name": "ProgressStyleModel",
          "model_module_version": "1.5.0",
          "state": {
            "_model_module": "@jupyter-widgets/controls",
            "_model_module_version": "1.5.0",
            "_model_name": "ProgressStyleModel",
            "_view_count": null,
            "_view_module": "@jupyter-widgets/base",
            "_view_module_version": "1.2.0",
            "_view_name": "StyleView",
            "bar_color": null,
            "description_width": ""
          }
        },
        "eff46334a6d54cfca5119221967716fe": {
          "model_module": "@jupyter-widgets/base",
          "model_name": "LayoutModel",
          "model_module_version": "1.2.0",
          "state": {
            "_model_module": "@jupyter-widgets/base",
            "_model_module_version": "1.2.0",
            "_model_name": "LayoutModel",
            "_view_count": null,
            "_view_module": "@jupyter-widgets/base",
            "_view_module_version": "1.2.0",
            "_view_name": "LayoutView",
            "align_content": null,
            "align_items": null,
            "align_self": null,
            "border": null,
            "bottom": null,
            "display": null,
            "flex": null,
            "flex_flow": null,
            "grid_area": null,
            "grid_auto_columns": null,
            "grid_auto_flow": null,
            "grid_auto_rows": null,
            "grid_column": null,
            "grid_gap": null,
            "grid_row": null,
            "grid_template_areas": null,
            "grid_template_columns": null,
            "grid_template_rows": null,
            "height": null,
            "justify_content": null,
            "justify_items": null,
            "left": null,
            "margin": null,
            "max_height": null,
            "max_width": null,
            "min_height": null,
            "min_width": null,
            "object_fit": null,
            "object_position": null,
            "order": null,
            "overflow": null,
            "overflow_x": null,
            "overflow_y": null,
            "padding": null,
            "right": null,
            "top": null,
            "visibility": null,
            "width": null
          }
        },
        "27664eeb27dc4b2190d6d50f39104276": {
          "model_module": "@jupyter-widgets/controls",
          "model_name": "DescriptionStyleModel",
          "model_module_version": "1.5.0",
          "state": {
            "_model_module": "@jupyter-widgets/controls",
            "_model_module_version": "1.5.0",
            "_model_name": "DescriptionStyleModel",
            "_view_count": null,
            "_view_module": "@jupyter-widgets/base",
            "_view_module_version": "1.2.0",
            "_view_name": "StyleView",
            "description_width": ""
          }
        },
        "09eed07dfb7a46f9acc3c2bb19fcdd88": {
          "model_module": "@jupyter-widgets/controls",
          "model_name": "HBoxModel",
          "model_module_version": "1.5.0",
          "state": {
            "_dom_classes": [],
            "_model_module": "@jupyter-widgets/controls",
            "_model_module_version": "1.5.0",
            "_model_name": "HBoxModel",
            "_view_count": null,
            "_view_module": "@jupyter-widgets/controls",
            "_view_module_version": "1.5.0",
            "_view_name": "HBoxView",
            "box_style": "",
            "children": [
              "IPY_MODEL_ef89c025cc12453dba06f64a1a512dd5",
              "IPY_MODEL_2b5bce43409545f89657594665d5a276",
              "IPY_MODEL_5bdd88ba12f4443abbdcf6b3efaf2a69"
            ],
            "layout": "IPY_MODEL_cdb522ec25e549389bcd833125daf14d"
          }
        },
        "ef89c025cc12453dba06f64a1a512dd5": {
          "model_module": "@jupyter-widgets/controls",
          "model_name": "HTMLModel",
          "model_module_version": "1.5.0",
          "state": {
            "_dom_classes": [],
            "_model_module": "@jupyter-widgets/controls",
            "_model_module_version": "1.5.0",
            "_model_name": "HTMLModel",
            "_view_count": null,
            "_view_module": "@jupyter-widgets/controls",
            "_view_module_version": "1.5.0",
            "_view_name": "HTMLView",
            "description": "",
            "description_tooltip": null,
            "layout": "IPY_MODEL_fe295961fadb4bb5b97d50992fa66d56",
            "placeholder": "​",
            "style": "IPY_MODEL_f4b6a8cd5a274ae3b5b6241714a6e2ff",
            "value": "Map: 100%"
          }
        },
        "2b5bce43409545f89657594665d5a276": {
          "model_module": "@jupyter-widgets/controls",
          "model_name": "FloatProgressModel",
          "model_module_version": "1.5.0",
          "state": {
            "_dom_classes": [],
            "_model_module": "@jupyter-widgets/controls",
            "_model_module_version": "1.5.0",
            "_model_name": "FloatProgressModel",
            "_view_count": null,
            "_view_module": "@jupyter-widgets/controls",
            "_view_module_version": "1.5.0",
            "_view_name": "ProgressView",
            "bar_style": "success",
            "description": "",
            "description_tooltip": null,
            "layout": "IPY_MODEL_9bc38c9a0907455e9740f7821d51116c",
            "max": 1200,
            "min": 0,
            "orientation": "horizontal",
            "style": "IPY_MODEL_c1a5912044154beaa414818e4447447c",
            "value": 1200
          }
        },
        "5bdd88ba12f4443abbdcf6b3efaf2a69": {
          "model_module": "@jupyter-widgets/controls",
          "model_name": "HTMLModel",
          "model_module_version": "1.5.0",
          "state": {
            "_dom_classes": [],
            "_model_module": "@jupyter-widgets/controls",
            "_model_module_version": "1.5.0",
            "_model_name": "HTMLModel",
            "_view_count": null,
            "_view_module": "@jupyter-widgets/controls",
            "_view_module_version": "1.5.0",
            "_view_name": "HTMLView",
            "description": "",
            "description_tooltip": null,
            "layout": "IPY_MODEL_61346cf12bb94c6498c2f760a2ccb78a",
            "placeholder": "​",
            "style": "IPY_MODEL_a9251a21c96f41bca0d6152408c98772",
            "value": " 1200/1200 [00:00&lt;00:00, 1544.94 examples/s]"
          }
        },
        "cdb522ec25e549389bcd833125daf14d": {
          "model_module": "@jupyter-widgets/base",
          "model_name": "LayoutModel",
          "model_module_version": "1.2.0",
          "state": {
            "_model_module": "@jupyter-widgets/base",
            "_model_module_version": "1.2.0",
            "_model_name": "LayoutModel",
            "_view_count": null,
            "_view_module": "@jupyter-widgets/base",
            "_view_module_version": "1.2.0",
            "_view_name": "LayoutView",
            "align_content": null,
            "align_items": null,
            "align_self": null,
            "border": null,
            "bottom": null,
            "display": null,
            "flex": null,
            "flex_flow": null,
            "grid_area": null,
            "grid_auto_columns": null,
            "grid_auto_flow": null,
            "grid_auto_rows": null,
            "grid_column": null,
            "grid_gap": null,
            "grid_row": null,
            "grid_template_areas": null,
            "grid_template_columns": null,
            "grid_template_rows": null,
            "height": null,
            "justify_content": null,
            "justify_items": null,
            "left": null,
            "margin": null,
            "max_height": null,
            "max_width": null,
            "min_height": null,
            "min_width": null,
            "object_fit": null,
            "object_position": null,
            "order": null,
            "overflow": null,
            "overflow_x": null,
            "overflow_y": null,
            "padding": null,
            "right": null,
            "top": null,
            "visibility": null,
            "width": null
          }
        },
        "fe295961fadb4bb5b97d50992fa66d56": {
          "model_module": "@jupyter-widgets/base",
          "model_name": "LayoutModel",
          "model_module_version": "1.2.0",
          "state": {
            "_model_module": "@jupyter-widgets/base",
            "_model_module_version": "1.2.0",
            "_model_name": "LayoutModel",
            "_view_count": null,
            "_view_module": "@jupyter-widgets/base",
            "_view_module_version": "1.2.0",
            "_view_name": "LayoutView",
            "align_content": null,
            "align_items": null,
            "align_self": null,
            "border": null,
            "bottom": null,
            "display": null,
            "flex": null,
            "flex_flow": null,
            "grid_area": null,
            "grid_auto_columns": null,
            "grid_auto_flow": null,
            "grid_auto_rows": null,
            "grid_column": null,
            "grid_gap": null,
            "grid_row": null,
            "grid_template_areas": null,
            "grid_template_columns": null,
            "grid_template_rows": null,
            "height": null,
            "justify_content": null,
            "justify_items": null,
            "left": null,
            "margin": null,
            "max_height": null,
            "max_width": null,
            "min_height": null,
            "min_width": null,
            "object_fit": null,
            "object_position": null,
            "order": null,
            "overflow": null,
            "overflow_x": null,
            "overflow_y": null,
            "padding": null,
            "right": null,
            "top": null,
            "visibility": null,
            "width": null
          }
        },
        "f4b6a8cd5a274ae3b5b6241714a6e2ff": {
          "model_module": "@jupyter-widgets/controls",
          "model_name": "DescriptionStyleModel",
          "model_module_version": "1.5.0",
          "state": {
            "_model_module": "@jupyter-widgets/controls",
            "_model_module_version": "1.5.0",
            "_model_name": "DescriptionStyleModel",
            "_view_count": null,
            "_view_module": "@jupyter-widgets/base",
            "_view_module_version": "1.2.0",
            "_view_name": "StyleView",
            "description_width": ""
          }
        },
        "9bc38c9a0907455e9740f7821d51116c": {
          "model_module": "@jupyter-widgets/base",
          "model_name": "LayoutModel",
          "model_module_version": "1.2.0",
          "state": {
            "_model_module": "@jupyter-widgets/base",
            "_model_module_version": "1.2.0",
            "_model_name": "LayoutModel",
            "_view_count": null,
            "_view_module": "@jupyter-widgets/base",
            "_view_module_version": "1.2.0",
            "_view_name": "LayoutView",
            "align_content": null,
            "align_items": null,
            "align_self": null,
            "border": null,
            "bottom": null,
            "display": null,
            "flex": null,
            "flex_flow": null,
            "grid_area": null,
            "grid_auto_columns": null,
            "grid_auto_flow": null,
            "grid_auto_rows": null,
            "grid_column": null,
            "grid_gap": null,
            "grid_row": null,
            "grid_template_areas": null,
            "grid_template_columns": null,
            "grid_template_rows": null,
            "height": null,
            "justify_content": null,
            "justify_items": null,
            "left": null,
            "margin": null,
            "max_height": null,
            "max_width": null,
            "min_height": null,
            "min_width": null,
            "object_fit": null,
            "object_position": null,
            "order": null,
            "overflow": null,
            "overflow_x": null,
            "overflow_y": null,
            "padding": null,
            "right": null,
            "top": null,
            "visibility": null,
            "width": null
          }
        },
        "c1a5912044154beaa414818e4447447c": {
          "model_module": "@jupyter-widgets/controls",
          "model_name": "ProgressStyleModel",
          "model_module_version": "1.5.0",
          "state": {
            "_model_module": "@jupyter-widgets/controls",
            "_model_module_version": "1.5.0",
            "_model_name": "ProgressStyleModel",
            "_view_count": null,
            "_view_module": "@jupyter-widgets/base",
            "_view_module_version": "1.2.0",
            "_view_name": "StyleView",
            "bar_color": null,
            "description_width": ""
          }
        },
        "61346cf12bb94c6498c2f760a2ccb78a": {
          "model_module": "@jupyter-widgets/base",
          "model_name": "LayoutModel",
          "model_module_version": "1.2.0",
          "state": {
            "_model_module": "@jupyter-widgets/base",
            "_model_module_version": "1.2.0",
            "_model_name": "LayoutModel",
            "_view_count": null,
            "_view_module": "@jupyter-widgets/base",
            "_view_module_version": "1.2.0",
            "_view_name": "LayoutView",
            "align_content": null,
            "align_items": null,
            "align_self": null,
            "border": null,
            "bottom": null,
            "display": null,
            "flex": null,
            "flex_flow": null,
            "grid_area": null,
            "grid_auto_columns": null,
            "grid_auto_flow": null,
            "grid_auto_rows": null,
            "grid_column": null,
            "grid_gap": null,
            "grid_row": null,
            "grid_template_areas": null,
            "grid_template_columns": null,
            "grid_template_rows": null,
            "height": null,
            "justify_content": null,
            "justify_items": null,
            "left": null,
            "margin": null,
            "max_height": null,
            "max_width": null,
            "min_height": null,
            "min_width": null,
            "object_fit": null,
            "object_position": null,
            "order": null,
            "overflow": null,
            "overflow_x": null,
            "overflow_y": null,
            "padding": null,
            "right": null,
            "top": null,
            "visibility": null,
            "width": null
          }
        },
        "a9251a21c96f41bca0d6152408c98772": {
          "model_module": "@jupyter-widgets/controls",
          "model_name": "DescriptionStyleModel",
          "model_module_version": "1.5.0",
          "state": {
            "_model_module": "@jupyter-widgets/controls",
            "_model_module_version": "1.5.0",
            "_model_name": "DescriptionStyleModel",
            "_view_count": null,
            "_view_module": "@jupyter-widgets/base",
            "_view_module_version": "1.2.0",
            "_view_name": "StyleView",
            "description_width": ""
          }
        }
      }
    }
  },
  "nbformat": 4,
  "nbformat_minor": 0
}