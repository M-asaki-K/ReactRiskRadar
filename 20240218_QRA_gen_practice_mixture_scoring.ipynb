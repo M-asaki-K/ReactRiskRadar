{
 "cells": [
  {
   "cell_type": "markdown",
   "metadata": {},
   "source": [
    "## 混合混触危険性予測（2024/2/18作成）\n",
    "\n",
    "評価結果を100点満点に変更（Analyze.ipynbはこの結果をもとに作成）"
   ]
  },
  {
   "cell_type": "code",
   "execution_count": 1,
   "metadata": {},
   "outputs": [],
   "source": [
    "import pandas as pd\n",
    "import openai\n",
    "from tqdm import tqdm\n",
    "from src.utils.GPT import json_generate\n",
    "from src.qra_gen import generate_reason_and_predict_mixture"
   ]
  },
  {
   "cell_type": "code",
   "execution_count": 2,
   "metadata": {},
   "outputs": [],
   "source": [
    "#api_key\n",
    "openai.api_key = \"api_key\""
   ]
  },
  {
   "cell_type": "code",
   "execution_count": 3,
   "metadata": {},
   "outputs": [
    {
     "data": {
      "text/plain": [
       "[{'substance1': 'CARBON, ACTIVATED',\n",
       "  'substance2': 'FERRIC SULFATE',\n",
       "  'result': 'Compatible'},\n",
       " {'substance1': 'ALUMINUM ALKYL HYDRIDES',\n",
       "  'substance2': 'FERRIC NITRATE',\n",
       "  'result': 'Incompatible'},\n",
       " {'substance1': 'CARBON, ACTIVATED',\n",
       "  'substance2': 'METHANE',\n",
       "  'result': 'Compatible'},\n",
       " {'substance1': 'AIR, COMPRESSED',\n",
       "  'substance2': 'WATER',\n",
       "  'result': 'Compatible'},\n",
       " {'substance1': 'ALUMINUM ALKYL HYDRIDES',\n",
       "  'substance2': 'WATER',\n",
       "  'result': 'Incompatible'},\n",
       " {'substance1': 'FERRIC SULFATE',\n",
       "  'substance2': 'IRON OXIDE, SPENT',\n",
       "  'result': 'Incompatible'},\n",
       " {'substance1': 'FERRIC NITRATE',\n",
       "  'substance2': 'IRON, [POWDERED]',\n",
       "  'result': 'Incompatible'},\n",
       " {'substance1': 'ETHANOL',\n",
       "  'substance2': 'PROPIONALDEHYDE',\n",
       "  'result': 'Caution'},\n",
       " {'substance1': 'CARBON, ACTIVATED',\n",
       "  'substance2': 'FERRIC CHLORIDE',\n",
       "  'result': 'Compatible'},\n",
       " {'substance1': 'IRON OXIDE, SPENT',\n",
       "  'substance2': 'WATER',\n",
       "  'result': 'Incompatible'},\n",
       " {'substance1': 'PROPIONALDEHYDE',\n",
       "  'substance2': 'SULFUROUS ACID',\n",
       "  'result': 'Incompatible'},\n",
       " {'substance1': 'ALUMINUM ALKYL HYDRIDES',\n",
       "  'substance2': 'ETHANOL',\n",
       "  'result': 'Incompatible'},\n",
       " {'substance1': 'CARBON, ACTIVATED',\n",
       "  'substance2': 'IRON, [POWDERED]',\n",
       "  'result': 'Incompatible'},\n",
       " {'substance1': 'ALUMINUM ALKYL HYDRIDES',\n",
       "  'substance2': 'IRON OXIDE, SPENT',\n",
       "  'result': 'Incompatible'},\n",
       " {'substance1': 'METHANE',\n",
       "  'substance2': 'SULFUROUS ACID',\n",
       "  'result': 'Compatible'},\n",
       " {'substance1': 'ETHANOL', 'substance2': 'HYDROGEN', 'result': 'Caution'},\n",
       " {'substance1': 'FERRIC NITRATE',\n",
       "  'substance2': 'WATER',\n",
       "  'result': 'Compatible'},\n",
       " {'substance1': 'CARBON, ACTIVATED',\n",
       "  'substance2': 'SULFUROUS ACID',\n",
       "  'result': 'Compatible'},\n",
       " {'substance1': 'AIR, COMPRESSED',\n",
       "  'substance2': 'ETHANOL',\n",
       "  'result': 'Caution'},\n",
       " {'substance1': 'IRON OXIDE, SPENT',\n",
       "  'substance2': 'IRON, [POWDERED]',\n",
       "  'result': 'Incompatible'},\n",
       " {'substance1': 'AIR, COMPRESSED',\n",
       "  'substance2': 'HYDROGEN',\n",
       "  'result': 'Caution'},\n",
       " {'substance1': 'FERRIC CHLORIDE',\n",
       "  'substance2': 'PROPIONALDEHYDE',\n",
       "  'result': 'Incompatible'},\n",
       " {'substance1': 'HYDROGEN', 'substance2': 'WATER', 'result': 'Compatible'},\n",
       " {'substance1': 'FERRIC SULFATE',\n",
       "  'substance2': 'SULFUROUS ACID',\n",
       "  'result': 'Caution'},\n",
       " {'substance1': 'FERRIC SULFATE',\n",
       "  'substance2': 'HYDROGEN',\n",
       "  'result': 'Compatible'},\n",
       " {'substance1': 'IRON, [POWDERED]',\n",
       "  'substance2': 'METHANE',\n",
       "  'result': 'Compatible'},\n",
       " {'substance1': 'ETHANOL',\n",
       "  'substance2': 'IRON, [POWDERED]',\n",
       "  'result': 'Incompatible'},\n",
       " {'substance1': 'AIR, COMPRESSED',\n",
       "  'substance2': 'PROPIONALDEHYDE',\n",
       "  'result': 'Incompatible'},\n",
       " {'substance1': 'FERRIC CHLORIDE',\n",
       "  'substance2': 'FERRIC NITRATE',\n",
       "  'result': 'Incompatible'},\n",
       " {'substance1': 'HYDROGEN',\n",
       "  'substance2': 'PROPIONALDEHYDE',\n",
       "  'result': 'Incompatible'},\n",
       " {'substance1': 'FERRIC SULFATE',\n",
       "  'substance2': 'METHANE',\n",
       "  'result': 'Compatible'},\n",
       " {'substance1': 'METHANE',\n",
       "  'substance2': 'PROPIONALDEHYDE',\n",
       "  'result': 'Caution'},\n",
       " {'substance1': 'ALUMINUM ALKYL HYDRIDES',\n",
       "  'substance2': 'CARBON, ACTIVATED',\n",
       "  'result': 'Incompatible'},\n",
       " {'substance1': 'ETHANOL', 'substance2': 'WATER', 'result': 'Compatible'},\n",
       " {'substance1': 'HYDROGEN', 'substance2': 'METHANE', 'result': 'Compatible'},\n",
       " {'substance1': 'FERRIC SULFATE',\n",
       "  'substance2': 'PROPIONALDEHYDE',\n",
       "  'result': 'Incompatible'},\n",
       " {'substance1': 'FERRIC NITRATE',\n",
       "  'substance2': 'SULFUROUS ACID',\n",
       "  'result': 'Incompatible'},\n",
       " {'substance1': 'ALUMINUM ALKYL HYDRIDES',\n",
       "  'substance2': 'PROPIONALDEHYDE',\n",
       "  'result': 'Incompatible'},\n",
       " {'substance1': 'METHANE', 'substance2': 'WATER', 'result': 'Compatible'},\n",
       " {'substance1': 'IRON OXIDE, SPENT',\n",
       "  'substance2': 'METHANE',\n",
       "  'result': 'Compatible'},\n",
       " {'substance1': 'AIR, COMPRESSED',\n",
       "  'substance2': 'ALUMINUM ALKYL HYDRIDES',\n",
       "  'result': 'Incompatible'},\n",
       " {'substance1': 'FERRIC CHLORIDE',\n",
       "  'substance2': 'FERRIC SULFATE',\n",
       "  'result': 'Caution'},\n",
       " {'substance1': 'CARBON, ACTIVATED',\n",
       "  'substance2': 'IRON OXIDE, SPENT',\n",
       "  'result': 'Compatible'},\n",
       " {'substance1': 'AIR, COMPRESSED',\n",
       "  'substance2': 'IRON OXIDE, SPENT',\n",
       "  'result': 'Incompatible'},\n",
       " {'substance1': 'FERRIC CHLORIDE',\n",
       "  'substance2': 'IRON, [POWDERED]',\n",
       "  'result': 'Incompatible'},\n",
       " {'substance1': 'AIR, COMPRESSED',\n",
       "  'substance2': 'IRON, [POWDERED]',\n",
       "  'result': 'Incompatible'},\n",
       " {'substance1': 'AIR, COMPRESSED',\n",
       "  'substance2': 'SULFUROUS ACID',\n",
       "  'result': 'Caution'},\n",
       " {'substance1': 'FERRIC CHLORIDE',\n",
       "  'substance2': 'SULFUROUS ACID',\n",
       "  'result': 'Compatible'},\n",
       " {'substance1': 'AIR, COMPRESSED',\n",
       "  'substance2': 'METHANE',\n",
       "  'result': 'Compatible'},\n",
       " {'substance1': 'AIR, COMPRESSED',\n",
       "  'substance2': 'FERRIC CHLORIDE',\n",
       "  'result': 'Caution'},\n",
       " {'substance1': 'ALUMINUM ALKYL HYDRIDES',\n",
       "  'substance2': 'SULFUROUS ACID',\n",
       "  'result': 'Incompatible'},\n",
       " {'substance1': 'SULFUROUS ACID', 'substance2': 'WATER', 'result': 'Caution'},\n",
       " {'substance1': 'HYDROGEN',\n",
       "  'substance2': 'SULFUROUS ACID',\n",
       "  'result': 'Compatible'},\n",
       " {'substance1': 'ETHANOL', 'substance2': 'METHANE', 'result': 'Compatible'},\n",
       " {'substance1': 'ETHANOL',\n",
       "  'substance2': 'FERRIC CHLORIDE',\n",
       "  'result': 'Caution'},\n",
       " {'substance1': 'IRON, [POWDERED]',\n",
       "  'substance2': 'WATER',\n",
       "  'result': 'Incompatible'},\n",
       " {'substance1': 'FERRIC SULFATE',\n",
       "  'substance2': 'IRON, [POWDERED]',\n",
       "  'result': 'Incompatible'},\n",
       " {'substance1': 'FERRIC NITRATE',\n",
       "  'substance2': 'METHANE',\n",
       "  'result': 'Caution'},\n",
       " {'substance1': 'ALUMINUM ALKYL HYDRIDES',\n",
       "  'substance2': 'FERRIC CHLORIDE',\n",
       "  'result': 'Incompatible'},\n",
       " {'substance1': 'AIR, COMPRESSED',\n",
       "  'substance2': 'FERRIC NITRATE',\n",
       "  'result': 'Caution'},\n",
       " {'substance1': 'IRON, [POWDERED]',\n",
       "  'substance2': 'SULFUROUS ACID',\n",
       "  'result': 'Incompatible'},\n",
       " {'substance1': 'AIR, COMPRESSED',\n",
       "  'substance2': 'CARBON, ACTIVATED',\n",
       "  'result': 'Caution'},\n",
       " {'substance1': 'ALUMINUM ALKYL HYDRIDES',\n",
       "  'substance2': 'METHANE',\n",
       "  'result': 'Compatible'},\n",
       " {'substance1': 'HYDROGEN',\n",
       "  'substance2': 'IRON, [POWDERED]',\n",
       "  'result': 'Incompatible'},\n",
       " {'substance1': 'ETHANOL',\n",
       "  'substance2': 'SULFUROUS ACID',\n",
       "  'result': 'Caution'},\n",
       " {'substance1': 'FERRIC NITRATE',\n",
       "  'substance2': 'PROPIONALDEHYDE',\n",
       "  'result': 'Incompatible'},\n",
       " {'substance1': 'PROPIONALDEHYDE', 'substance2': 'WATER', 'result': 'Caution'},\n",
       " {'substance1': 'IRON OXIDE, SPENT',\n",
       "  'substance2': 'SULFUROUS ACID',\n",
       "  'result': 'Incompatible'},\n",
       " {'substance1': 'ETHANOL',\n",
       "  'substance2': 'IRON OXIDE, SPENT',\n",
       "  'result': 'Caution'},\n",
       " {'substance1': 'FERRIC SULFATE', 'substance2': 'WATER', 'result': 'Caution'},\n",
       " {'substance1': 'IRON OXIDE, SPENT',\n",
       "  'substance2': 'PROPIONALDEHYDE',\n",
       "  'result': 'Incompatible'},\n",
       " {'substance1': 'FERRIC NITRATE',\n",
       "  'substance2': 'FERRIC SULFATE',\n",
       "  'result': 'Incompatible'},\n",
       " {'substance1': 'ETHANOL',\n",
       "  'substance2': 'FERRIC SULFATE',\n",
       "  'result': 'Compatible'},\n",
       " {'substance1': 'FERRIC CHLORIDE',\n",
       "  'substance2': 'HYDROGEN',\n",
       "  'result': 'Compatible'},\n",
       " {'substance1': 'IRON, [POWDERED]',\n",
       "  'substance2': 'PROPIONALDEHYDE',\n",
       "  'result': 'Incompatible'},\n",
       " {'substance1': 'ALUMINUM ALKYL HYDRIDES',\n",
       "  'substance2': 'FERRIC SULFATE',\n",
       "  'result': 'Incompatible'},\n",
       " {'substance1': 'FERRIC CHLORIDE',\n",
       "  'substance2': 'IRON OXIDE, SPENT',\n",
       "  'result': 'Incompatible'},\n",
       " {'substance1': 'FERRIC CHLORIDE',\n",
       "  'substance2': 'METHANE',\n",
       "  'result': 'Compatible'},\n",
       " {'substance1': 'HYDROGEN',\n",
       "  'substance2': 'IRON OXIDE, SPENT',\n",
       "  'result': 'Compatible'},\n",
       " {'substance1': 'CARBON, ACTIVATED',\n",
       "  'substance2': 'FERRIC NITRATE',\n",
       "  'result': 'Compatible'},\n",
       " {'substance1': 'ALUMINUM ALKYL HYDRIDES',\n",
       "  'substance2': 'IRON, [POWDERED]',\n",
       "  'result': 'Incompatible'},\n",
       " {'substance1': 'CARBON, ACTIVATED',\n",
       "  'substance2': 'HYDROGEN',\n",
       "  'result': 'Compatible'},\n",
       " {'substance1': 'ETHANOL',\n",
       "  'substance2': 'FERRIC NITRATE',\n",
       "  'result': 'Incompatible'},\n",
       " {'substance1': 'ALUMINUM ALKYL HYDRIDES',\n",
       "  'substance2': 'HYDROGEN',\n",
       "  'result': 'Incompatible'},\n",
       " {'substance1': 'FERRIC NITRATE',\n",
       "  'substance2': 'IRON OXIDE, SPENT',\n",
       "  'result': 'Incompatible'},\n",
       " {'substance1': 'AIR, COMPRESSED',\n",
       "  'substance2': 'FERRIC SULFATE',\n",
       "  'result': 'Compatible'},\n",
       " {'substance1': 'CARBON, ACTIVATED',\n",
       "  'substance2': 'PROPIONALDEHYDE',\n",
       "  'result': 'Incompatible'},\n",
       " {'substance1': 'FERRIC CHLORIDE', 'substance2': 'WATER', 'result': 'Caution'},\n",
       " {'substance1': 'FERRIC NITRATE',\n",
       "  'substance2': 'HYDROGEN',\n",
       "  'result': 'Compatible'},\n",
       " {'substance1': 'CARBON, ACTIVATED',\n",
       "  'substance2': 'ETHANOL',\n",
       "  'result': 'Caution'},\n",
       " {'substance1': 'CARBON, ACTIVATED',\n",
       "  'substance2': 'WATER',\n",
       "  'result': 'Compatible'}]"
      ]
     },
     "execution_count": 3,
     "metadata": {},
     "output_type": "execute_result"
    }
   ],
   "source": [
    "#laod dataset as dict\n",
    "csv_path=\"dataset/Updated_Cameo_reactivity_sorted.csv\"\n",
    "df=pd.read_csv(csv_path)\n",
    "df = df.iloc[:,:3]\n",
    "chemical_records=df.to_dict(orient = \"records\")\n",
    "chemical_records"
   ]
  },
  {
   "cell_type": "code",
   "execution_count": 14,
   "metadata": {},
   "outputs": [],
   "source": [
    "#このプロンプトを変更\n",
    "\n",
    "# 質問文を生成するための指示\n",
    "#qa_gen_command = \"\"\"\n",
    "#Provide the quantitative reasons within 300 words so that a scientist, who does not know the compatibility or reactivity of a mixture, can predict these outcomes.\n",
    "#We must quantitatively consider how the combination of substances influences their compatibility or reactivity.\n",
    "#I absolutely forbid you to make qualitative generalizations.\n",
    "\n",
    "#Bad example reasons\n",
    "## Its molecular weight compared to simpler compounds, contributing to higher reactivity. (qualitative discussion is practically meaningless!!!)\n",
    "## Therefore, the mixture is highly reactive. (Never include the answer in the reason!!).\n",
    "\n",
    "#Good example reasons\n",
    "## Mixing sodium with water generates a significant amount of heat and hydrogen gas due to the chemical reaction, which can lead to an explosive reaction under certain conditions.\n",
    "## The combination of acetone and bleach creates chloroform and other hazardous compounds due to the chemical reaction between acetone's methyl groups and sodium hypochlorite in bleach.\n",
    "\n",
    "#Output: Reason key\n",
    "#\"\"\"\n",
    "\n",
    "qa_gen_command = \"\"\"\n",
    "Provide detailed and quantitative reasons within 300 words to accurately predict the compatibility or reactivity of a mixture. Focus on the specific interactions between substances and their measurable effects on the mixture’s safety. Avoid making broad generalizations and ensure your reasoning is grounded in scientific principles and data.\n",
    "\n",
    "#Bad example reasons\n",
    "## Its molecular weight compared to simpler compounds, contributing to higher reactivity. (This is too vague and does not consider specific interactions.)\n",
    "## Therefore, the mixture is highly reactive. (This conclusion lacks supporting quantitative data.)\n",
    "\n",
    "#Good example reasons\n",
    "## Mixing sodium with water increases the temperature of the solution up to 100°C within 30 seconds due to an exothermic reaction, releasing 56.6 kJ/mol of energy. This rapid energy release can cause boiling and splattering, posing a burn hazard.\n",
    "## The combination of acetone and bleach at a ratio of 1:1 by volume generates chloroform, with a reaction yield of 20% based on acetone. The presence of chloroform, beyond a concentration of 0.002 ppm in air, can be neurotoxic and carcinogenic, indicating a specific health risk.\n",
    "\n",
    "#Output: Reason key\n",
    "Consider not only the potential for a reaction but also the conditions under which the reaction is safe or hazardous. Include considerations such as concentration thresholds, reaction rates, and environmental factors that mitigate or exacerbate risks.\n",
    "\"\"\"\n",
    "\n",
    "# 分子構造から物性を予測するための指示\n",
    "#predict_command = \"\"\"\n",
    "#Predict the compatibility or reactivity of the following mixture.\n",
    "#Consider the quantitative reasons provided and, in any case, output a prediction about the mixture's safety or potential hazards.\n",
    "\n",
    "#Output: Result key\n",
    "#\"\"\"\n",
    "\n",
    "#predict_command = \"\"\"\n",
    "#Predict the compatibility or reactivity of the following mixture, using only one of the following outcomes: Compatible, Incompatible, Caution. \n",
    "#Consider the quantitative reasons provided and make your prediction based on the mixture's safety or potential hazards.\n",
    "\n",
    "#Output: Result key should be one of [Compatible, Incompatible, Caution].\n",
    "#\"\"\"\n",
    "\n",
    "predict_command = \"\"\"\n",
    "Predict the level of danger of the following mixture on a scale of 0 to 100, where 0 indicates no danger at all and 100 represents the highest level of danger. \n",
    "Consider the quantitative reasons provided and make your prediction based on the mixture's safety or potential hazards. Provide your prediction as a numerical value reflecting the mixture's level of danger.\n",
    "\n",
    "#Output: Result key should be a numerical value between 0 and 100.\n",
    "\"\"\"\n",
    "\n",
    "#use GPT3.5 completion\n",
    "llm_ask_func=json_generate\n",
    "\n",
    "#if gen_reason=True, generate reason and predict\n",
    "#if gen_reason=False, only predict without reason (for control)\n",
    "gen_reason=True\n",
    "#gen_reason=False\n",
    "\n",
    "#n回のpredictionを行う\n",
    "n_trials=3"
   ]
  },
  {
   "cell_type": "code",
   "execution_count": 15,
   "metadata": {},
   "outputs": [
    {
     "name": "stderr",
     "output_type": "stream",
     "text": [
      "  0%|                                                                                           | 0/91 [00:00<?, ?it/s]"
     ]
    },
    {
     "name": "stdout",
     "output_type": "stream",
     "text": [
      "Hello\n",
      "{'Result': 20}\n",
      "{'Result': 10}\n"
     ]
    },
    {
     "name": "stderr",
     "output_type": "stream",
     "text": [
      "  1%|▉                                                                                  | 1/91 [00:05<07:33,  5.04s/it]"
     ]
    },
    {
     "name": "stdout",
     "output_type": "stream",
     "text": [
      "{'Result': 20}\n",
      "Hello\n",
      "{'Result': 95}\n",
      "{'Result': 95}\n"
     ]
    },
    {
     "name": "stderr",
     "output_type": "stream",
     "text": [
      "  2%|█▊                                                                                 | 2/91 [00:11<08:27,  5.70s/it]"
     ]
    },
    {
     "name": "stdout",
     "output_type": "stream",
     "text": [
      "{'Result': 95}\n",
      "Hello\n",
      "{'Result': 25}\n",
      "{'Result': 20}\n"
     ]
    },
    {
     "name": "stderr",
     "output_type": "stream",
     "text": [
      "  3%|██▋                                                                                | 3/91 [00:15<07:19,  4.99s/it]"
     ]
    },
    {
     "name": "stdout",
     "output_type": "stream",
     "text": [
      "{'Result': 15}\n",
      "Hello\n",
      "{'Result': 10}\n",
      "{'Result': 20}\n"
     ]
    },
    {
     "name": "stderr",
     "output_type": "stream",
     "text": [
      "  4%|███▋                                                                               | 4/91 [00:19<06:47,  4.68s/it]"
     ]
    },
    {
     "name": "stdout",
     "output_type": "stream",
     "text": [
      "{'Result': 10}\n",
      "Hello\n",
      "{'Result': 95}\n",
      "{'Result': 95}\n"
     ]
    },
    {
     "name": "stderr",
     "output_type": "stream",
     "text": [
      "  5%|████▌                                                                              | 5/91 [00:23<06:05,  4.25s/it]"
     ]
    },
    {
     "name": "stdout",
     "output_type": "stream",
     "text": [
      "{'Result': 95}\n",
      "Hello\n",
      "{'Result': 85}\n",
      "{'Result': 85}\n"
     ]
    },
    {
     "name": "stderr",
     "output_type": "stream",
     "text": [
      "  7%|█████▍                                                                             | 6/91 [00:28<06:22,  4.50s/it]"
     ]
    },
    {
     "name": "stdout",
     "output_type": "stream",
     "text": [
      "{'Result': 85}\n",
      "Hello\n",
      "{'Result': 85}\n",
      "{'Result': 85}\n"
     ]
    },
    {
     "name": "stderr",
     "output_type": "stream",
     "text": [
      "  8%|██████▍                                                                            | 7/91 [00:31<05:54,  4.22s/it]"
     ]
    },
    {
     "name": "stdout",
     "output_type": "stream",
     "text": [
      "{'Result': 85}\n",
      "Hello\n",
      "{'Result': 85}\n",
      "{'Result': 75}\n"
     ]
    },
    {
     "name": "stderr",
     "output_type": "stream",
     "text": [
      "  9%|███████▎                                                                           | 8/91 [00:35<05:30,  3.99s/it]"
     ]
    },
    {
     "name": "stdout",
     "output_type": "stream",
     "text": [
      "{'Result': 85}\n",
      "Hello\n"
     ]
    },
    {
     "name": "stderr",
     "output_type": "stream",
     "text": [
      " 10%|████████▏                                                                          | 9/91 [00:37<04:40,  3.42s/it]"
     ]
    },
    {
     "name": "stdout",
     "output_type": "stream",
     "text": [
      "negative\n",
      "'Reason'\n",
      "Hello\n",
      "{'Result': 85}\n",
      "{'Result': 85}\n"
     ]
    },
    {
     "name": "stderr",
     "output_type": "stream",
     "text": [
      " 11%|█████████                                                                         | 10/91 [00:40<04:39,  3.45s/it]"
     ]
    },
    {
     "name": "stdout",
     "output_type": "stream",
     "text": [
      "{'Result': 80}\n",
      "Hello\n",
      "{'Result': 95}\n",
      "{'Result': 90}\n"
     ]
    },
    {
     "name": "stderr",
     "output_type": "stream",
     "text": [
      " 12%|█████████▉                                                                        | 11/91 [00:45<05:08,  3.85s/it]"
     ]
    },
    {
     "name": "stdout",
     "output_type": "stream",
     "text": [
      "negative\n",
      "Expecting value: line 1 column 101 (char 100)\n",
      "Hello\n",
      "{'Result': 95}\n",
      "{'Result': 90}\n"
     ]
    },
    {
     "name": "stderr",
     "output_type": "stream",
     "text": [
      " 13%|██████████▊                                                                       | 12/91 [00:48<04:50,  3.67s/it]"
     ]
    },
    {
     "name": "stdout",
     "output_type": "stream",
     "text": [
      "{'Result': 90}\n",
      "Hello\n",
      "{'Result': 90}\n",
      "{'Result': 85}\n"
     ]
    },
    {
     "name": "stderr",
     "output_type": "stream",
     "text": [
      " 14%|███████████▋                                                                      | 13/91 [00:52<04:49,  3.71s/it]"
     ]
    },
    {
     "name": "stdout",
     "output_type": "stream",
     "text": [
      "{'Result': 85}\n",
      "Hello\n",
      "{'Result': 95}\n",
      "{'Result': 85}\n"
     ]
    },
    {
     "name": "stderr",
     "output_type": "stream",
     "text": [
      " 15%|████████████▌                                                                     | 14/91 [00:56<04:56,  3.85s/it]"
     ]
    },
    {
     "name": "stdout",
     "output_type": "stream",
     "text": [
      "{'Result': 90}\n",
      "Hello\n",
      "{'Result': 20}\n",
      "{'Result': '20'}\n"
     ]
    },
    {
     "name": "stderr",
     "output_type": "stream",
     "text": [
      " 16%|█████████████▌                                                                    | 15/91 [01:01<05:09,  4.07s/it]"
     ]
    },
    {
     "name": "stdout",
     "output_type": "stream",
     "text": [
      "{'Result': '30'}\n",
      "Hello\n",
      "{'Result': 85}\n",
      "{'Result': 85}\n"
     ]
    },
    {
     "name": "stderr",
     "output_type": "stream",
     "text": [
      " 18%|██████████████▍                                                                   | 16/91 [01:05<04:57,  3.97s/it]"
     ]
    },
    {
     "name": "stdout",
     "output_type": "stream",
     "text": [
      "{'Result': 90}\n",
      "Hello\n",
      "{'Result': 15}\n",
      "{'Result': 15}\n"
     ]
    },
    {
     "name": "stderr",
     "output_type": "stream",
     "text": [
      " 19%|███████████████▎                                                                  | 17/91 [01:09<04:57,  4.03s/it]"
     ]
    },
    {
     "name": "stdout",
     "output_type": "stream",
     "text": [
      "{'Result': '15'}\n",
      "Hello\n",
      "{'Result': '15'}\n",
      "{'Result': '15'}\n"
     ]
    },
    {
     "name": "stderr",
     "output_type": "stream",
     "text": [
      " 20%|████████████████▏                                                                 | 18/91 [01:12<04:35,  3.78s/it]"
     ]
    },
    {
     "name": "stdout",
     "output_type": "stream",
     "text": [
      "{'Result': '15'}\n",
      "Hello\n",
      "{'Result': 85}\n",
      "{'Result': 85}\n"
     ]
    },
    {
     "name": "stderr",
     "output_type": "stream",
     "text": [
      " 21%|█████████████████                                                                 | 19/91 [01:16<04:33,  3.80s/it]"
     ]
    },
    {
     "name": "stdout",
     "output_type": "stream",
     "text": [
      "{'Result': 85}\n",
      "Hello\n",
      "{'Result': 85}\n",
      "{'Result': 85}\n"
     ]
    },
    {
     "name": "stderr",
     "output_type": "stream",
     "text": [
      " 22%|██████████████████                                                                | 20/91 [01:19<04:23,  3.71s/it]"
     ]
    },
    {
     "name": "stdout",
     "output_type": "stream",
     "text": [
      "{'Result': 90}\n",
      "Hello\n",
      "{'Result': 90}\n",
      "{'Result': 85}\n"
     ]
    },
    {
     "name": "stderr",
     "output_type": "stream",
     "text": [
      " 23%|██████████████████▉                                                               | 21/91 [01:23<04:22,  3.75s/it]"
     ]
    },
    {
     "name": "stdout",
     "output_type": "stream",
     "text": [
      "{'Result': 90}\n",
      "Hello\n",
      "{'Result': 85}\n",
      "{'Result': 90}\n"
     ]
    },
    {
     "name": "stderr",
     "output_type": "stream",
     "text": [
      " 24%|███████████████████▊                                                              | 22/91 [01:27<04:12,  3.66s/it]"
     ]
    },
    {
     "name": "stdout",
     "output_type": "stream",
     "text": [
      "{'Result': 85}\n",
      "Hello\n",
      "{'Result': 10}\n",
      "{'Result': 15}\n"
     ]
    },
    {
     "name": "stderr",
     "output_type": "stream",
     "text": [
      " 25%|████████████████████▋                                                             | 23/91 [01:30<04:07,  3.64s/it]"
     ]
    },
    {
     "name": "stdout",
     "output_type": "stream",
     "text": [
      "{'Result': 10}\n",
      "Hello\n",
      "{'Result': 75}\n",
      "{'Result': 90}\n"
     ]
    },
    {
     "name": "stderr",
     "output_type": "stream",
     "text": [
      " 26%|█████████████████████▋                                                            | 24/91 [01:33<03:51,  3.45s/it]"
     ]
    },
    {
     "name": "stdout",
     "output_type": "stream",
     "text": [
      "{'Result': 85}\n",
      "Hello\n",
      "{'Result': 20}\n",
      "{'Result': 15}\n"
     ]
    },
    {
     "name": "stderr",
     "output_type": "stream",
     "text": [
      " 27%|██████████████████████▌                                                           | 25/91 [01:36<03:36,  3.28s/it]"
     ]
    },
    {
     "name": "stdout",
     "output_type": "stream",
     "text": [
      "{'Result': 15}\n",
      "Hello\n"
     ]
    },
    {
     "name": "stderr",
     "output_type": "stream",
     "text": [
      " 29%|███████████████████████▍                                                          | 26/91 [01:38<03:00,  2.77s/it]"
     ]
    },
    {
     "name": "stdout",
     "output_type": "stream",
     "text": [
      "negative\n",
      "'Reason'\n",
      "Hello\n",
      "{'Result': 90}\n",
      "{'Result': 90}\n"
     ]
    },
    {
     "name": "stderr",
     "output_type": "stream",
     "text": [
      " 30%|████████████████████████▎                                                         | 27/91 [01:41<03:11,  2.99s/it]"
     ]
    },
    {
     "name": "stdout",
     "output_type": "stream",
     "text": [
      "{'Result': 90}\n",
      "Hello\n",
      "{'Result': 85}\n",
      "{'Result': 85}\n"
     ]
    },
    {
     "name": "stderr",
     "output_type": "stream",
     "text": [
      " 31%|█████████████████████████▏                                                        | 28/91 [01:45<03:16,  3.12s/it]"
     ]
    },
    {
     "name": "stdout",
     "output_type": "stream",
     "text": [
      "{'Result': 85}\n",
      "Hello\n",
      "{'Result': 85}\n",
      "{'Result': 85}\n"
     ]
    },
    {
     "name": "stderr",
     "output_type": "stream",
     "text": [
      " 32%|██████████████████████████▏                                                       | 29/91 [01:48<03:20,  3.24s/it]"
     ]
    },
    {
     "name": "stdout",
     "output_type": "stream",
     "text": [
      "{'Result': 85}\n",
      "Hello\n",
      "{'Result': 90}\n",
      "{'Result': 85}\n"
     ]
    },
    {
     "name": "stderr",
     "output_type": "stream",
     "text": [
      " 33%|███████████████████████████                                                       | 30/91 [01:52<03:25,  3.38s/it]"
     ]
    },
    {
     "name": "stdout",
     "output_type": "stream",
     "text": [
      "{'Result': 90}\n",
      "Hello\n",
      "{'Result': 10}\n",
      "{'Result': 10}\n"
     ]
    },
    {
     "name": "stderr",
     "output_type": "stream",
     "text": [
      " 34%|███████████████████████████▉                                                      | 31/91 [01:56<03:33,  3.56s/it]"
     ]
    },
    {
     "name": "stdout",
     "output_type": "stream",
     "text": [
      "{'Result': 10}\n",
      "Hello\n",
      "{'Result': 75}\n",
      "{'Result': 60}\n"
     ]
    },
    {
     "name": "stderr",
     "output_type": "stream",
     "text": [
      " 35%|████████████████████████████▊                                                     | 32/91 [02:00<03:38,  3.70s/it]"
     ]
    },
    {
     "name": "stdout",
     "output_type": "stream",
     "text": [
      "{'Result': 75}\n",
      "Hello\n"
     ]
    },
    {
     "name": "stderr",
     "output_type": "stream",
     "text": [
      " 36%|█████████████████████████████▋                                                    | 33/91 [02:02<03:02,  3.15s/it]"
     ]
    },
    {
     "name": "stdout",
     "output_type": "stream",
     "text": [
      "negative\n",
      "'Reason'\n",
      "Hello\n",
      "{'Result': 10}\n",
      "{'Result': 10}\n"
     ]
    },
    {
     "name": "stderr",
     "output_type": "stream",
     "text": [
      " 37%|██████████████████████████████▋                                                   | 34/91 [02:05<03:00,  3.17s/it]"
     ]
    },
    {
     "name": "stdout",
     "output_type": "stream",
     "text": [
      "{'Result': 15}\n",
      "Hello\n",
      "{'Result': 15}\n",
      "{'Result': '15'}\n"
     ]
    },
    {
     "name": "stderr",
     "output_type": "stream",
     "text": [
      " 38%|███████████████████████████████▌                                                  | 35/91 [02:08<03:00,  3.23s/it]"
     ]
    },
    {
     "name": "stdout",
     "output_type": "stream",
     "text": [
      "{'Result': 10}\n",
      "Hello\n",
      "{'Result': 85}\n",
      "{'Result': 95}\n"
     ]
    },
    {
     "name": "stderr",
     "output_type": "stream",
     "text": [
      " 40%|████████████████████████████████▍                                                 | 36/91 [02:12<03:02,  3.31s/it]"
     ]
    },
    {
     "name": "stdout",
     "output_type": "stream",
     "text": [
      "{'Result': 95}\n",
      "Hello\n",
      "{'Result': 85}\n",
      "{'Result': 85}\n"
     ]
    },
    {
     "name": "stderr",
     "output_type": "stream",
     "text": [
      " 41%|█████████████████████████████████▎                                                | 37/91 [02:15<02:57,  3.28s/it]"
     ]
    },
    {
     "name": "stdout",
     "output_type": "stream",
     "text": [
      "{'Result': 85}\n",
      "Hello\n",
      "{'Result': 90}\n",
      "{'Result': 95}\n"
     ]
    },
    {
     "name": "stderr",
     "output_type": "stream",
     "text": [
      " 42%|██████████████████████████████████▏                                               | 38/91 [02:20<03:17,  3.73s/it]"
     ]
    },
    {
     "name": "stdout",
     "output_type": "stream",
     "text": [
      "{'Result': 95}\n",
      "Hello\n",
      "{'Result': 10}\n",
      "{'Result': 15}\n"
     ]
    },
    {
     "name": "stderr",
     "output_type": "stream",
     "text": [
      " 43%|███████████████████████████████████▏                                              | 39/91 [02:23<03:11,  3.67s/it]"
     ]
    },
    {
     "name": "stdout",
     "output_type": "stream",
     "text": [
      "{'Result': 15}\n",
      "Hello\n",
      "{'Result': 10}\n",
      "{'Result': 10}\n"
     ]
    },
    {
     "name": "stderr",
     "output_type": "stream",
     "text": [
      " 44%|████████████████████████████████████                                              | 40/91 [02:27<03:04,  3.62s/it]"
     ]
    },
    {
     "name": "stdout",
     "output_type": "stream",
     "text": [
      "{'Result': 15}\n",
      "Hello\n",
      "{'Result': 90}\n",
      "{'Result': 90}\n"
     ]
    },
    {
     "name": "stderr",
     "output_type": "stream",
     "text": [
      " 45%|████████████████████████████████████▉                                             | 41/91 [02:31<03:01,  3.62s/it]"
     ]
    },
    {
     "name": "stdout",
     "output_type": "stream",
     "text": [
      "{'Result': 90}\n",
      "Hello\n",
      "{'Result': 85}\n",
      "{'Result': 85}\n"
     ]
    },
    {
     "name": "stderr",
     "output_type": "stream",
     "text": [
      " 46%|█████████████████████████████████████▊                                            | 42/91 [02:34<02:50,  3.48s/it]"
     ]
    },
    {
     "name": "stdout",
     "output_type": "stream",
     "text": [
      "{'Result': 85}\n",
      "Hello\n",
      "{'Result': 15}\n",
      "{'Result': 15}\n"
     ]
    },
    {
     "name": "stderr",
     "output_type": "stream",
     "text": [
      " 47%|██████████████████████████████████████▋                                           | 43/91 [02:37<02:44,  3.43s/it]"
     ]
    },
    {
     "name": "stdout",
     "output_type": "stream",
     "text": [
      "{'Result': 10}\n",
      "Hello\n"
     ]
    },
    {
     "name": "stderr",
     "output_type": "stream",
     "text": [
      " 48%|███████████████████████████████████████▋                                          | 44/91 [02:39<02:17,  2.93s/it]"
     ]
    },
    {
     "name": "stdout",
     "output_type": "stream",
     "text": [
      "negative\n",
      "'Reason'\n",
      "Hello\n",
      "{'Result': 85}\n",
      "{'Result': 85}\n"
     ]
    },
    {
     "name": "stderr",
     "output_type": "stream",
     "text": [
      " 49%|████████████████████████████████████████▌                                         | 45/91 [02:42<02:15,  2.94s/it]"
     ]
    },
    {
     "name": "stdout",
     "output_type": "stream",
     "text": [
      "{'Result': 85}\n",
      "Hello\n",
      "{'Result': 85}\n",
      "{'Result': 95}\n"
     ]
    },
    {
     "name": "stderr",
     "output_type": "stream",
     "text": [
      " 51%|█████████████████████████████████████████▍                                        | 46/91 [02:45<02:21,  3.15s/it]"
     ]
    },
    {
     "name": "stdout",
     "output_type": "stream",
     "text": [
      "{'Result': 85}\n",
      "Hello\n"
     ]
    },
    {
     "name": "stderr",
     "output_type": "stream",
     "text": [
      " 52%|██████████████████████████████████████████▎                                       | 47/91 [02:47<01:55,  2.62s/it]"
     ]
    },
    {
     "name": "stdout",
     "output_type": "stream",
     "text": [
      "negative\n",
      "'Reason'\n",
      "Hello\n",
      "{'Result': 15}\n",
      "{'Result': 20}\n"
     ]
    },
    {
     "name": "stderr",
     "output_type": "stream",
     "text": [
      " 53%|███████████████████████████████████████████▎                                      | 48/91 [02:50<02:00,  2.80s/it]"
     ]
    },
    {
     "name": "stdout",
     "output_type": "stream",
     "text": [
      "{'Result': 25}\n",
      "Hello\n",
      "{'Result': 10}\n",
      "{'Result': 20}\n"
     ]
    },
    {
     "name": "stderr",
     "output_type": "stream",
     "text": [
      " 54%|████████████████████████████████████████████▏                                     | 49/91 [02:54<02:08,  3.05s/it]"
     ]
    },
    {
     "name": "stdout",
     "output_type": "stream",
     "text": [
      "{'Result': 20}\n",
      "Hello\n",
      "{'Result': 85}\n",
      "{'Result': 85}\n"
     ]
    },
    {
     "name": "stderr",
     "output_type": "stream",
     "text": [
      " 55%|█████████████████████████████████████████████                                     | 50/91 [02:57<02:09,  3.16s/it]"
     ]
    },
    {
     "name": "stdout",
     "output_type": "stream",
     "text": [
      "{'Result': 85}\n",
      "Hello\n",
      "{'Result': 95}\n",
      "{'Result': 95}\n"
     ]
    },
    {
     "name": "stderr",
     "output_type": "stream",
     "text": [
      " 56%|█████████████████████████████████████████████▉                                    | 51/91 [03:01<02:16,  3.42s/it]"
     ]
    },
    {
     "name": "stdout",
     "output_type": "stream",
     "text": [
      "{'Result': 95}\n",
      "Hello\n",
      "{'Result': 65}\n",
      "{'Result': 65}\n"
     ]
    },
    {
     "name": "stderr",
     "output_type": "stream",
     "text": [
      " 57%|██████████████████████████████████████████████▊                                   | 52/91 [03:04<02:11,  3.36s/it]"
     ]
    },
    {
     "name": "stdout",
     "output_type": "stream",
     "text": [
      "{'Result': 60}\n",
      "Hello\n",
      "{'Result': 10}\n"
     ]
    },
    {
     "name": "stderr",
     "output_type": "stream",
     "text": [
      " 58%|███████████████████████████████████████████████▊                                  | 53/91 [03:07<01:57,  3.10s/it]"
     ]
    },
    {
     "name": "stdout",
     "output_type": "stream",
     "text": [
      "{'result': 15}\n",
      "negative\n",
      "'Result'\n",
      "Hello\n",
      "{'Result': 10}\n",
      "{'Result': 15}\n"
     ]
    },
    {
     "name": "stderr",
     "output_type": "stream",
     "text": [
      " 59%|████████████████████████████████████████████████▋                                 | 54/91 [03:10<02:00,  3.26s/it]"
     ]
    },
    {
     "name": "stdout",
     "output_type": "stream",
     "text": [
      "{'Result': 10}\n",
      "Hello\n",
      "{'Result': 90}\n",
      "{'Result': 85}\n"
     ]
    },
    {
     "name": "stderr",
     "output_type": "stream",
     "text": [
      " 60%|█████████████████████████████████████████████████▌                                | 55/91 [03:14<01:57,  3.26s/it]"
     ]
    },
    {
     "name": "stdout",
     "output_type": "stream",
     "text": [
      "{'Result': 85}\n",
      "Hello\n",
      "{'Result': 85}\n",
      "{'Result': 85}\n"
     ]
    },
    {
     "name": "stderr",
     "output_type": "stream",
     "text": [
      " 62%|██████████████████████████████████████████████████▍                               | 56/91 [03:17<01:50,  3.17s/it]"
     ]
    },
    {
     "name": "stdout",
     "output_type": "stream",
     "text": [
      "{'Result': 85}\n",
      "Hello\n",
      "{'Result': 90}\n",
      "{'Result': 90}\n"
     ]
    },
    {
     "name": "stderr",
     "output_type": "stream",
     "text": [
      " 63%|███████████████████████████████████████████████████▎                              | 57/91 [03:20<01:46,  3.14s/it]"
     ]
    },
    {
     "name": "stdout",
     "output_type": "stream",
     "text": [
      "{'Result': 90}\n",
      "Hello\n",
      "{'Result': 85}\n",
      "{'Result': 85}\n"
     ]
    },
    {
     "name": "stderr",
     "output_type": "stream",
     "text": [
      " 64%|████████████████████████████████████████████████████▎                             | 58/91 [03:24<01:54,  3.48s/it]"
     ]
    },
    {
     "name": "stdout",
     "output_type": "stream",
     "text": [
      "{'Result': 85}\n",
      "Hello\n"
     ]
    },
    {
     "name": "stderr",
     "output_type": "stream",
     "text": [
      " 65%|█████████████████████████████████████████████████████▏                            | 59/91 [03:25<01:32,  2.90s/it]"
     ]
    },
    {
     "name": "stdout",
     "output_type": "stream",
     "text": [
      "negative\n",
      "'Reason'\n",
      "Hello\n",
      "{'Result': 90}\n",
      "{'Result': 85}\n"
     ]
    },
    {
     "name": "stderr",
     "output_type": "stream",
     "text": [
      " 66%|██████████████████████████████████████████████████████                            | 60/91 [03:29<01:36,  3.12s/it]"
     ]
    },
    {
     "name": "stdout",
     "output_type": "stream",
     "text": [
      "{'Result': 85}\n",
      "Hello\n",
      "{'Result': 85}\n",
      "{'Result': 90}\n"
     ]
    },
    {
     "name": "stderr",
     "output_type": "stream",
     "text": [
      " 67%|██████████████████████████████████████████████████████▉                           | 61/91 [03:33<01:41,  3.40s/it]"
     ]
    },
    {
     "name": "stdout",
     "output_type": "stream",
     "text": [
      "{'Result': 85}\n",
      "Hello\n",
      "{'Result': 95}\n",
      "{'Result': 75}\n"
     ]
    },
    {
     "name": "stderr",
     "output_type": "stream",
     "text": [
      " 68%|███████████████████████████████████████████████████████▊                          | 62/91 [03:36<01:37,  3.36s/it]"
     ]
    },
    {
     "name": "stdout",
     "output_type": "stream",
     "text": [
      "{'Result': 85}\n",
      "Hello\n",
      "{'Result': 10}\n",
      "{'Result': '10'}\n"
     ]
    },
    {
     "name": "stderr",
     "output_type": "stream",
     "text": [
      " 69%|████████████████████████████████████████████████████████▊                         | 63/91 [03:40<01:35,  3.41s/it]"
     ]
    },
    {
     "name": "stdout",
     "output_type": "stream",
     "text": [
      "{'Result': 15}\n",
      "Hello\n"
     ]
    },
    {
     "name": "stderr",
     "output_type": "stream",
     "text": [
      " 70%|█████████████████████████████████████████████████████████▋                        | 64/91 [03:42<01:19,  2.94s/it]"
     ]
    },
    {
     "name": "stdout",
     "output_type": "stream",
     "text": [
      "negative\n",
      "'Reason'\n",
      "Hello\n"
     ]
    },
    {
     "name": "stderr",
     "output_type": "stream",
     "text": [
      " 71%|██████████████████████████████████████████████████████████▌                       | 65/91 [03:44<01:13,  2.84s/it]"
     ]
    },
    {
     "name": "stdout",
     "output_type": "stream",
     "text": [
      "negative\n",
      "'Reason'\n",
      "Hello\n",
      "{'Result': 90}\n",
      "{'Result': 90}\n"
     ]
    },
    {
     "name": "stderr",
     "output_type": "stream",
     "text": [
      " 73%|███████████████████████████████████████████████████████████▍                      | 66/91 [03:49<01:22,  3.32s/it]"
     ]
    },
    {
     "name": "stdout",
     "output_type": "stream",
     "text": [
      "{'Result': 90}\n",
      "Hello\n",
      "{'Result': 85}\n",
      "{'Result': 85}\n"
     ]
    },
    {
     "name": "stderr",
     "output_type": "stream",
     "text": [
      " 74%|████████████████████████████████████████████████████████████▎                     | 67/91 [03:52<01:20,  3.35s/it]"
     ]
    },
    {
     "name": "stdout",
     "output_type": "stream",
     "text": [
      "{'Result': 85}\n",
      "Hello\n",
      "{'Result': 85}\n",
      "{'Result': 75}\n"
     ]
    },
    {
     "name": "stderr",
     "output_type": "stream",
     "text": [
      " 75%|█████████████████████████████████████████████████████████████▎                    | 68/91 [03:57<01:27,  3.81s/it]"
     ]
    },
    {
     "name": "stdout",
     "output_type": "stream",
     "text": [
      "{'Result': 85}\n",
      "Hello\n",
      "{'Result': 90}\n",
      "{'Result': 85}\n"
     ]
    },
    {
     "name": "stderr",
     "output_type": "stream",
     "text": [
      " 76%|██████████████████████████████████████████████████████████████▏                   | 69/91 [04:01<01:25,  3.91s/it]"
     ]
    },
    {
     "name": "stdout",
     "output_type": "stream",
     "text": [
      "{'Result': 85}\n",
      "Hello\n",
      "{'Result': 75}\n",
      "{'Result': 75}\n"
     ]
    },
    {
     "name": "stderr",
     "output_type": "stream",
     "text": [
      " 77%|███████████████████████████████████████████████████████████████                   | 70/91 [04:04<01:15,  3.57s/it]"
     ]
    },
    {
     "name": "stdout",
     "output_type": "stream",
     "text": [
      "{'Result': 75}\n",
      "Hello\n",
      "{'Result': 85}\n",
      "{'Result': 80}\n"
     ]
    },
    {
     "name": "stderr",
     "output_type": "stream",
     "text": [
      " 78%|███████████████████████████████████████████████████████████████▉                  | 71/91 [04:07<01:08,  3.44s/it]"
     ]
    },
    {
     "name": "stdout",
     "output_type": "stream",
     "text": [
      "{'Result': 85}\n",
      "Hello\n"
     ]
    },
    {
     "name": "stderr",
     "output_type": "stream",
     "text": [
      " 79%|████████████████████████████████████████████████████████████████▉                 | 72/91 [04:09<00:58,  3.07s/it]"
     ]
    },
    {
     "name": "stdout",
     "output_type": "stream",
     "text": [
      "negative\n",
      "'Reason'\n",
      "Hello\n",
      "{'Result': 20}\n",
      "{'Result': 20}\n"
     ]
    },
    {
     "name": "stderr",
     "output_type": "stream",
     "text": [
      " 80%|█████████████████████████████████████████████████████████████████▊                | 73/91 [04:14<01:02,  3.48s/it]"
     ]
    },
    {
     "name": "stdout",
     "output_type": "stream",
     "text": [
      "{'Result': 15}\n",
      "Hello\n",
      "{'Result': 10}\n",
      "{'Result': 10}\n"
     ]
    },
    {
     "name": "stderr",
     "output_type": "stream",
     "text": [
      " 81%|██████████████████████████████████████████████████████████████████▋               | 74/91 [04:17<00:55,  3.24s/it]"
     ]
    },
    {
     "name": "stdout",
     "output_type": "stream",
     "text": [
      "{'Result': 10}\n",
      "Hello\n",
      "{'Result': 85}\n",
      "{'Result': 85}\n"
     ]
    },
    {
     "name": "stderr",
     "output_type": "stream",
     "text": [
      " 82%|███████████████████████████████████████████████████████████████████▌              | 75/91 [04:20<00:52,  3.28s/it]"
     ]
    },
    {
     "name": "stdout",
     "output_type": "stream",
     "text": [
      "{'Result': 85}\n",
      "Hello\n",
      "{'Result': 90}\n",
      "{'Result': 90}\n"
     ]
    },
    {
     "name": "stderr",
     "output_type": "stream",
     "text": [
      " 84%|████████████████████████████████████████████████████████████████████▍             | 76/91 [04:23<00:48,  3.22s/it]"
     ]
    },
    {
     "name": "stdout",
     "output_type": "stream",
     "text": [
      "{'Result': 95}\n",
      "Hello\n",
      "{'Result': 85}\n",
      "{'Result': 85}\n"
     ]
    },
    {
     "name": "stderr",
     "output_type": "stream",
     "text": [
      " 85%|█████████████████████████████████████████████████████████████████████▍            | 77/91 [04:26<00:44,  3.14s/it]"
     ]
    },
    {
     "name": "stdout",
     "output_type": "stream",
     "text": [
      "{'Result': 90}\n",
      "Hello\n",
      "{'Result': 10}\n",
      "{'Result': 10}\n"
     ]
    },
    {
     "name": "stderr",
     "output_type": "stream",
     "text": [
      " 86%|██████████████████████████████████████████████████████████████████████▎           | 78/91 [04:30<00:43,  3.35s/it]"
     ]
    },
    {
     "name": "stdout",
     "output_type": "stream",
     "text": [
      "{'Result': 10}\n",
      "Hello\n",
      "{'Result': 25}\n",
      "{'Result': 40}\n"
     ]
    },
    {
     "name": "stderr",
     "output_type": "stream",
     "text": [
      " 87%|███████████████████████████████████████████████████████████████████████▏          | 79/91 [04:33<00:38,  3.23s/it]"
     ]
    },
    {
     "name": "stdout",
     "output_type": "stream",
     "text": [
      "{'Result': 35}\n",
      "Hello\n",
      "{'Result': 30}\n",
      "{'Result': 20}\n"
     ]
    },
    {
     "name": "stderr",
     "output_type": "stream",
     "text": [
      " 88%|████████████████████████████████████████████████████████████████████████          | 80/91 [04:36<00:34,  3.13s/it]"
     ]
    },
    {
     "name": "stdout",
     "output_type": "stream",
     "text": [
      "{'Result': 25}\n",
      "Hello\n",
      "{'Result': 95}\n",
      "{'Result': 95}\n"
     ]
    },
    {
     "name": "stderr",
     "output_type": "stream",
     "text": [
      " 89%|████████████████████████████████████████████████████████████████████████▉         | 81/91 [04:40<00:35,  3.51s/it]"
     ]
    },
    {
     "name": "stdout",
     "output_type": "stream",
     "text": [
      "{'Result': 95}\n",
      "Hello\n",
      "{'Result': 15}\n",
      "{'Result': 15}\n"
     ]
    },
    {
     "name": "stderr",
     "output_type": "stream",
     "text": [
      " 90%|█████████████████████████████████████████████████████████████████████████▉        | 82/91 [04:43<00:30,  3.43s/it]"
     ]
    },
    {
     "name": "stdout",
     "output_type": "stream",
     "text": [
      "{'Result': 15}\n",
      "Hello\n",
      "{'Result': 90}\n",
      "{'Result': 90}\n"
     ]
    },
    {
     "name": "stderr",
     "output_type": "stream",
     "text": [
      " 91%|██████████████████████████████████████████████████████████████████████████▊       | 83/91 [04:46<00:26,  3.37s/it]"
     ]
    },
    {
     "name": "stdout",
     "output_type": "stream",
     "text": [
      "{'Result': 85}\n",
      "Hello\n",
      "{'Result': 90}\n",
      "{'Result': 90}\n"
     ]
    },
    {
     "name": "stderr",
     "output_type": "stream",
     "text": [
      " 92%|███████████████████████████████████████████████████████████████████████████▋      | 84/91 [04:50<00:23,  3.33s/it]"
     ]
    },
    {
     "name": "stdout",
     "output_type": "stream",
     "text": [
      "{'Result': 90}\n",
      "Hello\n",
      "{'Result': 85}\n",
      "{'Result': 85}\n"
     ]
    },
    {
     "name": "stderr",
     "output_type": "stream",
     "text": [
      " 93%|████████████████████████████████████████████████████████████████████████████▌     | 85/91 [04:54<00:21,  3.54s/it]"
     ]
    },
    {
     "name": "stdout",
     "output_type": "stream",
     "text": [
      "{'Result': 85}\n",
      "Hello\n",
      "{'Result': 10}\n",
      "{'Result': '10'}\n"
     ]
    },
    {
     "name": "stderr",
     "output_type": "stream",
     "text": [
      " 95%|█████████████████████████████████████████████████████████████████████████████▍    | 86/91 [04:57<00:17,  3.44s/it]"
     ]
    },
    {
     "name": "stdout",
     "output_type": "stream",
     "text": [
      "{'Result': 10}\n",
      "Hello\n",
      "{'Result': 80}\n",
      "{'Result': 90}\n"
     ]
    },
    {
     "name": "stderr",
     "output_type": "stream",
     "text": [
      " 96%|██████████████████████████████████████████████████████████████████████████████▍   | 87/91 [05:01<00:13,  3.47s/it]"
     ]
    },
    {
     "name": "stdout",
     "output_type": "stream",
     "text": [
      "{'Result': 85}\n",
      "Hello\n"
     ]
    },
    {
     "name": "stderr",
     "output_type": "stream",
     "text": [
      " 97%|███████████████████████████████████████████████████████████████████████████████▎  | 88/91 [05:03<00:09,  3.07s/it]"
     ]
    },
    {
     "name": "stdout",
     "output_type": "stream",
     "text": [
      "negative\n",
      "'Reason'\n",
      "Hello\n"
     ]
    },
    {
     "name": "stderr",
     "output_type": "stream",
     "text": [
      " 98%|████████████████████████████████████████████████████████████████████████████████▏ | 89/91 [06:09<00:43, 21.97s/it]"
     ]
    },
    {
     "name": "stdout",
     "output_type": "stream",
     "text": [
      "negative\n",
      "Expecting value: line 1132 column 2 (char 1237)\n",
      "Hello\n",
      "{'Result': 60}\n",
      "{'Result': 60}\n"
     ]
    },
    {
     "name": "stderr",
     "output_type": "stream",
     "text": [
      " 99%|█████████████████████████████████████████████████████████████████████████████████ | 90/91 [06:12<00:16, 16.38s/it]"
     ]
    },
    {
     "name": "stdout",
     "output_type": "stream",
     "text": [
      "{'Result': 60}\n",
      "Hello\n",
      "{'Result': 10}\n",
      "{'Result': 10}\n"
     ]
    },
    {
     "name": "stderr",
     "output_type": "stream",
     "text": [
      "100%|██████████████████████████████████████████████████████████████████████████████████| 91/91 [06:16<00:00,  4.13s/it]"
     ]
    },
    {
     "name": "stdout",
     "output_type": "stream",
     "text": [
      "{'Result': '10'}\n"
     ]
    },
    {
     "name": "stderr",
     "output_type": "stream",
     "text": [
      "\n"
     ]
    }
   ],
   "source": [
    "\n",
    "\n",
    "completed_records = []\n",
    "for record in tqdm(chemical_records):  # tqdmは進捗状況を表示\n",
    "    try:\n",
    "        print(\"Hello\")\n",
    "            # generate_reason_and_predict関数により、理由生成と予測実行\n",
    "        completed_record = generate_reason_and_predict_mixture(\n",
    "            substance1=record[\"substance1\"],\n",
    "            substance2=record[\"substance2\"],\n",
    "            result=record[\"result\"],  # resultは混合物の危険性判定の結果\n",
    "            qa_gen_command=qa_gen_command,  # 理由を尋ねるための指示\n",
    "            predict_command=predict_command,  # 予測を行うための指示\n",
    "            llm_ask_func=json_generate,  # LLM関数\n",
    "    #            smiles=record.get(\"smiles\", \"\"),  # SMILES情報（存在する場合）\n",
    "            gen_reason=gen_reason,  # 理由を生成するかどうか\n",
    "            n_trials=n_trials  # 予測を試みる回数\n",
    "        )\n",
    "#        print(completed_record)\n",
    "    except Exception as e:\n",
    "        print(\"negative\")\n",
    "#        traceback.print_exc()\n",
    "        print(e)  # 例外が発生した場合にエラーを表示\n",
    "        completed_record = record  # 例外が発生した場合は元のレコードを使用\n",
    "\n",
    "    completed_records.append(completed_record)  # 処理されたレコードをリストに追加\n"
   ]
  },
  {
   "cell_type": "code",
   "execution_count": 11,
   "metadata": {},
   "outputs": [
    {
     "data": {
      "text/plain": [
       "[{'substance1': 'CARBON, ACTIVATED',\n",
       "  'substance2': 'FERRIC SULFATE',\n",
       "  'result': 'Compatible',\n",
       "  'generated_reason': 'The combination of activated carbon and ferric sulfate can lead to exothermic reactions, as ferric sulfate is a strong oxidizing agent, and the activated carbon can act as a fuel. This can result in the release of heat and potentially hazardous conditions. Therefore, the mixture of activated carbon and ferric sulfate is incompatible and should be handled with care.',\n",
       "  'predicted_results': [85, 85, 85]},\n",
       " {'substance1': 'ALUMINUM ALKYL HYDRIDES',\n",
       "  'substance2': 'FERRIC NITRATE',\n",
       "  'result': 'Incompatible',\n",
       "  'generated_reason': 'The combination of aluminum alkyl hydrides and ferric nitrate can lead to a violent reaction due to the potential for ligand exchange between the alkyl groups and the nitrate ligands. This could result in the release of flammable or toxic gases, as well as the formation of unstable intermediates, posing a significant safety hazard.',\n",
       "  'predicted_results': [85, 85, 85]},\n",
       " {'substance1': 'CARBON, ACTIVATED',\n",
       "  'substance2': 'METHANE',\n",
       "  'result': 'Compatible',\n",
       "  'generated_reason': 'Activated carbon has a high surface area and can adsorb methane, which may lead to the formation of explosive gas mixtures. The high adsorption capacity of activated carbon can also deplete the oxygen concentration, increasing the risk of suffocation in confined spaces.',\n",
       "  'predicted_results': [75, 80, 75]},\n",
       " {'substance1': 'AIR, COMPRESSED',\n",
       "  'substance2': 'WATER',\n",
       "  'result': 'Compatible',\n",
       "  'generated_reason': 'The solubility of gases in water is influenced by factors such as temperature and pressure. Compressed air, which consists primarily of nitrogen and oxygen, can dissolve in water to some extent. Under normal conditions, the solubility of compressed air in water poses no significant reactivity or incompatibility issues, making the mixture compatible.',\n",
       "  'predicted_results': [10, 10, 15]},\n",
       " {'substance1': 'ALUMINUM ALKYL HYDRIDES',\n",
       "  'substance2': 'WATER',\n",
       "  'result': 'Incompatible'}]"
      ]
     },
     "execution_count": 11,
     "metadata": {},
     "output_type": "execute_result"
    }
   ],
   "source": [
    "completed_records"
   ]
  },
  {
   "cell_type": "code",
   "execution_count": 16,
   "metadata": {},
   "outputs": [],
   "source": [
    "#save\n",
    "import datetime\n",
    "import json\n",
    "\n",
    "study_name=\"mixture_practice_w_reason_numeric\"\n",
    "now=datetime.datetime.now()\n",
    "now_str=now.strftime(\"%Y%m%d_%H%M%S\")\n",
    "save_path=f\"results/{study_name}_{now_str}.json\"\n",
    "with open(save_path, 'w', encoding = \"utf-8\") as f:\n",
    "    json.dump(completed_records, f, indent=4, ensure_ascii=False)"
   ]
  },
  {
   "cell_type": "code",
   "execution_count": null,
   "metadata": {},
   "outputs": [],
   "source": []
  }
 ],
 "metadata": {
  "kernelspec": {
   "display_name": "Python 3 (ipykernel)",
   "language": "python",
   "name": "python3"
  },
  "language_info": {
   "codemirror_mode": {
    "name": "ipython",
    "version": 3
   },
   "file_extension": ".py",
   "mimetype": "text/x-python",
   "name": "python",
   "nbconvert_exporter": "python",
   "pygments_lexer": "ipython3",
   "version": "3.10.11"
  }
 },
 "nbformat": 4,
 "nbformat_minor": 4
}
